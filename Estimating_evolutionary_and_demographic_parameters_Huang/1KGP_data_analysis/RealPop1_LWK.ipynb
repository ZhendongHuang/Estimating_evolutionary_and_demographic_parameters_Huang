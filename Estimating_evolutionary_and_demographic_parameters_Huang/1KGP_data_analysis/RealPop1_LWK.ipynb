{
 "cells": [
  {
   "cell_type": "code",
   "execution_count": 1,
   "id": "cb4c5e28",
   "metadata": {},
   "outputs": [
    {
     "name": "stdout",
     "output_type": "stream",
     "text": [
      "siteuse_rea 235622\n",
      "numibd 202906\n",
      "done gene\n",
      "done mu\n",
      "siteuse_sim 73690\n",
      "numibd 49092\n",
      "-----------------------------------\n",
      "current_pop [3653.8461538461524]\n",
      "[2004887] 4373507\n",
      "[228] 1246\n",
      "[252913.46520818057] 61191.03345391462\n",
      "[574513.2222592189] 186687.3637054744\n",
      "153.24276328086853 0\n",
      "-----------------------------------\n",
      "done gene\n",
      "done mu\n",
      "siteuse_sim 71396\n",
      "numibd 49062\n",
      "-----------------------------------\n",
      "current_pop [3653.8461538461524, 3653.8461538461524]\n",
      "[2004887, 1845658] 4373507\n",
      "[228, 164] 1246\n",
      "[252913.46520818057, 253068.11450817334] 61191.03345391462\n",
      "[574513.2222592189, 570253.9735537305] 186687.3637054744\n",
      "300.6347608566284 1\n",
      "-----------------------------------\n",
      "done gene\n",
      "done mu\n",
      "siteuse_sim 80006\n",
      "numibd 56667\n",
      "-----------------------------------\n",
      "current_pop [3653.8461538461524, 3653.8461538461524, 7454.697880374698]\n",
      "[2004887, 1845658, 1978240] 4373507\n",
      "[228, 164, 124] 1246\n",
      "[252913.46520818057, 253068.11450817334, 219105.08468773714] 61191.03345391462\n",
      "[574513.2222592189, 570253.9735537305, 493037.996742682] 186687.3637054744\n",
      "469.81083059310913 2\n",
      "-----------------------------------\n",
      "done gene\n",
      "done mu\n",
      "siteuse_sim 83000\n",
      "numibd 57490\n",
      "-----------------------------------\n",
      "current_pop [3653.8461538461524, 3653.8461538461524, 7454.697880374698, 7454.697880374698]\n",
      "[2004887, 1845658, 1978240, 2045256] 4373507\n",
      "[228, 164, 124, 140] 1246\n",
      "[252913.46520818057, 253068.11450817334, 219105.08468773714, 215968.47858758044] 61191.03345391462\n",
      "[574513.2222592189, 570253.9735537305, 493037.996742682, 488484.6394612719] 186687.3637054744\n",
      "638.6174886226654 3\n",
      "-----------------------------------\n",
      "done gene\n",
      "done mu\n",
      "siteuse_sim 70440\n",
      "numibd 49625\n",
      "-----------------------------------\n",
      "current_pop [3653.8461538461524, 3653.8461538461524, 7454.697880374698, 7454.697880374698, 3653.846153846156]\n",
      "[2004887, 1845658, 1978240, 2045256, 1793351] 4373507\n",
      "[228, 164, 124, 140, 114] 1246\n",
      "[252913.46520818057, 253068.11450817334, 219105.08468773714, 215968.47858758044, 250197.03443828714] 61191.03345391462\n",
      "[574513.2222592189, 570253.9735537305, 493037.996742682, 488484.6394612719, 559010.3565838945] 186687.3637054744\n",
      "789.9684710502625 4\n",
      "-----------------------------------\n",
      "done gene\n",
      "done mu\n",
      "siteuse_sim 70658\n",
      "numibd 50684\n",
      "-----------------------------------\n",
      "current_pop [3653.8461538461524, 3653.8461538461524, 7454.697880374698, 7454.697880374698, 3653.846153846156, 3653.846153846156]\n",
      "[2004887, 1845658, 1978240, 2045256, 1793351, 1826841] 4373507\n",
      "[228, 164, 124, 140, 114, 144] 1246\n",
      "[252913.46520818057, 253068.11450817334, 219105.08468773714, 215968.47858758044, 250197.03443828714, 244969.37562149792] 61191.03345391462\n",
      "[574513.2222592189, 570253.9735537305, 493037.996742682, 488484.6394612719, 559010.3565838945, 555069.6204547792] 186687.3637054744\n",
      "944.446914434433 5\n",
      "-----------------------------------\n"
     ]
    }
   ],
   "source": [
    "import argparse\n",
    "import os\n",
    "import re\n",
    "import numpy as np\n",
    "\n",
    "import statistics\n",
    "import msprime\n",
    "from IPython.display import SVG, display\n",
    "import tsinfer\n",
    "import scipy\n",
    "import math\n",
    "import numpy\n",
    "import tskit\n",
    "import io\n",
    "import builtins\n",
    "import sys\n",
    "from tqdm.notebook import tqdm\n",
    "from tskit import MISSING_DATA\n",
    "import pickle\n",
    "import random\n",
    "import matplotlib.pyplot as plt\n",
    "import cvxopt as opt\n",
    "from cvxopt import matrix, spmatrix, sparse\n",
    "from cvxopt.solvers import qp, options\n",
    "from cvxopt import blas\n",
    "from cvxopt import spdiag\n",
    "import statsmodels\n",
    "from statsmodels.nonparametric.kernel_regression import KernelReg\n",
    "from scipy.signal import savgol_filter\n",
    "import time\n",
    "import bisect\n",
    "\n",
    "\n",
    "def find_s(elem, sorted_list):\n",
    "    'Locate the leftmost value exactly equal to x'\n",
    "    i = bisect.bisect_left(sorted_list, elem)\n",
    "    if i != len(sorted_list) and sorted_list[i] == elem:\n",
    "        return i\n",
    "\n",
    "\n",
    "def find_s_se(elem, sorted_list):\n",
    "    'Locate the leftmost value smaller or equal to x'\n",
    "    i = bisect.bisect_right(sorted_list, elem)\n",
    "    if i != 0:\n",
    "        return i-1\n",
    "    else:\n",
    "        print(\"error\")\n",
    "\n",
    "\n",
    "def find_s_s(elem, sorted_list):\n",
    "    'Locate the leftmost value smaller or equal to x'\n",
    "    i = bisect.bisect_left(sorted_list, elem)\n",
    "    if i != 0:\n",
    "        return i\n",
    "    else:\n",
    "        return 0\n",
    "\n",
    "    \n",
    "file = open(\"recombination_map.dat\",\"rb\")\n",
    "rmap = pickle.load(file)\n",
    "file.close\n",
    "\n",
    "sam=tsinfer.load(\"tgp_chr20.samples\")\n",
    "\n",
    "LWKlist = []\n",
    "for i in range(len(sam.individuals_population)):\n",
    "    if sam.individuals_population[i]==11:\n",
    "        LWKlist.append(i)\n",
    "newdata = sam.subset(individuals=LWKlist)\n",
    "\n",
    "\n",
    "        \n",
    "seq_len = 63025522\n",
    "sam_size = 99\n",
    "r = rmap\n",
    "mu = 1.375*10**(-8)\n",
    "# gene_conver = 10**(-8)\n",
    "# track_len = 100\n",
    "# epsilon = 0.0001\n",
    "totaliter=1\n",
    "\n",
    "simtime = 100\n",
    "# priormu = [1.0*10**(-8), 2.0*10**(-8)]\n",
    "# prioreps = [0, 0.0002]\n",
    "# accept_threshold = [1000,400]\n",
    "freqconsider = [1,40]\n",
    "priorinipop = [60000, 5000]\n",
    "\n",
    "\n",
    "\n",
    "\n",
    "\n",
    "inipopsimlist = []\n",
    "\n",
    "summary_sta1_simlist = []\n",
    "summary_sta2_simlist = []\n",
    "summary_sta3_simlist = []\n",
    "summary_sta4_simlist = []\n",
    "\n",
    "\n",
    "for iter in range(totaliter):\n",
    "\n",
    "    sitefreq = numpy.sum(newdata.sites_genotypes,1)\n",
    "    siteuse =  numpy.where( (sitefreq>freqconsider[0] ) * ( sitefreq<freqconsider[1] ) )[0]  \n",
    "    print(\"siteuse_rea\",len(siteuse))\n",
    "\n",
    "    datause = newdata.subset(sites = siteuse)\n",
    "\n",
    "    inferred_ts = tsinfer.infer(datause,path_compression=False)\n",
    "\n",
    "\n",
    "\n",
    "    mts = inferred_ts\n",
    "\n",
    "    ###############################################################################\n",
    "    msites = mts.tables.mutations.site\n",
    "    sitepos = mts.tables.sites.position\n",
    "    mpos = []\n",
    "    for i in range(len(msites)):\n",
    "        cursite = msites[i]\n",
    "        mpos.append(sitepos[cursite])\n",
    "    mpos = numpy.array(mpos)\n",
    "    mnodes = mts.tables.mutations.node\n",
    "    ec = mts.tables.edges.child\n",
    "    ep = mts.tables.edges.parent\n",
    "    el = mts.tables.edges.left\n",
    "    er = mts.tables.edges.right\n",
    "\n",
    "\n",
    "    leftmost = min(el)\n",
    "    rightmost = max(er)\n",
    "    for i in range(len(el)):\n",
    "        if el[i] == leftmost:\n",
    "            el[i] = 0\n",
    "        if er[i] == rightmost:\n",
    "            er[i] = seq_len\n",
    "\n",
    "\n",
    "    if len(mpos) == 0:\n",
    "        mpos_sn = []\n",
    "        mnodes_sn = []\n",
    "    else:\n",
    "        mnp_sn = numpy.transpose(sorted(numpy.transpose(numpy.array([mnodes,mpos])).tolist()))\n",
    "        mnodes_sn = mnp_sn[0]\n",
    "        mpos_sn = mnp_sn[1]\n",
    "\n",
    "    eclrp_sc = numpy.transpose(sorted(numpy.transpose(numpy.array([ec,el,er,ep])).tolist()))\n",
    "    ec_sc = eclrp_sc[0]\n",
    "    el_sc = eclrp_sc[1]\n",
    "    er_sc = eclrp_sc[2]\n",
    "    ep_sc = eclrp_sc[3]\n",
    "    enm_sc = [[] for i in range(len(ec_sc))]\n",
    "\n",
    "    curedge = 0\n",
    "    for i in range(len(mnodes_sn)):\n",
    "        curnodemu = mnodes_sn[i] \n",
    "        cursitemu = mpos_sn[i]\n",
    "        for j in range(curedge,len(ec_sc)):\n",
    "            if curnodemu == ec_sc[j]:\n",
    "\n",
    "                if er_sc[j] > cursitemu and el_sc[j] <= cursitemu:\n",
    "\n",
    "                    enm_sc[j].append(cursitemu)  \n",
    "\n",
    "                    curedge = j\n",
    "                    break\n",
    "                if el_sc[j] > cursitemu:\n",
    "                    curedge = j\n",
    "                    break\n",
    "\n",
    "            if ec_sc[j] > mnodes_sn[i] or j == len(ec_sc)-1:\n",
    "                #print(\"missing mutations\")\n",
    "                curedge = j\n",
    "                break\n",
    "\n",
    "\n",
    "\n",
    "\n",
    "    ###########################################################################\n",
    "    ###########################################################################\n",
    "    ##########################################################################\n",
    "\n",
    "    clocate = []\n",
    "    curc = -1\n",
    "    for i in range(len(ec_sc)):\n",
    "        while ec_sc[i] != curc:\n",
    "            curc=curc+1\n",
    "            clocate.append(i)\n",
    "    clocate.append(len(ec_sc))\n",
    "\n",
    "\n",
    "\n",
    "\n",
    "    abdlist = []\n",
    "\n",
    "    for i in range(0,2*sam_size-1):\n",
    "        for j in range(i+1,i+2):\n",
    "            canabd = []\n",
    "            curleft = 0\n",
    "            curright =seq_len\n",
    "            #start = 0\n",
    "            while curleft != seq_len:\n",
    "                curp1 = i\n",
    "                curp2 = j \n",
    "                curmed = []\n",
    "                while curp1 != curp2:\n",
    "                    if curp1 < curp2:\n",
    "                        begin1 = clocate[curp1]\n",
    "                        end = clocate[curp1+1]\n",
    "                        s_range = el_sc[begin1:end]\n",
    "                        begin2 = find_s_se(curleft,s_range)\n",
    "                        for k in range(begin1+begin2,end):\n",
    "                            if el_sc[k]<=curleft and er_sc[k] > curleft:\n",
    "                                curp1 = int(ep_sc[k])\n",
    "                                curoldr = curright\n",
    "                                curright = min(er_sc[k],curright)\n",
    "\n",
    "                                curmed.append(k)\n",
    "\n",
    "                                break\n",
    "\n",
    "                    else:\n",
    "                        begin1 = clocate[curp2]\n",
    "                        end = clocate[curp2+1]\n",
    "                        s_range = el_sc[begin1:end]\n",
    "                        begin2 = find_s_se(curleft,s_range)\n",
    "                        for k in range(begin1+begin2,end):\n",
    "                            if el_sc[k]<=curleft and er_sc[k] > curleft:\n",
    "                                curp2 = int(ep_sc[k])\n",
    "                                curoldr = curright\n",
    "                                curright = min(er_sc[k],curright) \n",
    "\n",
    "                                curmed.append(k)\n",
    "\n",
    "                                break\n",
    "\n",
    "                canmution = []\n",
    "                for k in range(len(curmed)):\n",
    "                    edgemu = enm_sc[curmed[k]]\n",
    "                    startt = find_s_s(curleft,edgemu)\n",
    "                    endd = find_s_s(curright,edgemu)                    \n",
    "                    canmution = canmution + edgemu[startt:endd] \n",
    "\n",
    "                canabd.append([i,j,curleft,curright,curp1,canmution])\n",
    "                curleft = curright\n",
    "                curright = seq_len\n",
    "\n",
    "\n",
    "\n",
    "\n",
    "\n",
    "            if len(canabd)==1:\n",
    "                abdlist = abdlist + canabd\n",
    "            else:\n",
    "                curabd = [canabd[0][0],canabd[0][1],canabd[0][2],canabd[0][3],canabd[0][4],canabd[0][5]]\n",
    "                for k in range(1,len(canabd)):\n",
    "                    if canabd[k][4] != canabd[k-1][4]:\n",
    "                        abdlist.append(curabd)\n",
    "                        curabd = [canabd[k][0],canabd[k][1],canabd[k][2],canabd[k][3],canabd[k][4],canabd[k][5]]\n",
    "                    else:\n",
    "                        curabd[3] = canabd[k][3]\n",
    "                        curabd[5] = curabd[5] + canabd[k][5]\n",
    "                    if k == len(canabd)-1:\n",
    "                        abdlist.append(curabd)\n",
    "\n",
    "\n",
    "\n",
    "#             print(\"abdlist sample:\",i)\n",
    "    print(\"numibd\",len(abdlist))\n",
    "    \n",
    "    abduse = abdlist\n",
    "\n",
    "#########################################################################\n",
    "\n",
    "    tolnummu = 0\n",
    "    for i in range(len(abduse)):\n",
    "        tolnummu = tolnummu+len(abduse[i][5])\n",
    "\n",
    "\n",
    "    muloclist = np.zeros(tolnummu)\n",
    "    indd = 0\n",
    "    for i in range(len(abduse)):\n",
    "        abdc = abduse[i]\n",
    "        lee = len(abdc[5])\n",
    "        muloclist[indd:(indd+lee)] = abdc[5]\n",
    "        indd = indd+lee\n",
    "\n",
    "    smulist = numpy.sort(muloclist)\n",
    "    count2 = 0\n",
    "    curloc = -1\n",
    "    curcount = 1\n",
    "    for i in range(len(smulist)):\n",
    "        if smulist[i] == curloc:\n",
    "            curcount = curcount+1\n",
    "        else:\n",
    "            if curcount ==2:\n",
    "                count2 = count2+1\n",
    "            curcount = 1\n",
    "            curloc = smulist[i]\n",
    "\n",
    "#         summary_sta1_sim = (len(smulist) - 2*count2)/len(abduse)        \n",
    "#         summary_sta2_sim = (2*count2) / len(abduse)\n",
    "\n",
    "    summary_sta1_inf = (len(smulist) - 2*count2)        \n",
    "    summary_sta2_inf = (2*count2)  \n",
    "\n",
    "\n",
    "\n",
    "\n",
    "########################################################################            \n",
    "\n",
    "\n",
    "\n",
    "    lenlist = numpy.zeros(len(abduse))\n",
    "    for i in range(len(abduse)):\n",
    "        lenlist[i] = abduse[i][3] - abduse[i][2]\n",
    "\n",
    "    summary_sta3_inf = statistics.mean(lenlist) \n",
    "    summary_sta4_inf = statistics.stdev(lenlist) \n",
    "\n",
    "#################################################################################################\n",
    "    stime = time.time()\n",
    "\n",
    "    for run in range(simtime):\n",
    "        \n",
    "        popsim = numpy.random.uniform(priorinipop[0],priorinipop[1])\n",
    "\n",
    "#         if run == 0:\n",
    "#             popsim = 109000\n",
    "\n",
    "#         if run == 1:\n",
    "#             popsim = 109000\n",
    "\n",
    "#         if run == 2:\n",
    "#             popsim = 4000\n",
    "\n",
    "#         if run == 3:\n",
    "#             popsim = 4000\n",
    "           \n",
    "#         if run == 4:\n",
    "#             popsim = 50000\n",
    "         \n",
    "#         if run == 5:\n",
    "#             popsim = 50000\n",
    "   \n",
    "        \n",
    "        \n",
    "        \n",
    "        inipopsimlist.append(popsim)\n",
    "\n",
    "        \n",
    "        \n",
    "#         demo_model = msprime.Demography.isolated_model([popsim], growth_rate=[ratesim])\n",
    "#         demo_model.add_population_parameters_change(800,  initial_size=None, growth_rate=0, population=None)\n",
    "\n",
    "\n",
    "        genpoint = [0*5/5.2,400*5/5.2,800*5/5.2,1200*5/5.2,1600*5/5.2,2000*5/5.2,2400*5/5.2,2800*5/5.2,\\\n",
    "                    3200*5/5.2,3600*5/5.2,4000*5/5.2,8000*5/5.2,12000*5/5.2,16000*5/5.2,20000*5/5.2]\n",
    "        inipopsize =[15200*5/5.2, 15200*5/5.2, 15600*5/5.2, 14800*5/5.2, 12400*5/5.2, 10400*5/5.2,9800*5/5.2,\\\n",
    "                     10400*5/5.2,12000*5/5.2,14400*5/5.2,16800*5/5.2,29400*5/5.2,28000*5/5.2,22000*5/5.2,18000*5/5.2]\n",
    "        genuse = []\n",
    "        inipuse = []\n",
    "        gruse = []\n",
    "        for i in range(len(genpoint)-1):\n",
    "            addplist = []\n",
    "            for j in range(10):\n",
    "                addplist.append(genpoint[i] + (genpoint[i+1]-genpoint[i])/10*j)\n",
    "            genuse = genuse + addplist               \n",
    "        for i in range(len(inipopsize)-1):\n",
    "            addplist = []\n",
    "            for j in range(10):\n",
    "                addplist.append(inipopsize[i] + (inipopsize[i+1]-inipopsize[i])/10*j)\n",
    "            inipuse = inipuse + addplist\n",
    "        genuse.append(genpoint[len(genpoint)-1])\n",
    "        inipuse.append(inipopsize[len(inipopsize)-1])\n",
    "\n",
    "        \n",
    "        ind1000 = 0\n",
    "        for i in range(len(genuse)):\n",
    "            if genuse[i]<1000:\n",
    "                ind1000 = i\n",
    "        ratesim =   -numpy.log(inipuse[ind1000]/popsim )/1000   \n",
    "        for i in range(len(genuse)):\n",
    "            if genuse[i]<1000:\n",
    "                inipuse[i] = popsim*numpy.exp(-ratesim*genuse[i]) \n",
    "        for i in range(len(genuse)-1):\n",
    "            gruse.append( numpy.log( inipuse[i]/inipuse[i+1] )/(genuse[i+1] - genuse[i])  )\n",
    "        gruse.append(0)\n",
    "        \n",
    "\n",
    "        demo_model = msprime.Demography.isolated_model([inipuse[0]], growth_rate=[gruse[0]])\n",
    "        for i in range(1,len(genuse)):\n",
    "            demo_model.add_population_parameters_change(genuse[i],  initial_size=inipuse[i], growth_rate=gruse[i], population=None)\n",
    "\n",
    "                \n",
    "                \n",
    "\n",
    "#         for i in range(len(genuse)-1):\n",
    "#             gruse.append( numpy.log( inipuse[i]/inipuse[i+1] )/(genuse[i+1] - genuse[i])  )\n",
    "#         gruse.append(0)\n",
    "        \n",
    "\n",
    "#         demo_model = msprime.Demography.isolated_model([inipuse[0]], growth_rate=[gruse[0]])\n",
    "#         for i in range(1,len(genuse)):\n",
    "#             demo_model.add_population_parameters_change(genuse[i],  initial_size=inipuse[i], growth_rate=gruse[i], population=None)\n",
    "\n",
    "\n",
    "\n",
    "\n",
    "\n",
    "        ts = msprime.sim_ancestry(\n",
    "            samples=sam_size,\n",
    "            recombination_rate= r, \n",
    "            sequence_length= seq_len,\n",
    "            record_provenance=False,\n",
    "#             population_size = pop_size,\n",
    "#             gene_conversion_rate = gene_conver ,\n",
    "#             gene_conversion_tract_length = track_len,\n",
    "            #random_seed =seed,\n",
    "            #discrete_genome=False\n",
    "            demography = demo_model\n",
    "            )\n",
    "        # Visualise the simulated ancestral history.\n",
    "        #SVG(ts.draw_svg())\n",
    "\n",
    "        #ts.num_trees\n",
    "        \n",
    "        print(\"done gene\")\n",
    "\n",
    "        mts = msprime.sim_mutations(ts, rate = mu,\n",
    "                                    #discrete_genome=False,\n",
    "                                    #random_seed=seed\n",
    "                                  )\n",
    "\n",
    "        print(\"done mu\")\n",
    "\n",
    "        sample_data = tsinfer.SampleData.from_tree_sequence(mts, use_sites_time=None, use_individuals_time=None)\n",
    "\n",
    "    \n",
    "        sitefreq = numpy.sum(sample_data.sites_genotypes,1)\n",
    "        siteuse =  numpy.where( (sitefreq>freqconsider[0] ) * ( sitefreq<freqconsider[1] ) )[0]  \n",
    "        print(\"siteuse_sim\",len(siteuse))\n",
    "\n",
    "        datause = sample_data.subset(sites = siteuse)\n",
    "\n",
    "        inferred_ts = tsinfer.infer(datause,path_compression=False)\n",
    "\n",
    "\n",
    "\n",
    "        mts = inferred_ts\n",
    "\n",
    "        ###############################################################################\n",
    "        msites = mts.tables.mutations.site\n",
    "        sitepos = mts.tables.sites.position\n",
    "        mpos = []\n",
    "        for i in range(len(msites)):\n",
    "            cursite = msites[i]\n",
    "            mpos.append(sitepos[cursite])\n",
    "        mpos = numpy.array(mpos)\n",
    "        mnodes = mts.tables.mutations.node\n",
    "        ec = mts.tables.edges.child\n",
    "        ep = mts.tables.edges.parent\n",
    "        el = mts.tables.edges.left\n",
    "        er = mts.tables.edges.right\n",
    "\n",
    "\n",
    "        leftmost = min(el)\n",
    "        rightmost = max(er)\n",
    "        for i in range(len(el)):\n",
    "            if el[i] == leftmost:\n",
    "                el[i] = 0\n",
    "            if er[i] == rightmost:\n",
    "                er[i] = seq_len\n",
    "\n",
    "\n",
    "        if len(mpos) == 0:\n",
    "            mpos_sn = []\n",
    "            mnodes_sn = []\n",
    "        else:\n",
    "            mnp_sn = numpy.transpose(sorted(numpy.transpose(numpy.array([mnodes,mpos])).tolist()))\n",
    "            mnodes_sn = mnp_sn[0]\n",
    "            mpos_sn = mnp_sn[1]\n",
    "\n",
    "        eclrp_sc = numpy.transpose(sorted(numpy.transpose(numpy.array([ec,el,er,ep])).tolist()))\n",
    "        ec_sc = eclrp_sc[0]\n",
    "        el_sc = eclrp_sc[1]\n",
    "        er_sc = eclrp_sc[2]\n",
    "        ep_sc = eclrp_sc[3]\n",
    "        enm_sc = [[] for i in range(len(ec_sc))]\n",
    "\n",
    "        curedge = 0\n",
    "        for i in range(len(mnodes_sn)):\n",
    "            curnodemu = mnodes_sn[i] \n",
    "            cursitemu = mpos_sn[i]\n",
    "            for j in range(curedge,len(ec_sc)):\n",
    "                if curnodemu == ec_sc[j]:\n",
    "\n",
    "                    if er_sc[j] > cursitemu and el_sc[j] <= cursitemu:\n",
    "\n",
    "                        enm_sc[j].append(cursitemu)  \n",
    "\n",
    "                        curedge = j\n",
    "                        break\n",
    "                    if el_sc[j] > cursitemu:\n",
    "                        curedge = j\n",
    "                        break\n",
    "\n",
    "                if ec_sc[j] > mnodes_sn[i] or j == len(ec_sc)-1:\n",
    "                    #print(\"missing mutations\")\n",
    "                    curedge = j\n",
    "                    break\n",
    "\n",
    "\n",
    "\n",
    "\n",
    "        ###########################################################################\n",
    "        ###########################################################################\n",
    "        ##########################################################################\n",
    "\n",
    "        clocate = []\n",
    "        curc = -1\n",
    "        for i in range(len(ec_sc)):\n",
    "            while ec_sc[i] != curc:\n",
    "                curc=curc+1\n",
    "                clocate.append(i)\n",
    "        clocate.append(len(ec_sc))\n",
    "\n",
    "\n",
    "\n",
    "\n",
    "        abdlist = []\n",
    "\n",
    "        for i in range(0,2*sam_size-1):\n",
    "            for j in range(i+1,i+2):\n",
    "                canabd = []\n",
    "                curleft = 0\n",
    "                curright =seq_len\n",
    "                #start = 0\n",
    "                while curleft != seq_len:\n",
    "                    curp1 = i\n",
    "                    curp2 = j \n",
    "                    curmed = []\n",
    "                    while curp1 != curp2:\n",
    "                        if curp1 < curp2:\n",
    "                            begin1 = clocate[curp1]\n",
    "                            end = clocate[curp1+1]\n",
    "                            s_range = el_sc[begin1:end]\n",
    "                            begin2 = find_s_se(curleft,s_range)\n",
    "                            for k in range(begin1+begin2,end):\n",
    "                                if el_sc[k]<=curleft and er_sc[k] > curleft:\n",
    "                                    curp1 = int(ep_sc[k])\n",
    "                                    curoldr = curright\n",
    "                                    curright = min(er_sc[k],curright)\n",
    "\n",
    "                                    curmed.append(k)\n",
    "\n",
    "                                    break\n",
    "\n",
    "                        else:\n",
    "                            begin1 = clocate[curp2]\n",
    "                            end = clocate[curp2+1]\n",
    "                            s_range = el_sc[begin1:end]\n",
    "                            begin2 = find_s_se(curleft,s_range)\n",
    "                            for k in range(begin1+begin2,end):\n",
    "                                if el_sc[k]<=curleft and er_sc[k] > curleft:\n",
    "                                    curp2 = int(ep_sc[k])\n",
    "                                    curoldr = curright\n",
    "                                    curright = min(er_sc[k],curright) \n",
    "\n",
    "                                    curmed.append(k)\n",
    "\n",
    "                                    break\n",
    "\n",
    "                    canmution = []\n",
    "                    for k in range(len(curmed)):\n",
    "                        edgemu = enm_sc[curmed[k]]\n",
    "                        startt = find_s_s(curleft,edgemu)\n",
    "                        endd = find_s_s(curright,edgemu)                    \n",
    "                        canmution = canmution + edgemu[startt:endd] \n",
    "\n",
    "                    canabd.append([i,j,curleft,curright,curp1,canmution])\n",
    "                    curleft = curright\n",
    "                    curright = seq_len\n",
    "\n",
    "\n",
    "\n",
    "\n",
    "\n",
    "                if len(canabd)==1:\n",
    "                    abdlist = abdlist + canabd\n",
    "                else:\n",
    "                    curabd = [canabd[0][0],canabd[0][1],canabd[0][2],canabd[0][3],canabd[0][4],canabd[0][5]]\n",
    "                    for k in range(1,len(canabd)):\n",
    "                        if canabd[k][4] != canabd[k-1][4]:\n",
    "                            abdlist.append(curabd)\n",
    "                            curabd = [canabd[k][0],canabd[k][1],canabd[k][2],canabd[k][3],canabd[k][4],canabd[k][5]]\n",
    "                        else:\n",
    "                            curabd[3] = canabd[k][3]\n",
    "                            curabd[5] = curabd[5] + canabd[k][5]\n",
    "                        if k == len(canabd)-1:\n",
    "                            abdlist.append(curabd)\n",
    "\n",
    "\n",
    "    #             print(\"abdlist sample:\",i)\n",
    "        print(\"numibd\",len(abdlist))\n",
    "\n",
    "        abduse = abdlist\n",
    "\n",
    "\n",
    "        tolnummu = 0\n",
    "        for i in range(len(abduse)):\n",
    "            tolnummu = tolnummu+len(abduse[i][5])\n",
    "\n",
    "\n",
    "        muloclist = np.zeros(tolnummu)\n",
    "        indd = 0\n",
    "        for i in range(len(abduse)):\n",
    "            abdc = abduse[i]\n",
    "            lee = len(abdc[5])\n",
    "            muloclist[indd:(indd+lee)] = abdc[5]\n",
    "            indd = indd+lee\n",
    "            \n",
    "        smulist = numpy.sort(muloclist)\n",
    "        count2 = 0\n",
    "        curloc = -1\n",
    "        curcount = 1\n",
    "        for i in range(len(smulist)):\n",
    "            if smulist[i] == curloc:\n",
    "                curcount = curcount+1\n",
    "            else:\n",
    "                if curcount ==2:\n",
    "                    count2 = count2+1\n",
    "                curcount = 1\n",
    "                curloc = smulist[i]\n",
    "        \n",
    "#         summary_sta1_sim = (len(smulist) - 2*count2)/len(abduse)        \n",
    "#         summary_sta2_sim = (2*count2) / len(abduse)\n",
    "\n",
    "        summary_sta1_sim = (len(smulist) - 2*count2)        \n",
    "        summary_sta2_sim = (2*count2)  \n",
    "\n",
    "        summary_sta1_simlist.append(summary_sta1_sim)\n",
    "        summary_sta2_simlist.append(summary_sta2_sim)\n",
    "        \n",
    "        \n",
    "########################################################################            \n",
    "        \n",
    "        \n",
    "\n",
    "        lenlist = numpy.zeros(len(abduse))\n",
    "        for i in range(len(abduse)):\n",
    "            lenlist[i] = abduse[i][3] - abduse[i][2]\n",
    "\n",
    "        summary_sta3_simlist.append( statistics.mean(lenlist) )\n",
    "        summary_sta4_simlist.append( statistics.stdev(lenlist) )\n",
    "        \n",
    "        print(\"-----------------------------------\")\n",
    "\n",
    "#         print(inipopsimlist )\n",
    "#         print(iniratesimlist )\n",
    "        print(summary_sta1_simlist,summary_sta1_inf)\n",
    "        print(summary_sta2_simlist,summary_sta2_inf)\n",
    "        print(summary_sta3_simlist,summary_sta3_inf)\n",
    "        print(summary_sta4_simlist,summary_sta4_inf)\n",
    "        print(time.time()-stime, run)\n",
    "        print(\"-----------------------------------\")\n",
    "\n",
    "\n",
    "\n",
    "\n",
    "byrun = 1\n",
    "name1 = \"1M2_ne_realpopsimall_\"+\"run=\"+str(byrun) +\"LWK_efibd.dat\"\n",
    "name3 = \"1M2_ne_realsta1simall_\"+\"run=\"+str(byrun) +\"LWK_efibd.dat\"\n",
    "name4 = \"1M2_ne_realsta2simall_\"+\"run=\"+str(byrun) +\"LWK_efibd.dat\"\n",
    "name5 = \"1M2_ne_realsta1inf_\"+\"run=\"+str(byrun) +\"LWK_efibd.dat\"\n",
    "name6 = \"1M2_ne_realsta2inf_\"+\"run=\"+str(byrun) +\"LWK_efibd.dat\"\n",
    "name7 = \"1M2_ne_realsta3simall_\"+\"run=\"+str(byrun) +\"LWK_efibd.dat\"\n",
    "name8 = \"1M2_ne_realsta4simall_\"+\"run=\"+str(byrun) +\"LWK_efibd.dat\"\n",
    "name9 = \"1M2_ne_realsta3inf_\"+\"run=\"+str(byrun) +\"LWK_efibd.dat\"\n",
    "name10 = \"1M2_ne_realsta4inf_\"+\"run=\"+str(byrun) +\"LWK_efibd.dat\"\n",
    "file = open(name1,\"wb\") \n",
    "pickle.dump(inipopsimlist,file)\n",
    "file.close()\n",
    "file = open(name3,\"wb\") \n",
    "pickle.dump(summary_sta1_simlist,file)\n",
    "file.close()\n",
    "file = open(name4,\"wb\") \n",
    "pickle.dump(summary_sta2_simlist,file)\n",
    "file.close()\n",
    "file = open(name5,\"wb\") \n",
    "pickle.dump(summary_sta1_inf,file)\n",
    "file.close()\n",
    "file = open(name6,\"wb\") \n",
    "pickle.dump(summary_sta2_inf,file)\n",
    "file.close()\n",
    "file = open(name7,\"wb\") \n",
    "pickle.dump(summary_sta3_simlist,file)\n",
    "file.close()\n",
    "file = open(name8,\"wb\") \n",
    "pickle.dump(summary_sta4_simlist,file)\n",
    "file.close()\n",
    "file = open(name9,\"wb\") \n",
    "pickle.dump(summary_sta3_inf,file)\n",
    "file.close()\n",
    "file = open(name10,\"wb\") \n",
    "pickle.dump(summary_sta4_inf,file)\n",
    "file.close()"
   ]
  },
  {
   "cell_type": "code",
   "execution_count": 8,
   "id": "856de915",
   "metadata": {},
   "outputs": [
    {
     "data": {
      "text/plain": [
       "54365.636569180904"
      ]
     },
     "execution_count": 8,
     "metadata": {},
     "output_type": "execute_result"
    }
   ],
   "source": [
    "numpy.exp(0.001*1000)*20000"
   ]
  },
  {
   "cell_type": "code",
   "execution_count": null,
   "id": "0e37f6a9",
   "metadata": {},
   "outputs": [],
   "source": []
  },
  {
   "cell_type": "code",
   "execution_count": null,
   "id": "1f027283",
   "metadata": {},
   "outputs": [],
   "source": []
  },
  {
   "cell_type": "code",
   "execution_count": 273,
   "id": "7f0ae5f5",
   "metadata": {},
   "outputs": [
    {
     "data": {
      "text/plain": [
       "0.0011417817431495782"
      ]
     },
     "execution_count": 273,
     "metadata": {},
     "output_type": "execute_result"
    }
   ],
   "source": [
    "numpy.log(17400/2800)/1600"
   ]
  },
  {
   "cell_type": "code",
   "execution_count": null,
   "id": "283ac458",
   "metadata": {},
   "outputs": [],
   "source": []
  },
  {
   "cell_type": "code",
   "execution_count": 10,
   "id": "7acf9e29",
   "metadata": {},
   "outputs": [
    {
     "name": "stdout",
     "output_type": "stream",
     "text": [
      "[131917.87691659856, 137940.00308222283] 83605.94053328519\n"
     ]
    }
   ],
   "source": [
    "print(summary_sta1_simlist,summary_sta1_inf)"
   ]
  },
  {
   "cell_type": "code",
   "execution_count": 11,
   "id": "ae8eb346",
   "metadata": {},
   "outputs": [
    {
     "name": "stdout",
     "output_type": "stream",
     "text": [
      "[319061.2179425511, 326424.3238242735] 240396.64324638573\n"
     ]
    }
   ],
   "source": [
    "print(summary_sta2_simlist,summary_sta2_inf)"
   ]
  },
  {
   "cell_type": "code",
   "execution_count": null,
   "id": "04bc6fe3",
   "metadata": {},
   "outputs": [],
   "source": []
  },
  {
   "cell_type": "code",
   "execution_count": null,
   "id": "22143835",
   "metadata": {},
   "outputs": [],
   "source": []
  },
  {
   "cell_type": "code",
   "execution_count": null,
   "id": "31e0c6ae",
   "metadata": {},
   "outputs": [],
   "source": []
  },
  {
   "cell_type": "code",
   "execution_count": null,
   "id": "7d2b979c",
   "metadata": {},
   "outputs": [],
   "source": []
  },
  {
   "cell_type": "code",
   "execution_count": null,
   "id": "14825b48",
   "metadata": {},
   "outputs": [],
   "source": []
  },
  {
   "cell_type": "code",
   "execution_count": null,
   "id": "6210252a",
   "metadata": {},
   "outputs": [],
   "source": []
  },
  {
   "cell_type": "code",
   "execution_count": null,
   "id": "0310ab23",
   "metadata": {},
   "outputs": [],
   "source": []
  },
  {
   "cell_type": "code",
   "execution_count": null,
   "id": "252e8a30",
   "metadata": {},
   "outputs": [],
   "source": []
  },
  {
   "cell_type": "code",
   "execution_count": null,
   "id": "6aebcc7d",
   "metadata": {},
   "outputs": [],
   "source": []
  },
  {
   "cell_type": "code",
   "execution_count": null,
   "id": "6199afb8",
   "metadata": {},
   "outputs": [],
   "source": []
  },
  {
   "cell_type": "code",
   "execution_count": 124,
   "id": "f424e133",
   "metadata": {},
   "outputs": [
    {
     "data": {
      "text/plain": [
       "[76000, 76000, 30000, 30000, 120000, 120000]"
      ]
     },
     "execution_count": 124,
     "metadata": {},
     "output_type": "execute_result"
    }
   ],
   "source": [
    "inipopsimlist"
   ]
  },
  {
   "cell_type": "code",
   "execution_count": 125,
   "id": "5c84dcd8",
   "metadata": {},
   "outputs": [
    {
     "data": {
      "text/plain": [
       "[0.0033, 0.0033, 0.004, 0.004, 0.002, 0.002]"
      ]
     },
     "execution_count": 125,
     "metadata": {},
     "output_type": "execute_result"
    }
   ],
   "source": [
    "iniratesimlist"
   ]
  },
  {
   "cell_type": "code",
   "execution_count": null,
   "id": "a0388516",
   "metadata": {},
   "outputs": [],
   "source": []
  },
  {
   "cell_type": "code",
   "execution_count": 129,
   "id": "5c650ad9",
   "metadata": {},
   "outputs": [
    {
     "data": {
      "text/plain": [
       "10886.154394729501"
      ]
     },
     "execution_count": 129,
     "metadata": {},
     "output_type": "execute_result"
    }
   ],
   "source": [
    "120000*numpy.exp(-1200*0.002) "
   ]
  },
  {
   "cell_type": "code",
   "execution_count": 130,
   "id": "ae18e951",
   "metadata": {},
   "outputs": [
    {
     "data": {
      "text/plain": [
       "[2344345.562264151,\n",
       " 2378972.1105032824,\n",
       " 2438101.860213044,\n",
       " 2414636.8784008883,\n",
       " 1396668.7778610426,\n",
       " 1251081.9959723821]"
      ]
     },
     "execution_count": 130,
     "metadata": {},
     "output_type": "execute_result"
    }
   ],
   "source": [
    "summary_sta1_simlist"
   ]
  },
  {
   "cell_type": "code",
   "execution_count": 131,
   "id": "e603cf37",
   "metadata": {},
   "outputs": [
    {
     "data": {
      "text/plain": [
       "[4372968.630850762,\n",
       " 4517109.553498169,\n",
       " 4640203.3000262,\n",
       " 4673087.035534496,\n",
       " 2726643.539254386,\n",
       " 2469605.7512018387]"
      ]
     },
     "execution_count": 131,
     "metadata": {},
     "output_type": "execute_result"
    }
   ],
   "source": [
    "summary_sta2_simlist"
   ]
  },
  {
   "cell_type": "code",
   "execution_count": null,
   "id": "f1fcc003",
   "metadata": {},
   "outputs": [],
   "source": []
  },
  {
   "cell_type": "code",
   "execution_count": null,
   "id": "9d5fa72b",
   "metadata": {},
   "outputs": [],
   "source": []
  },
  {
   "cell_type": "code",
   "execution_count": 58,
   "id": "363acbaa",
   "metadata": {
    "scrolled": false
   },
   "outputs": [
    {
     "name": "stdout",
     "output_type": "stream",
     "text": [
      "path                  = None\n",
      "file_size             = -1 Byte\n",
      "format_name           = tsinfer-sample-data\n",
      "format_version        = (5, 0)\n",
      "finalised             = True\n",
      "uuid                  = b9ca7636-ecf7-46e1-8ee7-49341e38a07c\n",
      "num_provenances       = 2\n",
      "provenances/timestamp = shape=(2,); dtype=object;\n",
      "provenances/record    = shape=(2,); dtype=object;\n",
      "sequence_length       = 63025522.0\n",
      "metadata_schema       = {'additionalProperties': True, 'codec': 'json', 'properties': {}, 'required': [], 'type': 'object'}\n",
      "metadata              = {}\n",
      "num_populations       = 26\n",
      "num_individuals       = 104\n",
      "num_samples           = 208\n",
      "num_sites             = 1552394\n",
      "populations/metadata_schema = None\n",
      "populations/metadata  = shape=(26,); dtype=object;\n",
      "individuals/metadata_schema = None\n",
      "individuals/metadata  = shape=(104,); dtype=object;\n",
      "individuals/location  = shape=(104,); dtype=object;\n",
      "individuals/time      = shape=(104,); dtype=float64;uncompressed size=832 Bytes\n",
      "individuals/population = shape=(104,); dtype=int32;uncompressed size=416 Bytes\n",
      "individuals/flags     = shape=(104,); dtype=uint32;uncompressed size=416 Bytes\n",
      "samples/individual    = shape=(208,); dtype=int32;uncompressed size=832 Bytes\n",
      "sites/position        = shape=(1552394,); dtype=float64;uncompressed size=12.4 MB\n",
      "sites/time            = shape=(1552394,); dtype=float64;uncompressed size=12.4 MB\n",
      "sites/alleles         = shape=(1552394,); dtype=object;\n",
      "sites/genotypes       = shape=(1552394, 208); dtype=int8;uncompressed size=322.9 MB\n",
      "sites/metadata_schema = None\n",
      "sites/metadata        = shape=(1552394,); dtype=object;\n",
      "\n"
     ]
    }
   ],
   "source": [
    "print(newdata)"
   ]
  },
  {
   "cell_type": "code",
   "execution_count": 59,
   "id": "5dabf35c",
   "metadata": {},
   "outputs": [
    {
     "data": {
      "text/plain": [
       "208"
      ]
     },
     "execution_count": 59,
     "metadata": {},
     "output_type": "execute_result"
    }
   ],
   "source": [
    "max(numpy.sum(newdata.sites_genotypes,1) )"
   ]
  },
  {
   "cell_type": "code",
   "execution_count": 85,
   "id": "04406907",
   "metadata": {},
   "outputs": [],
   "source": [
    "aa = numpy.sum(newdata.sites_genotypes,1)<2\n",
    "sitepos = newdata.sites_position\n",
    "sitegen = newdata.sites_genotypes"
   ]
  },
  {
   "cell_type": "code",
   "execution_count": 86,
   "id": "ab8cd837",
   "metadata": {},
   "outputs": [
    {
     "data": {
      "text/plain": [
       "1375936"
      ]
     },
     "execution_count": 86,
     "metadata": {},
     "output_type": "execute_result"
    }
   ],
   "source": [
    "sum(aa)"
   ]
  },
  {
   "cell_type": "code",
   "execution_count": 87,
   "id": "4e579ee8",
   "metadata": {},
   "outputs": [
    {
     "data": {
      "text/plain": [
       "1552394"
      ]
     },
     "execution_count": 87,
     "metadata": {},
     "output_type": "execute_result"
    }
   ],
   "source": [
    "len(aa)"
   ]
  },
  {
   "cell_type": "code",
   "execution_count": 88,
   "id": "5bcee209",
   "metadata": {},
   "outputs": [
    {
     "data": {
      "text/plain": [
       "176000"
      ]
     },
     "execution_count": 88,
     "metadata": {},
     "output_type": "execute_result"
    }
   ],
   "source": [
    "1552000-1376000"
   ]
  },
  {
   "cell_type": "code",
   "execution_count": 65,
   "id": "358aeea1",
   "metadata": {},
   "outputs": [
    {
     "data": {
      "text/plain": [
       "0.90507049112532"
      ]
     },
     "execution_count": 65,
     "metadata": {},
     "output_type": "execute_result"
    }
   ],
   "source": [
    "sum(aa)/len(aa)"
   ]
  },
  {
   "cell_type": "code",
   "execution_count": 47,
   "id": "1d28549a",
   "metadata": {},
   "outputs": [
    {
     "data": {
      "text/plain": [
       "array([nan, nan, nan])"
      ]
     },
     "execution_count": 47,
     "metadata": {},
     "output_type": "execute_result"
    }
   ],
   "source": [
    "newdata.sites_time[0:3]"
   ]
  },
  {
   "cell_type": "code",
   "execution_count": 12,
   "id": "09496002",
   "metadata": {},
   "outputs": [
    {
     "data": {
      "text/plain": [
       "array([ True,  True,  True, ...,  True, False,  True])"
      ]
     },
     "execution_count": 12,
     "metadata": {},
     "output_type": "execute_result"
    }
   ],
   "source": []
  },
  {
   "cell_type": "code",
   "execution_count": 16,
   "id": "72a8febd",
   "metadata": {},
   "outputs": [
    {
     "data": {
      "text/plain": [
       "7"
      ]
     },
     "execution_count": 16,
     "metadata": {},
     "output_type": "execute_result"
    }
   ],
   "source": [
    "17%10"
   ]
  },
  {
   "cell_type": "code",
   "execution_count": null,
   "id": "e3929d48",
   "metadata": {},
   "outputs": [],
   "source": []
  },
  {
   "cell_type": "code",
   "execution_count": null,
   "id": "627e8f17",
   "metadata": {},
   "outputs": [],
   "source": []
  },
  {
   "cell_type": "code",
   "execution_count": null,
   "id": "590e03a5",
   "metadata": {},
   "outputs": [],
   "source": []
  },
  {
   "cell_type": "code",
   "execution_count": 3,
   "id": "541cf616",
   "metadata": {},
   "outputs": [
    {
     "data": {
      "text/plain": [
       "array([[1, 2, 3],\n",
       "       [4, 5, 6]])"
      ]
     },
     "execution_count": 3,
     "metadata": {},
     "output_type": "execute_result"
    }
   ],
   "source": [
    "aa = numpy.array( [ [1,2,3],[4,5,6]  ])\n",
    "aa"
   ]
  },
  {
   "cell_type": "code",
   "execution_count": 4,
   "id": "b945089f",
   "metadata": {},
   "outputs": [
    {
     "data": {
      "text/plain": [
       "array([ 6, 15])"
      ]
     },
     "execution_count": 4,
     "metadata": {},
     "output_type": "execute_result"
    }
   ],
   "source": [
    "numpy.sum(aa,1)"
   ]
  },
  {
   "cell_type": "code",
   "execution_count": 219,
   "id": "61dcd48f",
   "metadata": {},
   "outputs": [
    {
     "data": {
      "text/html": [
       "\n",
       "            <div>\n",
       "              <style>\n",
       "                .tskit-table thead tr th {text-align: left;padding: 0.5em 0.5em;}\n",
       "                .tskit-table tbody tr td {padding: 0.5em 0.5em;}\n",
       "                .tskit-table tbody tr td:first-of-type {text-align: left;}\n",
       "                .tskit-details-label {vertical-align: top; padding-right:5px;}\n",
       "                .tskit-table-set {display: inline-flex;flex-wrap: wrap;margin: -12px 0 0 -12px;width: calc(100% + 12px);}\n",
       "                .tskit-table-set-table {margin: 12px 0 0 12px;}\n",
       "                details {display: inline-block;}\n",
       "                summary {cursor: pointer; outline: 0; display: list-item;}\n",
       "              </style>\n",
       "              <div class=\"tskit-table-set\">\n",
       "                <div class=\"tskit-table-set-table\">\n",
       "                  <table class=\"tskit-table\">\n",
       "                    <thead>\n",
       "                      <tr>\n",
       "                        <th style=\"padding:0;line-height:21px;\">\n",
       "                          <img style=\"height: 32px;display: inline-block;padding: 3px 5px 3px 0;\" src=\"https://raw.githubusercontent.com/tskit-dev/administrative/main/tskit_logo.svg\"/>\n",
       "                          <a target=\"_blank\" href=\"https://tskit.dev/tskit/docs/latest/python-api.html#the-treesequence-class\"> Tree Sequence </a>\n",
       "                        </th>\n",
       "                      </tr>\n",
       "                    </thead>\n",
       "                    <tbody>\n",
       "                      <tr><td>Trees</td><td>237090</td></tr>\n",
       "                      <tr><td>Sequence Length</td><td>63025522.0</td></tr>\n",
       "                      <tr><td>Time Units</td><td>generations</td></tr>\n",
       "                      <tr><td>Sample Nodes</td><td>208</td></tr>\n",
       "                      <tr><td>Total Size</td><td>51.4 MiB</td></tr>\n",
       "                      <tr>\n",
       "                        <td>Metadata</td><td style=\"text-align: left;\">No Metadata</td></tr>\n",
       "                    </tbody>\n",
       "                  </table>\n",
       "                </div>\n",
       "                <div class=\"tskit-table-set-table\">\n",
       "                  <table class=\"tskit-table\">\n",
       "                    <thead>\n",
       "                      <tr>\n",
       "                        <th style=\"line-height:21px;\">Table</th>\n",
       "                        <th>Rows</th>\n",
       "                        <th>Size</th>\n",
       "                        <th>Has Metadata</th>\n",
       "                      </tr>\n",
       "                    </thead>\n",
       "                    <tbody>\n",
       "                    \n",
       "                  <tr>\n",
       "                    <td>Edges</td>\n",
       "                      <td>836673</td>\n",
       "                      <td>25.5 MiB</td>\n",
       "                      <td style=\"text-align: center;\">\n",
       "                        \n",
       "                      </td>\n",
       "                    </tr>\n",
       "                \n",
       "                  <tr>\n",
       "                    <td>Individuals</td>\n",
       "                      <td>104</td>\n",
       "                      <td>2.9 KiB</td>\n",
       "                      <td style=\"text-align: center;\">\n",
       "                        \n",
       "                      </td>\n",
       "                    </tr>\n",
       "                \n",
       "                  <tr>\n",
       "                    <td>Migrations</td>\n",
       "                      <td>0</td>\n",
       "                      <td>8 Bytes</td>\n",
       "                      <td style=\"text-align: center;\">\n",
       "                        \n",
       "                      </td>\n",
       "                    </tr>\n",
       "                \n",
       "                  <tr>\n",
       "                    <td>Mutations</td>\n",
       "                      <td>217501</td>\n",
       "                      <td>7.7 MiB</td>\n",
       "                      <td style=\"text-align: center;\">\n",
       "                        \n",
       "                      </td>\n",
       "                    </tr>\n",
       "                \n",
       "                  <tr>\n",
       "                    <td>Nodes</td>\n",
       "                      <td>143513</td>\n",
       "                      <td>3.8 MiB</td>\n",
       "                      <td style=\"text-align: center;\">\n",
       "                        \n",
       "                      </td>\n",
       "                    </tr>\n",
       "                \n",
       "                  <tr>\n",
       "                    <td>Populations</td>\n",
       "                      <td>1</td>\n",
       "                      <td>224 Bytes</td>\n",
       "                      <td style=\"text-align: center;\">\n",
       "                        ✅\n",
       "                      </td>\n",
       "                    </tr>\n",
       "                \n",
       "                  <tr>\n",
       "                    <td>Provenances</td>\n",
       "                      <td>2</td>\n",
       "                      <td>2.8 MiB</td>\n",
       "                      <td style=\"text-align: center;\">\n",
       "                        \n",
       "                      </td>\n",
       "                    </tr>\n",
       "                \n",
       "                  <tr>\n",
       "                    <td>Sites</td>\n",
       "                      <td>217095</td>\n",
       "                      <td>5.2 MiB</td>\n",
       "                      <td style=\"text-align: center;\">\n",
       "                        \n",
       "                      </td>\n",
       "                    </tr>\n",
       "                \n",
       "                    </tbody>\n",
       "                  </table>\n",
       "                </div>\n",
       "              </div>\n",
       "            </div>\n",
       "            "
      ],
      "text/plain": [
       "<tskit.trees.TreeSequence at 0x7f45d9f925b0>"
      ]
     },
     "execution_count": 219,
     "metadata": {},
     "output_type": "execute_result"
    }
   ],
   "source": [
    "mtsjjj"
   ]
  },
  {
   "cell_type": "code",
   "execution_count": 228,
   "id": "63b14fd4",
   "metadata": {},
   "outputs": [],
   "source": [
    "sample_datajjj = tsinfer.SampleData.from_tree_sequence(mtsjjj, use_sites_time=True, use_individuals_time=None)"
   ]
  },
  {
   "cell_type": "code",
   "execution_count": 266,
   "id": "49c39fca",
   "metadata": {},
   "outputs": [
    {
     "data": {
      "text/plain": [
       "116583"
      ]
     },
     "execution_count": 266,
     "metadata": {},
     "output_type": "execute_result"
    }
   ],
   "source": [
    "sum(sample_datajjj.sites_time[0:len(sample_datajjj.sites_time)]<1200)"
   ]
  },
  {
   "cell_type": "code",
   "execution_count": 267,
   "id": "3a14e5b6",
   "metadata": {},
   "outputs": [
    {
     "data": {
      "text/plain": [
       "151927"
      ]
     },
     "execution_count": 267,
     "metadata": {},
     "output_type": "execute_result"
    }
   ],
   "source": [
    "sum(sample_datajjj.sites_time[0:len(sample_datajjj.sites_time)]<2400)"
   ]
  },
  {
   "cell_type": "code",
   "execution_count": 239,
   "id": "ca739ab9",
   "metadata": {},
   "outputs": [
    {
     "data": {
      "text/plain": [
       "217095"
      ]
     },
     "execution_count": 239,
     "metadata": {},
     "output_type": "execute_result"
    }
   ],
   "source": [
    "len(sample_datajjj.sites_time)"
   ]
  },
  {
   "cell_type": "code",
   "execution_count": null,
   "id": "e691f161",
   "metadata": {},
   "outputs": [],
   "source": [
    "genty = sample_datajjj.sites_genotypes\n",
    "sitetime = sample_datajjj.sites_time\n",
    "\n",
    "sitefreq = numpy.sum(genty,1)\n"
   ]
  },
  {
   "cell_type": "code",
   "execution_count": null,
   "id": "b29635b1",
   "metadata": {},
   "outputs": [],
   "source": []
  },
  {
   "cell_type": "code",
   "execution_count": null,
   "id": "ec3ab03d",
   "metadata": {},
   "outputs": [],
   "source": []
  },
  {
   "cell_type": "code",
   "execution_count": null,
   "id": "419dcd26",
   "metadata": {},
   "outputs": [],
   "source": []
  },
  {
   "cell_type": "code",
   "execution_count": 276,
   "id": "b7175606",
   "metadata": {},
   "outputs": [
    {
     "data": {
      "text/plain": [
       "0.8350550134240602"
      ]
     },
     "execution_count": 276,
     "metadata": {},
     "output_type": "execute_result"
    }
   ],
   "source": [
    "sum( (sitefreq < 100)*(sitetime[:]<2400) )/ sum((sitefreq < 100))"
   ]
  },
  {
   "cell_type": "code",
   "execution_count": 255,
   "id": "bea3ae6f",
   "metadata": {},
   "outputs": [
    {
     "data": {
      "text/plain": [
       "0.9932123891976775"
      ]
     },
     "execution_count": 255,
     "metadata": {},
     "output_type": "execute_result"
    }
   ],
   "source": [
    "sum( (sitefreq < 6)*(sitetime[:]<1200) )/ sum((sitefreq < 6))"
   ]
  },
  {
   "cell_type": "code",
   "execution_count": 175,
   "id": "d6eb0f6a",
   "metadata": {},
   "outputs": [
    {
     "data": {
      "text/plain": [
       "30663"
      ]
     },
     "execution_count": 175,
     "metadata": {},
     "output_type": "execute_result"
    }
   ],
   "source": [
    " sum((sitefreq < 6)*(sitefreq >1))"
   ]
  },
  {
   "cell_type": "code",
   "execution_count": null,
   "id": "5f5f8fea",
   "metadata": {},
   "outputs": [],
   "source": []
  },
  {
   "cell_type": "code",
   "execution_count": 145,
   "id": "7bf0f9ae",
   "metadata": {},
   "outputs": [],
   "source": [
    "sitefreq1 = numpy.sum(newdata.sites_genotypes,1)"
   ]
  },
  {
   "cell_type": "code",
   "execution_count": 172,
   "id": "5930b43f",
   "metadata": {},
   "outputs": [
    {
     "data": {
      "text/plain": [
       "33408"
      ]
     },
     "execution_count": 172,
     "metadata": {},
     "output_type": "execute_result"
    }
   ],
   "source": [
    " sum((sitefreq1 < 6)*(sitefreq1 >1))"
   ]
  },
  {
   "cell_type": "code",
   "execution_count": null,
   "id": "ae4f7034",
   "metadata": {},
   "outputs": [],
   "source": []
  },
  {
   "cell_type": "code",
   "execution_count": 240,
   "id": "837a5924",
   "metadata": {},
   "outputs": [
    {
     "data": {
      "text/plain": [
       "209618"
      ]
     },
     "execution_count": 240,
     "metadata": {},
     "output_type": "execute_result"
    }
   ],
   "source": [
    "len(sample_data.sites_time)"
   ]
  },
  {
   "cell_type": "code",
   "execution_count": null,
   "id": "4f27ba50",
   "metadata": {},
   "outputs": [],
   "source": []
  },
  {
   "cell_type": "code",
   "execution_count": null,
   "id": "b69f8d23",
   "metadata": {},
   "outputs": [],
   "source": []
  },
  {
   "cell_type": "code",
   "execution_count": null,
   "id": "200b61eb",
   "metadata": {},
   "outputs": [],
   "source": []
  },
  {
   "cell_type": "code",
   "execution_count": null,
   "id": "ddb3bfab",
   "metadata": {},
   "outputs": [],
   "source": []
  },
  {
   "cell_type": "code",
   "execution_count": null,
   "id": "e19e407a",
   "metadata": {},
   "outputs": [],
   "source": []
  },
  {
   "cell_type": "code",
   "execution_count": 81,
   "id": "c97deb8f",
   "metadata": {},
   "outputs": [
    {
     "data": {
      "text/plain": [
       "0.30985387785687524"
      ]
     },
     "execution_count": 81,
     "metadata": {},
     "output_type": "execute_result"
    }
   ],
   "source": [
    "sum( (sitefreq < 2) )/len(sitefreq)"
   ]
  },
  {
   "cell_type": "code",
   "execution_count": 89,
   "id": "3e270dbb",
   "metadata": {},
   "outputs": [
    {
     "data": {
      "text/plain": [
       "202844"
      ]
     },
     "execution_count": 89,
     "metadata": {},
     "output_type": "execute_result"
    }
   ],
   "source": [
    "len(sitefreq)"
   ]
  },
  {
   "cell_type": "code",
   "execution_count": 90,
   "id": "2f1ba789",
   "metadata": {},
   "outputs": [
    {
     "data": {
      "text/plain": [
       "141990.8"
      ]
     },
     "execution_count": 90,
     "metadata": {},
     "output_type": "execute_result"
    }
   ],
   "source": [
    "202844*0.7"
   ]
  },
  {
   "cell_type": "code",
   "execution_count": 55,
   "id": "c29361be",
   "metadata": {},
   "outputs": [],
   "source": [
    "aa = [True, False, True, True, False]"
   ]
  },
  {
   "cell_type": "code",
   "execution_count": 56,
   "id": "e902bd8c",
   "metadata": {},
   "outputs": [
    {
     "data": {
      "text/plain": [
       "array([0, 2, 3])"
      ]
     },
     "execution_count": 56,
     "metadata": {},
     "output_type": "execute_result"
    }
   ],
   "source": [
    "numpy.where(aa)[0]"
   ]
  },
  {
   "cell_type": "code",
   "execution_count": null,
   "id": "1bcb4027",
   "metadata": {},
   "outputs": [],
   "source": []
  },
  {
   "cell_type": "code",
   "execution_count": null,
   "id": "40a31312",
   "metadata": {},
   "outputs": [],
   "source": []
  },
  {
   "cell_type": "code",
   "execution_count": null,
   "id": "fa398c5f",
   "metadata": {},
   "outputs": [],
   "source": []
  },
  {
   "cell_type": "code",
   "execution_count": null,
   "id": "bb317db8",
   "metadata": {},
   "outputs": [],
   "source": []
  },
  {
   "cell_type": "code",
   "execution_count": null,
   "id": "b0b25ddf",
   "metadata": {},
   "outputs": [],
   "source": []
  },
  {
   "cell_type": "code",
   "execution_count": 232,
   "id": "3c50b127",
   "metadata": {},
   "outputs": [],
   "source": [
    "sample_data = tsinfer.SampleData.from_tree_sequence(mts, use_sites_time=True, use_individuals_time=None)"
   ]
  },
  {
   "cell_type": "code",
   "execution_count": 233,
   "id": "a5d6e902",
   "metadata": {},
   "outputs": [
    {
     "data": {
      "text/plain": [
       "110997"
      ]
     },
     "execution_count": 233,
     "metadata": {},
     "output_type": "execute_result"
    }
   ],
   "source": [
    "len(sample_data.sites_time)"
   ]
  },
  {
   "cell_type": "code",
   "execution_count": 202,
   "id": "f0fc897f",
   "metadata": {},
   "outputs": [],
   "source": [
    "sitefreq2 = numpy.sum(sample_data.sites_genotypes,1)"
   ]
  },
  {
   "cell_type": "code",
   "execution_count": 209,
   "id": "0b9aab6f",
   "metadata": {},
   "outputs": [
    {
     "data": {
      "text/plain": [
       "23786"
      ]
     },
     "execution_count": 209,
     "metadata": {},
     "output_type": "execute_result"
    }
   ],
   "source": [
    "sum((sitefreq2 < 4)*(sitefreq2 >1))"
   ]
  },
  {
   "cell_type": "code",
   "execution_count": 211,
   "id": "158c5210",
   "metadata": {},
   "outputs": [
    {
     "data": {
      "text/plain": [
       "0.9987745098039216"
      ]
     },
     "execution_count": 211,
     "metadata": {},
     "output_type": "execute_result"
    }
   ],
   "source": [
    "sitetime2 = sample_data.sites_time\n",
    "\n",
    "sum( (sitefreq2 < 200)*(sitefreq2 >1)*(sitetime2[:]<1200) )/ sum((sitefreq2 < 200)*(sitefreq2 >1))"
   ]
  },
  {
   "cell_type": "code",
   "execution_count": 216,
   "id": "09372f4e",
   "metadata": {},
   "outputs": [
    {
     "data": {
      "text/plain": [
       "110026"
      ]
     },
     "execution_count": 216,
     "metadata": {},
     "output_type": "execute_result"
    }
   ],
   "source": [
    "sum(sitetime2[:]<1200)"
   ]
  },
  {
   "cell_type": "code",
   "execution_count": 224,
   "id": "fa1f752c",
   "metadata": {},
   "outputs": [
    {
     "data": {
      "text/plain": [
       "110161"
      ]
     },
     "execution_count": 224,
     "metadata": {},
     "output_type": "execute_result"
    }
   ],
   "source": [
    "len(sitetime2)"
   ]
  },
  {
   "cell_type": "code",
   "execution_count": 191,
   "id": "e0b7eb10",
   "metadata": {},
   "outputs": [],
   "source": [
    "sitefreq1 = numpy.sum(newdata.sites_genotypes,1)"
   ]
  },
  {
   "cell_type": "code",
   "execution_count": 196,
   "id": "8eb62a56",
   "metadata": {},
   "outputs": [
    {
     "data": {
      "text/plain": [
       "23701"
      ]
     },
     "execution_count": 196,
     "metadata": {},
     "output_type": "execute_result"
    }
   ],
   "source": [
    "sum((sitefreq1 < 4)*(sitefreq1 >1))"
   ]
  },
  {
   "cell_type": "code",
   "execution_count": null,
   "id": "2d76369b",
   "metadata": {},
   "outputs": [],
   "source": []
  },
  {
   "cell_type": "code",
   "execution_count": 174,
   "id": "4433aa0d",
   "metadata": {},
   "outputs": [
    {
     "data": {
      "text/plain": [
       "0.0031499974619990877"
      ]
     },
     "execution_count": 174,
     "metadata": {},
     "output_type": "execute_result"
    }
   ],
   "source": [
    "numpy.log(17400/1400)/800"
   ]
  },
  {
   "cell_type": "code",
   "execution_count": 185,
   "id": "a5b33a5a",
   "metadata": {},
   "outputs": [
    {
     "data": {
      "text/plain": [
       "1.3300000000000002e-08"
      ]
     },
     "execution_count": 185,
     "metadata": {},
     "output_type": "execute_result"
    }
   ],
   "source": [
    "mu"
   ]
  },
  {
   "cell_type": "code",
   "execution_count": 188,
   "id": "5c8a7ea3",
   "metadata": {},
   "outputs": [
    {
     "data": {
      "text/plain": [
       "63025522"
      ]
     },
     "execution_count": 188,
     "metadata": {},
     "output_type": "execute_result"
    }
   ],
   "source": [
    "seq_len"
   ]
  },
  {
   "cell_type": "code",
   "execution_count": null,
   "id": "07d2898b",
   "metadata": {},
   "outputs": [],
   "source": []
  },
  {
   "cell_type": "code",
   "execution_count": null,
   "id": "904170f5",
   "metadata": {},
   "outputs": [],
   "source": []
  },
  {
   "cell_type": "code",
   "execution_count": null,
   "id": "f009322a",
   "metadata": {},
   "outputs": [],
   "source": []
  },
  {
   "cell_type": "code",
   "execution_count": null,
   "id": "a20de92b",
   "metadata": {},
   "outputs": [],
   "source": []
  },
  {
   "cell_type": "code",
   "execution_count": null,
   "id": "49fda1e2",
   "metadata": {},
   "outputs": [],
   "source": []
  },
  {
   "cell_type": "code",
   "execution_count": null,
   "id": "a4dd19c9",
   "metadata": {},
   "outputs": [],
   "source": []
  },
  {
   "cell_type": "code",
   "execution_count": null,
   "id": "048991a1",
   "metadata": {},
   "outputs": [],
   "source": []
  },
  {
   "cell_type": "code",
   "execution_count": null,
   "id": "930e96ba",
   "metadata": {},
   "outputs": [],
   "source": []
  },
  {
   "cell_type": "code",
   "execution_count": null,
   "id": "b0b19c46",
   "metadata": {},
   "outputs": [],
   "source": []
  },
  {
   "cell_type": "code",
   "execution_count": 1,
   "id": "2bdb18d5",
   "metadata": {},
   "outputs": [],
   "source": [
    "import argparse\n",
    "import os\n",
    "import re\n",
    "import numpy as np\n",
    "\n",
    "import statistics\n",
    "import msprime\n",
    "from IPython.display import SVG, display\n",
    "import tsinfer\n",
    "import scipy\n",
    "import math\n",
    "import numpy\n",
    "import tskit\n",
    "import io\n",
    "import builtins\n",
    "import sys\n",
    "from tqdm.notebook import tqdm\n",
    "from tskit import MISSING_DATA\n",
    "import pickle\n",
    "import random\n",
    "import matplotlib.pyplot as plt\n",
    "import cvxopt as opt\n",
    "from cvxopt import matrix, spmatrix, sparse\n",
    "from cvxopt.solvers import qp, options\n",
    "from cvxopt import blas\n",
    "from cvxopt import spdiag\n",
    "import statsmodels\n",
    "from statsmodels.nonparametric.kernel_regression import KernelReg\n",
    "from scipy.signal import savgol_filter\n",
    "import time\n",
    "import bisect\n",
    "\n",
    "\n",
    "def find_s(elem, sorted_list):\n",
    "    'Locate the leftmost value exactly equal to x'\n",
    "    i = bisect.bisect_left(sorted_list, elem)\n",
    "    if i != len(sorted_list) and sorted_list[i] == elem:\n",
    "        return i\n",
    "\n",
    "\n",
    "def find_s_se(elem, sorted_list):\n",
    "    'Locate the leftmost value smaller or equal to x'\n",
    "    i = bisect.bisect_right(sorted_list, elem)\n",
    "    if i != 0:\n",
    "        return i-1\n",
    "    else:\n",
    "        print(\"error\")\n",
    "\n",
    "\n",
    "def find_s_s(elem, sorted_list):\n",
    "    'Locate the leftmost value smaller or equal to x'\n",
    "    i = bisect.bisect_left(sorted_list, elem)\n",
    "    if i != 0:\n",
    "        return i\n",
    "    else:\n",
    "        return 0\n",
    "\n",
    " \n",
    "\n",
    "    \n",
    "file = open(\"recombination_map.dat\",\"rb\")\n",
    "rmap = pickle.load(file)\n",
    "file.close\n",
    "\n",
    "sam=tsinfer.load(\"tgp_chr20.samples\")\n",
    "\n",
    "LWKlist = []\n",
    "for i in range(len(sam.individuals_population)):\n",
    "    if sam.individuals_population[i]==11:\n",
    "        LWKlist.append(i)\n",
    "newdata = sam.subset(individuals=LWKlist)\n",
    "\n",
    "        \n",
    "    \n",
    "    \n",
    "seq_len = 63025522\n",
    "sam_size = 99\n",
    "r = rmap\n",
    "mu = 1.375*10**(-8)\n",
    "# gene_conver = 10**(-8)\n",
    "# track_len = 100\n",
    "# epsilon = 0.0001\n",
    "totaliter=1\n",
    "\n",
    "simtime = 2\n",
    "# priormu = [1.0*10**(-8), 2.0*10**(-8)]\n",
    "# prioreps = [0, 0.0002]\n",
    "# accept_threshold = [1000,400]\n",
    "freqconsider = [1,10]\n",
    "priorinipop = [120000, 5000]\n",
    "priorinirate = [-0.001 , 0.004]\n"
   ]
  },
  {
   "cell_type": "code",
   "execution_count": null,
   "id": "663f9acc",
   "metadata": {},
   "outputs": [],
   "source": []
  },
  {
   "cell_type": "code",
   "execution_count": 2,
   "id": "5463dd4b",
   "metadata": {},
   "outputs": [
    {
     "name": "stderr",
     "output_type": "stream",
     "text": [
      "The provenance information for the resulting tree sequence is 2.78MB. This is nothing to worry about as provenance is a good thing to have, but if you want to save this memory/storage space you can disable provenance recording by setting record_provenance=False\n"
     ]
    }
   ],
   "source": [
    "\n",
    "\n",
    "genpoint = [0*5/5.2,400*5/5.2,800*5/5.2,1200*5/5.2,1600*5/5.2,2000*5/5.2,2400*5/5.2,2800*5/5.2,\\\n",
    "            3200*5/5.2,3600*5/5.2,4000*5/5.2,8000*5/5.2,12000*5/5.2,16000*5/5.2,20000*5/5.2]\n",
    "inipopsize =[15200*5/5.2, 15200*5/5.2, 15600*5/5.2, 14800*5/5.2, 12400*5/5.2, 10400*5/5.2,9800*5/5.2,\\\n",
    "             10400*5/5.2,12000*5/5.2,14400*5/5.2,16800*5/5.2,29400*5/5.2,28000*5/5.2,22000*5/5.2,18000*5/5.2]\n",
    "genuse = []\n",
    "inipuse = []\n",
    "gruse = []\n",
    "for i in range(len(genpoint)-1):\n",
    "    addplist = []\n",
    "    for j in range(10):\n",
    "        addplist.append(genpoint[i] + (genpoint[i+1]-genpoint[i])/10*j)\n",
    "    genuse = genuse + addplist\n",
    "for i in range(len(inipopsize)-1):\n",
    "    addplist = []\n",
    "    for j in range(10):\n",
    "        addplist.append(inipopsize[i] + (inipopsize[i+1]-inipopsize[i])/10*j)\n",
    "    inipuse = inipuse + addplist\n",
    "genuse.append(genpoint[len(genpoint)-1])\n",
    "inipuse.append(inipopsize[len(inipopsize)-1])\n",
    "for i in range(len(genuse)-1):\n",
    "    gruse.append( numpy.log( inipuse[i]/inipuse[i+1] )/(genuse[i+1] - genuse[i])  )\n",
    "gruse.append(0.0000005)\n",
    "    \n",
    "\n",
    "demo_model = msprime.Demography.isolated_model([inipuse[0]], growth_rate=[gruse[0]])\n",
    "for i in range(1,len(genuse)):\n",
    "    demo_model.add_population_parameters_change(genuse[i],  initial_size=inipuse[i], growth_rate=gruse[i], population=None)\n",
    "\n",
    "    \n",
    "\n",
    "ts = msprime.sim_ancestry(\n",
    "        samples=sam_size,\n",
    "        recombination_rate= r, \n",
    "        sequence_length= seq_len,\n",
    "#         population_size = pop_size,\n",
    "#         gene_conversion_rate = gene_conver ,\n",
    "#         gene_conversion_tract_length = track_len,\n",
    "        #random_seed =seed,\n",
    "        #discrete_genome=False\n",
    "        demography = demo_model\n",
    "        )\n",
    "    # Visualise the simulated ancestral history.\n",
    "    #SVG(ts.draw_svg())\n",
    "\n",
    "    #ts.num_trees\n",
    "\n",
    "mtsjjj = msprime.sim_mutations(ts, rate = mu,\n",
    "                            #discrete_genome=False,\n",
    "                            #random_seed=seed\n",
    "                          )\n",
    "sample_datajjj = tsinfer.SampleData.from_tree_sequence(mtsjjj, use_sites_time=True, use_individuals_time=None)"
   ]
  },
  {
   "cell_type": "code",
   "execution_count": 20,
   "id": "8efa40db",
   "metadata": {},
   "outputs": [
    {
     "data": {
      "text/plain": [
       "109035"
      ]
     },
     "execution_count": 20,
     "metadata": {},
     "output_type": "execute_result"
    }
   ],
   "source": [
    "sum(sample_datajjj.sites_time[0:len(sample_datajjj.sites_time)]<1000)\n"
   ]
  },
  {
   "cell_type": "code",
   "execution_count": 21,
   "id": "16c83263",
   "metadata": {},
   "outputs": [
    {
     "data": {
      "text/plain": [
       "151123"
      ]
     },
     "execution_count": 21,
     "metadata": {},
     "output_type": "execute_result"
    }
   ],
   "source": [
    "sum(sample_datajjj.sites_time[0:len(sample_datajjj.sites_time)]<2400)"
   ]
  },
  {
   "cell_type": "code",
   "execution_count": 22,
   "id": "ca944909",
   "metadata": {},
   "outputs": [
    {
     "data": {
      "text/plain": [
       "301949"
      ]
     },
     "execution_count": 22,
     "metadata": {},
     "output_type": "execute_result"
    }
   ],
   "source": [
    "len(sample_datajjj.sites_time)"
   ]
  },
  {
   "cell_type": "code",
   "execution_count": 3,
   "id": "0b53ae11",
   "metadata": {},
   "outputs": [],
   "source": [
    "genty = sample_datajjj.sites_genotypes\n",
    "sitetime = sample_datajjj.sites_time\n",
    "\n",
    "sitefreq = numpy.sum(genty,1)\n"
   ]
  },
  {
   "cell_type": "code",
   "execution_count": 30,
   "id": "a961d477",
   "metadata": {},
   "outputs": [
    {
     "data": {
      "text/plain": [
       "0.13127978014591035"
      ]
     },
     "execution_count": 30,
     "metadata": {},
     "output_type": "execute_result"
    }
   ],
   "source": [
    "sum((sitefreq>6)*(sitefreq < 40)*(sitetime[:]<1000) )/ sum((sitefreq < 40)*(sitefreq>6))"
   ]
  },
  {
   "cell_type": "code",
   "execution_count": null,
   "id": "d6f19b4a",
   "metadata": {},
   "outputs": [],
   "source": [
    "sum( (sitefreq>1) )"
   ]
  },
  {
   "cell_type": "code",
   "execution_count": null,
   "id": "f18fe3db",
   "metadata": {},
   "outputs": [],
   "source": [
    "len(sample_datajjj.sites_time)"
   ]
  },
  {
   "cell_type": "code",
   "execution_count": null,
   "id": "d7dc2d0e",
   "metadata": {},
   "outputs": [],
   "source": []
  },
  {
   "cell_type": "code",
   "execution_count": null,
   "id": "bc0adee0",
   "metadata": {},
   "outputs": [],
   "source": []
  },
  {
   "cell_type": "code",
   "execution_count": 4,
   "id": "ecce5dfb",
   "metadata": {},
   "outputs": [],
   "source": [
    "genty1 = newdata.sites_genotypes\n",
    "sitetime1 = newdata.sites_time\n",
    "\n",
    "sitefreq1 = numpy.sum(genty1,1)\n"
   ]
  },
  {
   "cell_type": "code",
   "execution_count": 17,
   "id": "c85d6454",
   "metadata": {},
   "outputs": [
    {
     "data": {
      "text/plain": [
       "235622"
      ]
     },
     "execution_count": 17,
     "metadata": {},
     "output_type": "execute_result"
    }
   ],
   "source": [
    "sum( (sitefreq1>1)*(sitefreq1<40) )"
   ]
  },
  {
   "cell_type": "code",
   "execution_count": 16,
   "id": "9b432727",
   "metadata": {},
   "outputs": [
    {
     "data": {
      "text/plain": [
       "181490"
      ]
     },
     "execution_count": 16,
     "metadata": {},
     "output_type": "execute_result"
    }
   ],
   "source": [
    "sum( (sitefreq>1)*(sitefreq<40) )"
   ]
  },
  {
   "cell_type": "code",
   "execution_count": 19,
   "id": "8d98b746",
   "metadata": {},
   "outputs": [
    {
     "data": {
      "text/plain": [
       "1.1233843907288883"
      ]
     },
     "execution_count": 19,
     "metadata": {},
     "output_type": "execute_result"
    }
   ],
   "source": [
    "144629/128744"
   ]
  },
  {
   "cell_type": "code",
   "execution_count": null,
   "id": "fa5da94e",
   "metadata": {},
   "outputs": [],
   "source": []
  },
  {
   "cell_type": "code",
   "execution_count": null,
   "id": "a7aa2f23",
   "metadata": {},
   "outputs": [],
   "source": []
  },
  {
   "cell_type": "code",
   "execution_count": 18,
   "id": "821171dc",
   "metadata": {},
   "outputs": [
    {
     "data": {
      "text/plain": [
       "1.375e-08"
      ]
     },
     "execution_count": 18,
     "metadata": {},
     "output_type": "execute_result"
    }
   ],
   "source": [
    "mu"
   ]
  },
  {
   "cell_type": "code",
   "execution_count": 33,
   "id": "64460f8c",
   "metadata": {},
   "outputs": [
    {
     "data": {
      "text/plain": [
       "[<matplotlib.lines.Line2D at 0x7ff181af83a0>]"
      ]
     },
     "execution_count": 33,
     "metadata": {},
     "output_type": "execute_result"
    },
    {
     "data": {
      "image/png": "[encoded data removed]",
      "text/plain": [
       "<Figure size 432x288 with 1 Axes>"
      ]
     },
     "metadata": {
      "needs_background": "light"
     },
     "output_type": "display_data"
    }
   ],
   "source": [
    "xx = numpy.linspace(0,1000,100)\n",
    "yy = 80000*numpy.exp(-0.003*xx)\n",
    "plt.plot(xx,yy)"
   ]
  },
  {
   "cell_type": "code",
   "execution_count": null,
   "id": "4e676875",
   "metadata": {},
   "outputs": [],
   "source": []
  },
  {
   "cell_type": "code",
   "execution_count": null,
   "id": "ab11e9e8",
   "metadata": {},
   "outputs": [],
   "source": []
  },
  {
   "cell_type": "code",
   "execution_count": null,
   "id": "8e8562bf",
   "metadata": {},
   "outputs": [],
   "source": []
  },
  {
   "cell_type": "code",
   "execution_count": null,
   "id": "164543f6",
   "metadata": {},
   "outputs": [],
   "source": []
  },
  {
   "cell_type": "code",
   "execution_count": null,
   "id": "293d6af9",
   "metadata": {},
   "outputs": [],
   "source": []
  },
  {
   "cell_type": "code",
   "execution_count": null,
   "id": "1b721e62",
   "metadata": {},
   "outputs": [],
   "source": []
  },
  {
   "cell_type": "code",
   "execution_count": null,
   "id": "737039e0",
   "metadata": {},
   "outputs": [
    {
     "name": "stdout",
     "output_type": "stream",
     "text": [
      "siteuse_rea 331113\n"
     ]
    }
   ],
   "source": [
    "import argparse\n",
    "import os\n",
    "import re\n",
    "import numpy as np\n",
    "\n",
    "import statistics\n",
    "import msprime\n",
    "from IPython.display import SVG, display\n",
    "import tsinfer\n",
    "import scipy\n",
    "import math\n",
    "import numpy\n",
    "import tskit\n",
    "import io\n",
    "import builtins\n",
    "import sys\n",
    "from tqdm.notebook import tqdm\n",
    "from tskit import MISSING_DATA\n",
    "import pickle\n",
    "import random\n",
    "import matplotlib.pyplot as plt\n",
    "import cvxopt as opt\n",
    "from cvxopt import matrix, spmatrix, sparse\n",
    "from cvxopt.solvers import qp, options\n",
    "from cvxopt import blas\n",
    "from cvxopt import spdiag\n",
    "import statsmodels\n",
    "from statsmodels.nonparametric.kernel_regression import KernelReg\n",
    "from scipy.signal import savgol_filter\n",
    "import time\n",
    "import bisect\n",
    "\n",
    "\n",
    "def find_s(elem, sorted_list):\n",
    "    'Locate the leftmost value exactly equal to x'\n",
    "    i = bisect.bisect_left(sorted_list, elem)\n",
    "    if i != len(sorted_list) and sorted_list[i] == elem:\n",
    "        return i\n",
    "\n",
    "\n",
    "def find_s_se(elem, sorted_list):\n",
    "    'Locate the leftmost value smaller or equal to x'\n",
    "    i = bisect.bisect_right(sorted_list, elem)\n",
    "    if i != 0:\n",
    "        return i-1\n",
    "    else:\n",
    "        print(\"error\")\n",
    "\n",
    "\n",
    "def find_s_s(elem, sorted_list):\n",
    "    'Locate the leftmost value smaller or equal to x'\n",
    "    i = bisect.bisect_left(sorted_list, elem)\n",
    "    if i != 0:\n",
    "        return i\n",
    "    else:\n",
    "        return 0\n",
    "\n",
    " \n",
    "    \n",
    "\n",
    "    \n",
    "file = open(\"recombination_map.dat\",\"rb\")\n",
    "rmap = pickle.load(file)\n",
    "file.close\n",
    "\n",
    "sam=tsinfer.load(\"tgp_chr20.samples\")\n",
    "\n",
    "LWKlist = []\n",
    "for i in range(len(sam.individuals_population)):\n",
    "    if sam.individuals_population[i]==11:\n",
    "        LWKlist.append(i)\n",
    "newdata = sam.subset(individuals=LWKlist)\n",
    "\n",
    "        \n",
    "    \n",
    "    \n",
    "seq_len = 63025522\n",
    "sam_size = 99\n",
    "r = rmap\n",
    "mu = 1.375*10**(-8)\n",
    "# gene_conver = 10**(-8)\n",
    "# track_len = 100\n",
    "# epsilon = 0.0001\n",
    "totaliter=1\n",
    "\n",
    "simtime = 2\n",
    "# priormu = [1.0*10**(-8), 2.0*10**(-8)]\n",
    "# prioreps = [0, 0.0002]\n",
    "# accept_threshold = [1000,400]\n",
    "freqconsider = [1,300]\n",
    "priorinipop = [120000, 5000]\n",
    "priorinirate = [-0.001 , 0.004]\n",
    "\n",
    "\n",
    "\n",
    "\n",
    "\n",
    "inipopsimlist = []\n",
    "iniratesimlist = []\n",
    "summary_sta1_simlist = []\n",
    "summary_sta2_simlist = []\n",
    "\n",
    "current_pop = []\n",
    "for iter in range(totaliter):\n",
    "\n",
    "    sitefreq = numpy.sum(newdata.sites_genotypes,1)\n",
    "    siteuse =  numpy.where( (sitefreq>freqconsider[0] ) * ( sitefreq<freqconsider[1] ) )[0]  \n",
    "    print(\"siteuse_rea\",len(siteuse))\n",
    "    datause = newdata.subset(sites = siteuse)\n",
    "    inferred_ts = tsinfer.infer(datause,path_compression=False)\n",
    "\n",
    "#     inferred_ts = tsinfer.infer(newdata,path_compression=False)\n",
    "\n",
    "\n",
    "\n",
    "    mts = inferred_ts\n",
    "\n",
    "    ###############################################################################\n",
    "    msites = mts.tables.mutations.site\n",
    "    sitepos = mts.tables.sites.position\n",
    "    mpos = []\n",
    "    for i in range(len(msites)):\n",
    "        cursite = msites[i]\n",
    "        mpos.append(sitepos[cursite])\n",
    "    mpos = numpy.array(mpos)\n",
    "    mnodes = mts.tables.mutations.node\n",
    "    ec = mts.tables.edges.child\n",
    "    ep = mts.tables.edges.parent\n",
    "    el = mts.tables.edges.left\n",
    "    er = mts.tables.edges.right\n",
    "\n",
    "\n",
    "    leftmost = min(el)\n",
    "    rightmost = max(er)\n",
    "    for i in range(len(el)):\n",
    "        if el[i] == leftmost:\n",
    "            el[i] = 0\n",
    "        if er[i] == rightmost:\n",
    "            er[i] = seq_len\n",
    "\n",
    "\n",
    "    if len(mpos) == 0:\n",
    "        mpos_sn = []\n",
    "        mnodes_sn = []\n",
    "    else:\n",
    "        mnp_sn = numpy.transpose(sorted(numpy.transpose(numpy.array([mnodes,mpos])).tolist()))\n",
    "        mnodes_sn = mnp_sn[0]\n",
    "        mpos_sn = mnp_sn[1]\n",
    "\n",
    "    eclrp_sc = numpy.transpose(sorted(numpy.transpose(numpy.array([ec,el,er,ep])).tolist()))\n",
    "    ec_sc = eclrp_sc[0]\n",
    "    el_sc = eclrp_sc[1]\n",
    "    er_sc = eclrp_sc[2]\n",
    "    ep_sc = eclrp_sc[3]\n",
    "    enm_sc = [[] for i in range(len(ec_sc))]\n",
    "\n",
    "    curedge = 0\n",
    "    for i in range(len(mnodes_sn)):\n",
    "        curnodemu = mnodes_sn[i] \n",
    "        cursitemu = mpos_sn[i]\n",
    "        for j in range(curedge,len(ec_sc)):\n",
    "            if curnodemu == ec_sc[j]:\n",
    "\n",
    "                if er_sc[j] > cursitemu and el_sc[j] <= cursitemu:\n",
    "\n",
    "                    enm_sc[j].append(cursitemu)  \n",
    "\n",
    "                    curedge = j\n",
    "                    break\n",
    "                if el_sc[j] > cursitemu:\n",
    "                    curedge = j\n",
    "                    break\n",
    "\n",
    "            if ec_sc[j] > mnodes_sn[i] or j == len(ec_sc)-1:\n",
    "                #print(\"missing mutations\")\n",
    "                curedge = j\n",
    "                break\n",
    "\n",
    "\n",
    "\n",
    "\n",
    "    ###########################################################################\n",
    "    ###########################################################################\n",
    "    ##########################################################################\n",
    "\n",
    "    clocate = []\n",
    "    curc = -1\n",
    "    for i in range(len(ec_sc)):\n",
    "        while ec_sc[i] != curc:\n",
    "            curc=curc+1\n",
    "            clocate.append(i)\n",
    "    clocate.append(len(ec_sc))\n",
    "\n",
    "\n",
    "\n",
    "\n",
    "    abdlist = []\n",
    "\n",
    "    for i in range(0,2*sam_size-1):\n",
    "        for j in range(i+1,i+2):\n",
    "            canabd = []\n",
    "            curleft = 0\n",
    "            curright =seq_len\n",
    "            #start = 0\n",
    "            while curleft != seq_len:\n",
    "                curp1 = i\n",
    "                curp2 = j \n",
    "                curmed = []\n",
    "                while curp1 != curp2:\n",
    "                    if curp1 < curp2:\n",
    "                        begin1 = clocate[curp1]\n",
    "                        end = clocate[curp1+1]\n",
    "                        s_range = el_sc[begin1:end]\n",
    "                        begin2 = find_s_se(curleft,s_range)\n",
    "                        for k in range(begin1+begin2,end):\n",
    "                            if el_sc[k]<=curleft and er_sc[k] > curleft:\n",
    "                                curp1 = int(ep_sc[k])\n",
    "                                curoldr = curright\n",
    "                                curright = min(er_sc[k],curright)\n",
    "\n",
    "                                curmed.append(k)\n",
    "\n",
    "                                break\n",
    "\n",
    "                    else:\n",
    "                        begin1 = clocate[curp2]\n",
    "                        end = clocate[curp2+1]\n",
    "                        s_range = el_sc[begin1:end]\n",
    "                        begin2 = find_s_se(curleft,s_range)\n",
    "                        for k in range(begin1+begin2,end):\n",
    "                            if el_sc[k]<=curleft and er_sc[k] > curleft:\n",
    "                                curp2 = int(ep_sc[k])\n",
    "                                curoldr = curright\n",
    "                                curright = min(er_sc[k],curright) \n",
    "\n",
    "                                curmed.append(k)\n",
    "\n",
    "                                break\n",
    "\n",
    "                canmution = []\n",
    "                for k in range(len(curmed)):\n",
    "                    edgemu = enm_sc[curmed[k]]\n",
    "                    startt = find_s_s(curleft,edgemu)\n",
    "                    endd = find_s_s(curright,edgemu)                    \n",
    "                    canmution = canmution + edgemu[startt:endd] \n",
    "\n",
    "                canabd.append([i,j,curleft,curright,curp1,canmution])\n",
    "                curleft = curright\n",
    "                curright = seq_len\n",
    "\n",
    "\n",
    "\n",
    "\n",
    "\n",
    "            if len(canabd)==1:\n",
    "                abdlist = abdlist + canabd\n",
    "            else:\n",
    "                curabd = [canabd[0][0],canabd[0][1],canabd[0][2],canabd[0][3],canabd[0][4],canabd[0][5]]\n",
    "                for k in range(1,len(canabd)):\n",
    "                    if canabd[k][4] != canabd[k-1][4]:\n",
    "                        abdlist.append(curabd)\n",
    "                        curabd = [canabd[k][0],canabd[k][1],canabd[k][2],canabd[k][3],canabd[k][4],canabd[k][5]]\n",
    "                    else:\n",
    "                        curabd[3] = canabd[k][3]\n",
    "                        curabd[5] = curabd[5] + canabd[k][5]\n",
    "                    if k == len(canabd)-1:\n",
    "                        abdlist.append(curabd)\n",
    "\n",
    "\n",
    "\n",
    "#             print(\"abdlist sample:\",i)\n",
    "    print(\"numibd\",len(abdlist))\n",
    "    \n",
    "    abduse = abdlist\n",
    "    \n",
    "##############################    \n",
    "    \n",
    "#     tolnummu = 0\n",
    "#     for i in range(len(abduse)):\n",
    "#         tolnummu = tolnummu+len(abduse[i][5])\n",
    "\n",
    "#     muloclist = np.zeros(tolnummu)\n",
    "#     indd = 0\n",
    "#     for i in range(len(abduse)):\n",
    "#         abdc = abduse[i]\n",
    "#         lee = len(abdc[5])\n",
    "#         muloclist[indd:(indd+lee)] = abdc[5]\n",
    "#         indd = indd+lee\n",
    "\n",
    "#     smulist = numpy.sort(muloclist)\n",
    "#     count2 = 0\n",
    "#     curloc = -1\n",
    "#     curcount = 1\n",
    "#     for i in range(len(smulist)):\n",
    "#         if smulist[i] == curloc:\n",
    "#             curcount = curcount+1\n",
    "#         else:\n",
    "#             if curcount ==2:\n",
    "#                 count2 = count2+1\n",
    "#             curcount = 1\n",
    "#             curloc = smulist[i]\n",
    "\n",
    "# #     summary_sta1_inf = (len(smulist) - 2*count2)/len(abduse)        \n",
    "# #     summary_sta2_inf = (2*count2) / len(abduse)  \n",
    "\n",
    "\n",
    "#     summary_sta1_inf = (len(smulist) - 2*count2)      \n",
    "#     summary_sta2_inf = (2*count2)         \n",
    "\n",
    "####################################################################\n",
    "\n",
    "    lenlist = numpy.zeros(len(abduse))\n",
    "    for i in range(len(abduse)):\n",
    "        lenlist[i] = abduse[i][3] - abduse[i][2]\n",
    "\n",
    "    summary_sta1_inf = statistics.mean(lenlist)\n",
    "    summary_sta2_inf = statistics.stdev(lenlist)\n",
    "\n",
    "#################################################################################################\n",
    "    stime = time.time()\n",
    "\n",
    "    for run in range(simtime):\n",
    "        \n",
    "        popsim = numpy.random.uniform(priorinipop[0],priorinipop[1])\n",
    "        ratesim = numpy.random.uniform(priorinirate[0],priorinirate[1])\n",
    "\n",
    "        if run == 0:\n",
    "            popsim = 13000\n",
    "            ratesim = 0\n",
    "        if run == 1:\n",
    "            popsim = 20000\n",
    "            ratesim = 0\n",
    "#         if run == 2:\n",
    "#             popsim = 8000\n",
    "#             ratesim = 0.001\n",
    "#         if run == 3:\n",
    "#             popsim = 8000\n",
    "#             ratesim = 0.004            \n",
    "#         if run == 4:\n",
    "#             popsim = 20000\n",
    "#             ratesim = 0.000          \n",
    "#         if run == 5:\n",
    "#             popsim = 20000\n",
    "#             ratesim = 0.000    \n",
    "        \n",
    "        \n",
    "###      model  pop = const_a + inip * exp(inir * x)   when x<1000, when x =1000, pop = known pop, 2 parameters          \n",
    "        inipopsimlist.append(popsim)\n",
    "        iniratesimlist.append(ratesim)\n",
    "        \n",
    "        \n",
    "#         demo_model = msprime.Demography.isolated_model([popsim], growth_rate=[ratesim])\n",
    "#         demo_model.add_population_parameters_change(1000,  initial_size=None, growth_rate=0, population=None)\n",
    "#         if ratesim < 0.0001:\n",
    "#             demo_model.add_population_parameters_change(2000,  initial_size=None, growth_rate=0.0001, population=None)\n",
    "        \n",
    "        \n",
    "\n",
    "        genpoint = [0*5/5.2,400*5/5.2,800*5/5.2,1200*5/5.2,1600*5/5.2,2000*5/5.2,2400*5/5.2,2800*5/5.2,\\\n",
    "                    3200*5/5.2,3600*5/5.2,4000*5/5.2,8000*5/5.2,12000*5/5.2,16000*5/5.2,20000*5/5.2]\n",
    "        inipopsize =[15200*5/5.2, 15200*5/5.2, 15600*5/5.2, 14800*5/5.2, 12400*5/5.2, 10400*5/5.2,9800*5/5.2,\\\n",
    "                     10400*5/5.2,12000*5/5.2,14400*5/5.2,16800*5/5.2,29400*5/5.2,28000*5/5.2,22000*5/5.2,18000*5/5.2]\n",
    "        genuse = []\n",
    "        inipuse = []\n",
    "        gruse = []\n",
    "        for i in range(len(genpoint)-1):\n",
    "            addplist = []\n",
    "            for j in range(10):\n",
    "                addplist.append(genpoint[i] + (genpoint[i+1]-genpoint[i])/10*j)\n",
    "            genuse = genuse + addplist               \n",
    "        for i in range(len(inipopsize)-1):\n",
    "            addplist = []\n",
    "            for j in range(10):\n",
    "                addplist.append(inipopsize[i] + (inipopsize[i+1]-inipopsize[i])/10*j)\n",
    "            inipuse = inipuse + addplist\n",
    "        genuse.append(genpoint[len(genpoint)-1])\n",
    "        inipuse.append(inipopsize[len(inipopsize)-1])\n",
    "\n",
    "        \n",
    "#         ind1000 = 0\n",
    "#         for i in range(len(genuse)):\n",
    "#             if genuse[i]<1000:\n",
    "#                 ind1000 = i\n",
    "#         consta = inipuse[ind1000] - popsim*numpy.exp(-ratesim*1000)        \n",
    "#         for i in range(len(genuse)):\n",
    "#             if genuse[i]<1000:\n",
    "#                 inipuse[i] = consta + popsim*numpy.exp(-ratesim*genuse[i]) \n",
    "#         for i in range(len(genuse)-1):\n",
    "#             gruse.append( numpy.log( inipuse[i]/inipuse[i+1] )/(genuse[i+1] - genuse[i])  )\n",
    "#         gruse.append(0)\n",
    "#         \n",
    "#         current_pop.append( consta + popsim)\n",
    "#         if consta+popsim <1000:\n",
    "#             demo_model = msprime.Demography.isolated_model([1000], growth_rate=[0.001])\n",
    "#         else:\n",
    "#             demo_model = msprime.Demography.isolated_model([inipuse[0]], growth_rate=[gruse[0]])\n",
    "#             for i in range(1,len(genuse)):\n",
    "#                 demo_model.add_population_parameters_change(genuse[i],  initial_size=inipuse[i], growth_rate=gruse[i], population=None)\n",
    "\n",
    "        for i in range(len(genuse)-1):\n",
    "            gruse.append( numpy.log( inipuse[i]/inipuse[i+1] )/(genuse[i+1] - genuse[i])  )\n",
    "        gruse.append(0)\n",
    "        \n",
    "        demo_model = msprime.Demography.isolated_model([inipuse[0]], growth_rate=[gruse[0]])\n",
    "        for i in range(1,len(genuse)):\n",
    "            demo_model.add_population_parameters_change(genuse[i],  initial_size=inipuse[i], growth_rate=gruse[i], population=None)\n",
    "\n",
    "\n",
    "\n",
    "\n",
    "#####################################################\n",
    "        ts = msprime.sim_ancestry(\n",
    "            samples=sam_size,\n",
    "            recombination_rate= r, \n",
    "            sequence_length= seq_len,\n",
    "            record_provenance=False,\n",
    "#             population_size = pop_size,\n",
    "#             gene_conversion_rate = gene_conver ,\n",
    "#             gene_conversion_tract_length = track_len,\n",
    "            #random_seed =seed,\n",
    "            #discrete_genome=False\n",
    "            demography = demo_model\n",
    "            )\n",
    "        # Visualise the simulated ancestral history.\n",
    "        #SVG(ts.draw_svg())\n",
    "\n",
    "        #ts.num_trees\n",
    "        \n",
    "        print(\"done gene\")\n",
    "\n",
    "        mts = msprime.sim_mutations(ts, rate = mu,\n",
    "                                    #discrete_genome=False,\n",
    "                                    #random_seed=seed\n",
    "                                  )\n",
    "\n",
    "        print(\"done mu\")\n",
    "\n",
    "        sample_data = tsinfer.SampleData.from_tree_sequence(mts, use_sites_time=None, use_individuals_time=None)\n",
    "\n",
    "    \n",
    "        sitefreq = numpy.sum(sample_data.sites_genotypes,1)\n",
    "        siteuse =  numpy.where( (sitefreq>freqconsider[0] ) * ( sitefreq<freqconsider[1] ) )[0]  \n",
    "        print(\"siteuse_sim\",len(siteuse))\n",
    "        datause = sample_data.subset(sites = siteuse)\n",
    "        inferred_ts = tsinfer.infer(datause,path_compression=False)\n",
    "\n",
    "#         inferred_ts = tsinfer.infer(sample_data,path_compression=False)\n",
    "\n",
    "        mts = inferred_ts\n",
    "\n",
    "        ###############################################################################\n",
    "        msites = mts.tables.mutations.site\n",
    "        sitepos = mts.tables.sites.position\n",
    "        mpos = []\n",
    "        for i in range(len(msites)):\n",
    "            cursite = msites[i]\n",
    "            mpos.append(sitepos[cursite])\n",
    "        mpos = numpy.array(mpos)\n",
    "        mnodes = mts.tables.mutations.node\n",
    "        ec = mts.tables.edges.child\n",
    "        ep = mts.tables.edges.parent\n",
    "        el = mts.tables.edges.left\n",
    "        er = mts.tables.edges.right\n",
    "\n",
    "\n",
    "        leftmost = min(el)\n",
    "        rightmost = max(er)\n",
    "        for i in range(len(el)):\n",
    "            if el[i] == leftmost:\n",
    "                el[i] = 0\n",
    "            if er[i] == rightmost:\n",
    "                er[i] = seq_len\n",
    "\n",
    "\n",
    "        if len(mpos) == 0:\n",
    "            mpos_sn = []\n",
    "            mnodes_sn = []\n",
    "        else:\n",
    "            mnp_sn = numpy.transpose(sorted(numpy.transpose(numpy.array([mnodes,mpos])).tolist()))\n",
    "            mnodes_sn = mnp_sn[0]\n",
    "            mpos_sn = mnp_sn[1]\n",
    "\n",
    "        eclrp_sc = numpy.transpose(sorted(numpy.transpose(numpy.array([ec,el,er,ep])).tolist()))\n",
    "        ec_sc = eclrp_sc[0]\n",
    "        el_sc = eclrp_sc[1]\n",
    "        er_sc = eclrp_sc[2]\n",
    "        ep_sc = eclrp_sc[3]\n",
    "        enm_sc = [[] for i in range(len(ec_sc))]\n",
    "\n",
    "        curedge = 0\n",
    "        for i in range(len(mnodes_sn)):\n",
    "            curnodemu = mnodes_sn[i] \n",
    "            cursitemu = mpos_sn[i]\n",
    "            for j in range(curedge,len(ec_sc)):\n",
    "                if curnodemu == ec_sc[j]:\n",
    "\n",
    "                    if er_sc[j] > cursitemu and el_sc[j] <= cursitemu:\n",
    "\n",
    "                        enm_sc[j].append(cursitemu)  \n",
    "\n",
    "                        curedge = j\n",
    "                        break\n",
    "                    if el_sc[j] > cursitemu:\n",
    "                        curedge = j\n",
    "                        break\n",
    "\n",
    "                if ec_sc[j] > mnodes_sn[i] or j == len(ec_sc)-1:\n",
    "                    #print(\"missing mutations\")\n",
    "                    curedge = j\n",
    "                    break\n",
    "\n",
    "\n",
    "\n",
    "\n",
    "        ###########################################################################\n",
    "        ###########################################################################\n",
    "        ##########################################################################\n",
    "\n",
    "        clocate = []\n",
    "        curc = -1\n",
    "        for i in range(len(ec_sc)):\n",
    "            while ec_sc[i] != curc:\n",
    "                curc=curc+1\n",
    "                clocate.append(i)\n",
    "        clocate.append(len(ec_sc))\n",
    "\n",
    "\n",
    "\n",
    "\n",
    "        abdlist = []\n",
    "\n",
    "        for i in range(0,2*sam_size-1):\n",
    "            for j in range(i+1,i+2):\n",
    "                canabd = []\n",
    "                curleft = 0\n",
    "                curright =seq_len\n",
    "                #start = 0\n",
    "                while curleft != seq_len:\n",
    "                    curp1 = i\n",
    "                    curp2 = j \n",
    "                    curmed = []\n",
    "                    while curp1 != curp2:\n",
    "                        if curp1 < curp2:\n",
    "                            begin1 = clocate[curp1]\n",
    "                            end = clocate[curp1+1]\n",
    "                            s_range = el_sc[begin1:end]\n",
    "                            begin2 = find_s_se(curleft,s_range)\n",
    "                            for k in range(begin1+begin2,end):\n",
    "                                if el_sc[k]<=curleft and er_sc[k] > curleft:\n",
    "                                    curp1 = int(ep_sc[k])\n",
    "                                    curoldr = curright\n",
    "                                    curright = min(er_sc[k],curright)\n",
    "\n",
    "                                    curmed.append(k)\n",
    "\n",
    "                                    break\n",
    "\n",
    "                        else:\n",
    "                            begin1 = clocate[curp2]\n",
    "                            end = clocate[curp2+1]\n",
    "                            s_range = el_sc[begin1:end]\n",
    "                            begin2 = find_s_se(curleft,s_range)\n",
    "                            for k in range(begin1+begin2,end):\n",
    "                                if el_sc[k]<=curleft and er_sc[k] > curleft:\n",
    "                                    curp2 = int(ep_sc[k])\n",
    "                                    curoldr = curright\n",
    "                                    curright = min(er_sc[k],curright) \n",
    "\n",
    "                                    curmed.append(k)\n",
    "\n",
    "                                    break\n",
    "\n",
    "                    canmution = []\n",
    "                    for k in range(len(curmed)):\n",
    "                        edgemu = enm_sc[curmed[k]]\n",
    "                        startt = find_s_s(curleft,edgemu)\n",
    "                        endd = find_s_s(curright,edgemu)                    \n",
    "                        canmution = canmution + edgemu[startt:endd] \n",
    "\n",
    "                    canabd.append([i,j,curleft,curright,curp1,canmution])\n",
    "                    curleft = curright\n",
    "                    curright = seq_len\n",
    "\n",
    "\n",
    "\n",
    "\n",
    "\n",
    "                if len(canabd)==1:\n",
    "                    abdlist = abdlist + canabd\n",
    "                else:\n",
    "                    curabd = [canabd[0][0],canabd[0][1],canabd[0][2],canabd[0][3],canabd[0][4],canabd[0][5]]\n",
    "                    for k in range(1,len(canabd)):\n",
    "                        if canabd[k][4] != canabd[k-1][4]:\n",
    "                            abdlist.append(curabd)\n",
    "                            curabd = [canabd[k][0],canabd[k][1],canabd[k][2],canabd[k][3],canabd[k][4],canabd[k][5]]\n",
    "                        else:\n",
    "                            curabd[3] = canabd[k][3]\n",
    "                            curabd[5] = curabd[5] + canabd[k][5]\n",
    "                        if k == len(canabd)-1:\n",
    "                            abdlist.append(curabd)\n",
    "\n",
    "\n",
    "    #             print(\"abdlist sample:\",i)\n",
    "        print(\"numibd\",len(abdlist))\n",
    "\n",
    "        abduse = abdlist\n",
    "\n",
    "##########################################################################\n",
    "\n",
    "#         tolnummu = 0\n",
    "#         for i in range(len(abduse)):\n",
    "#             tolnummu = tolnummu+len(abduse[i][5])\n",
    "\n",
    "\n",
    "#         muloclist = np.zeros(tolnummu)\n",
    "#         indd = 0\n",
    "#         for i in range(len(abduse)):\n",
    "#             abdc = abduse[i]\n",
    "#             lee = len(abdc[5])\n",
    "#             muloclist[indd:(indd+lee)] = abdc[5]\n",
    "#             indd = indd+lee\n",
    "            \n",
    "#         smulist = numpy.sort(muloclist)\n",
    "#         count2 = 0\n",
    "#         curloc = -1\n",
    "#         curcount = 1\n",
    "#         for i in range(len(smulist)):\n",
    "#             if smulist[i] == curloc:\n",
    "#                 curcount = curcount+1\n",
    "#             else:\n",
    "#                 if curcount ==2:\n",
    "#                     count2 = count2+1\n",
    "#                 curcount = 1\n",
    "#                 curloc = smulist[i]\n",
    "        \n",
    "# #         summary_sta1_sim = (len(smulist) - 2*count2)/len(abduse)        \n",
    "# #         summary_sta2_sim = (2*count2) / len(abduse)\n",
    "\n",
    "#         summary_sta1_sim = (len(smulist) - 2*count2)        \n",
    "#         summary_sta2_sim = (2*count2)  \n",
    "\n",
    "#         summary_sta1_simlist.append(summary_sta1_sim)\n",
    "#         summary_sta2_simlist.append(summary_sta2_sim)\n",
    "        \n",
    "        \n",
    "#########################################################################        \n",
    "        \n",
    "        lenlist = numpy.zeros(len(abduse))\n",
    "        for i in range(len(abduse)):\n",
    "            lenlist[i] = abduse[i][3] - abduse[i][2]\n",
    "\n",
    "        summary_sta1_simlist.append( statistics.mean(lenlist) )\n",
    "        summary_sta2_simlist.append( statistics.stdev(lenlist) )\n",
    "        \n",
    "        print(\"-----------------------------------\")\n",
    "        print(inipopsimlist )\n",
    "        print(iniratesimlist )\n",
    "        print(summary_sta1_simlist,summary_sta1_inf)\n",
    "        print(summary_sta2_simlist,summary_sta2_inf)\n",
    "        print(time.time()-stime, run)\n",
    "        print(\"-----------------------------------\")\n",
    "\n",
    "\n",
    "\n",
    "# byrun = 1\n",
    "# name1 = \"b_ne_realpopsimall_\"+\"run=\"+str(byrun) +\"LWK_efibd.dat\"\n",
    "# name2 = \"b_ne_realratesimall_\"+\"run=\"+str(byrun) +\"LWK_efibd.dat\"\n",
    "# name3 = \"b_ne_realsta1simall_\"+\"run=\"+str(byrun) +\"LWK_efibd.dat\"\n",
    "# name4 = \"b_ne_realsta2simall_\"+\"run=\"+str(byrun) +\"LWK_efibd.dat\"\n",
    "# name5 = \"b_ne_realsta1inf_\"+\"run=\"+str(byrun) +\"LWK_efibd.dat\"\n",
    "# name6 = \"b_ne_realsta2inf_\"+\"run=\"+str(byrun) +\"LWK_efibd.dat\"\n",
    "\n",
    "# file = open(name1,\"wb\") \n",
    "# pickle.dump(inipopsimlist,file)\n",
    "# file.close()\n",
    "\n",
    "# file = open(name2,\"wb\") \n",
    "# pickle.dump(iniratesimlist,file)\n",
    "# file.close()\n",
    "\n",
    "# file = open(name3,\"wb\") \n",
    "# pickle.dump(summary_sta1_simlist,file)\n",
    "# file.close()\n",
    "\n",
    "# file = open(name4,\"wb\") \n",
    "# pickle.dump(summary_sta2_simlist,file)\n",
    "# file.close()\n",
    "\n",
    "# file = open(name5,\"wb\") \n",
    "# pickle.dump(summary_sta1_inf,file)\n",
    "# file.close()\n",
    "\n",
    "# file = open(name6,\"wb\") \n",
    "# pickle.dump(summary_sta2_inf,file)\n",
    "# file.close()\n"
   ]
  },
  {
   "cell_type": "code",
   "execution_count": null,
   "id": "637e2ff3",
   "metadata": {},
   "outputs": [],
   "source": [
    "\n",
    "\n",
    "\n",
    "        genpoint = [0*5/5.2,400*5/5.2,800*5/5.2,1200*5/5.2,1600*5/5.2,2000*5/5.2,2400*5/5.2,2800*5/5.2,\\\n",
    "                    3200*5/5.2,3600*5/5.2,4000*5/5.2,8000*5/5.2,12000*5/5.2,16000*5/5.2,20000*5/5.2]\n",
    "        inipopsize =[15200*5/5.2, 15200*5/5.2, 15600*5/5.2, 14800*5/5.2, 12400*5/5.2, 10400*5/5.2,9800*5/5.2,\\\n",
    "                     10400*5/5.2,12000*5/5.2,14400*5/5.2,16800*5/5.2,29400*5/5.2,28000*5/5.2,22000*5/5.2,18000*5/5.2]\n",
    "        \n",
    "        \n",
    "        \n",
    "        0"
   ]
  }
 ],
 "metadata": {
  "kernelspec": {
   "display_name": "Python 3 (ipykernel)",
   "language": "python",
   "name": "python3"
  },
  "language_info": {
   "codemirror_mode": {
    "name": "ipython",
    "version": 3
   },
   "file_extension": ".py",
   "mimetype": "text/x-python",
   "name": "python",
   "nbconvert_exporter": "python",
   "pygments_lexer": "ipython3",
   "version": "3.9.12"
  }
 },
 "nbformat": 4,
 "nbformat_minor": 5
}
