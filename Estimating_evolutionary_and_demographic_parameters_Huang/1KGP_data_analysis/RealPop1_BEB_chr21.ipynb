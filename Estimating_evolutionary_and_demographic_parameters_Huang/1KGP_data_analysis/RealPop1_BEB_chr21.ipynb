{
 "cells": [
  {
   "cell_type": "code",
   "execution_count": 3,
   "id": "435b6ba1",
   "metadata": {},
   "outputs": [
    {
     "name": "stdout",
     "output_type": "stream",
     "text": [
      "siteuse_rea 65678\n",
      "numibd 54298\n",
      "done gene\n",
      "done mu\n",
      "siteuse_sim 60346\n",
      "numibd 50890\n",
      "-----------------------------------\n",
      "current_pop [106752.73514999503]\n",
      "[1424727] 1413066\n",
      "[202] 584\n",
      "[161725.53324818236] 151574.87176323254\n",
      "[719132.3762444108] 753938.7088321241\n",
      "104.01064443588257 0\n",
      "-----------------------------------\n",
      "done gene\n",
      "done mu\n",
      "siteuse_sim 61642\n",
      "numibd 51376\n",
      "-----------------------------------\n",
      "current_pop [106752.73514999503, 109071.70317385125]\n",
      "[1424727, 1509737] 1413066\n",
      "[202, 278] 584\n",
      "[161725.53324818236, 160195.66309171598] 151574.87176323254\n",
      "[719132.3762444108, 705737.0420353214] 753938.7088321241\n",
      "211.3000614643097 1\n",
      "-----------------------------------\n",
      "done gene\n",
      "done mu\n",
      "siteuse_sim 51865\n",
      "numibd 42435\n",
      "-----------------------------------\n",
      "current_pop [106752.73514999503, 109071.70317385125, 6700.0]\n",
      "[1424727, 1509737, 1266705] 1413066\n",
      "[202, 278, 160] 584\n",
      "[161725.53324818236, 160195.66309171598, 193948.6835630965] 151574.87176323254\n",
      "[719132.3762444108, 705737.0420353214, 829135.9136473743] 753938.7088321241\n",
      "299.6622450351715 2\n",
      "-----------------------------------\n",
      "done gene\n",
      "done mu\n",
      "siteuse_sim 54323\n",
      "numibd 41672\n",
      "-----------------------------------\n",
      "current_pop [106752.73514999503, 109071.70317385125, 6700.0, 6700.0]\n",
      "[1424727, 1509737, 1266705, 1326294] 1413066\n",
      "[202, 278, 160, 64] 584\n",
      "[161725.53324818236, 160195.66309171598, 193948.6835630965, 197499.81731138413] 151574.87176323254\n",
      "[719132.3762444108, 705737.0420353214, 829135.9136473743, 857353.8797946153] 753938.7088321241\n",
      "390.7851777076721 3\n",
      "-----------------------------------\n",
      "done gene\n",
      "done mu\n",
      "siteuse_sim 56322\n",
      "numibd 48748\n",
      "-----------------------------------\n",
      "current_pop [106752.73514999503, 109071.70317385125, 6700.0, 6700.0, 55784.218055563295]\n",
      "[1424727, 1509737, 1266705, 1326294, 1268075] 1413066\n",
      "[202, 278, 160, 64, 290] 584\n",
      "[161725.53324818236, 160195.66309171598, 193948.6835630965, 197499.81731138413, 168831.79590957577] 151574.87176323254\n",
      "[719132.3762444108, 705737.0420353214, 829135.9136473743, 857353.8797946153, 750089.5444717566] 753938.7088321241\n",
      "490.6718955039978 4\n",
      "-----------------------------------\n",
      "done gene\n",
      "done mu\n",
      "siteuse_sim 57110\n",
      "numibd 48603\n",
      "-----------------------------------\n",
      "current_pop [106752.73514999503, 109071.70317385125, 6700.0, 6700.0, 55784.218055563295, 55784.218055563295]\n",
      "[1424727, 1509737, 1266705, 1326294, 1268075, 1337494] 1413066\n",
      "[202, 278, 160, 64, 290, 296] 584\n",
      "[161725.53324818236, 160195.66309171598, 193948.6835630965, 197499.81731138413, 168831.79590957577, 169335.48108141473] 151574.87176323254\n",
      "[719132.3762444108, 705737.0420353214, 829135.9136473743, 857353.8797946153, 750089.5444717566, 764643.3600595193] 753938.7088321241\n",
      "591.7562458515167 5\n",
      "-----------------------------------\n"
     ]
    }
   ],
   "source": [
    "import argparse\n",
    "import os\n",
    "import re\n",
    "import numpy as np\n",
    "\n",
    "import statistics\n",
    "import msprime\n",
    "from IPython.display import SVG, display\n",
    "import tsinfer\n",
    "import scipy\n",
    "import math\n",
    "import numpy\n",
    "import tskit\n",
    "import io\n",
    "import builtins\n",
    "import sys\n",
    "from tqdm.notebook import tqdm\n",
    "from tskit import MISSING_DATA\n",
    "import pickle\n",
    "import random\n",
    "import matplotlib.pyplot as plt\n",
    "import cvxopt as opt\n",
    "from cvxopt import matrix, spmatrix, sparse\n",
    "from cvxopt.solvers import qp, options\n",
    "from cvxopt import blas\n",
    "from cvxopt import spdiag\n",
    "import statsmodels\n",
    "from statsmodels.nonparametric.kernel_regression import KernelReg\n",
    "from scipy.signal import savgol_filter\n",
    "import time\n",
    "import bisect\n",
    "\n",
    "\n",
    "def find_s(elem, sorted_list):\n",
    "    'Locate the leftmost value exactly equal to x'\n",
    "    i = bisect.bisect_left(sorted_list, elem)\n",
    "    if i != len(sorted_list) and sorted_list[i] == elem:\n",
    "        return i\n",
    "\n",
    "\n",
    "def find_s_se(elem, sorted_list):\n",
    "    'Locate the leftmost value smaller or equal to x'\n",
    "    i = bisect.bisect_right(sorted_list, elem)\n",
    "    if i != 0:\n",
    "        return i-1\n",
    "    else:\n",
    "        print(\"error\")\n",
    "\n",
    "\n",
    "def find_s_s(elem, sorted_list):\n",
    "    'Locate the leftmost value smaller or equal to x'\n",
    "    i = bisect.bisect_left(sorted_list, elem)\n",
    "    if i != 0:\n",
    "        return i\n",
    "    else:\n",
    "        return 0\n",
    "\n",
    "    \n",
    "file = open(\"recombination_map_chr21.dat\",\"rb\")\n",
    "rmap = pickle.load(file)\n",
    "file.close\n",
    "\n",
    "sam=tsinfer.load(\"tgp_chr21.samples\")\n",
    "\n",
    "BEBlist = []\n",
    "for i in range(len(sam.individuals_population)):\n",
    "    if sam.individuals_population[i]==23:\n",
    "        BEBlist.append(i)\n",
    "newdata = sam.subset(individuals=BEBlist)\n",
    "\n",
    "\n",
    "        \n",
    "seq_len = 48129897\n",
    "sam_size = 86\n",
    "r = rmap\n",
    "mu = 1.375*10**(-8)\n",
    "# gene_conver = 10**(-8)\n",
    "# track_len = 100\n",
    "# epsilon = 0.0001\n",
    "totaliter=1\n",
    "\n",
    "simtime = 100\n",
    "# priormu = [1.0*10**(-8), 2.0*10**(-8)]\n",
    "# prioreps = [0, 0.0002]\n",
    "# accept_threshold = [1000,400]\n",
    "freqconsider = [1,40]\n",
    "priorinipop = [120000, 5000]\n",
    "priorinirate = [-0.001 , 0.004]\n",
    "\n",
    "\n",
    "\n",
    "\n",
    "inipopsimlist = []\n",
    "iniratesimlist = []\n",
    "summary_sta1_simlist = []\n",
    "summary_sta2_simlist = []\n",
    "summary_sta3_simlist = []\n",
    "summary_sta4_simlist = []\n",
    "current_pop = []\n",
    "\n",
    "for iter in range(totaliter):\n",
    "\n",
    "    sitefreq = numpy.sum(newdata.sites_genotypes,1)\n",
    "    siteuse =  numpy.where( (sitefreq>freqconsider[0] ) * ( sitefreq<freqconsider[1] ) )[0]  \n",
    "    print(\"siteuse_rea\",len(siteuse))\n",
    "\n",
    "    datause = newdata.subset(sites = siteuse)\n",
    "\n",
    "    inferred_ts = tsinfer.infer(datause,path_compression=False)\n",
    "\n",
    "\n",
    "\n",
    "    mts = inferred_ts\n",
    "\n",
    "    ###############################################################################\n",
    "    msites = mts.tables.mutations.site\n",
    "    sitepos = mts.tables.sites.position\n",
    "    mpos = []\n",
    "    for i in range(len(msites)):\n",
    "        cursite = msites[i]\n",
    "        mpos.append(sitepos[cursite])\n",
    "    mpos = numpy.array(mpos)\n",
    "    mnodes = mts.tables.mutations.node\n",
    "    ec = mts.tables.edges.child\n",
    "    ep = mts.tables.edges.parent\n",
    "    el = mts.tables.edges.left\n",
    "    er = mts.tables.edges.right\n",
    "\n",
    "\n",
    "    leftmost = min(el)\n",
    "    rightmost = max(er)\n",
    "    for i in range(len(el)):\n",
    "        if el[i] == leftmost:\n",
    "            el[i] = 0\n",
    "        if er[i] == rightmost:\n",
    "            er[i] = seq_len\n",
    "\n",
    "\n",
    "    if len(mpos) == 0:\n",
    "        mpos_sn = []\n",
    "        mnodes_sn = []\n",
    "    else:\n",
    "        mnp_sn = numpy.transpose(sorted(numpy.transpose(numpy.array([mnodes,mpos])).tolist()))\n",
    "        mnodes_sn = mnp_sn[0]\n",
    "        mpos_sn = mnp_sn[1]\n",
    "\n",
    "    eclrp_sc = numpy.transpose(sorted(numpy.transpose(numpy.array([ec,el,er,ep])).tolist()))\n",
    "    ec_sc = eclrp_sc[0]\n",
    "    el_sc = eclrp_sc[1]\n",
    "    er_sc = eclrp_sc[2]\n",
    "    ep_sc = eclrp_sc[3]\n",
    "    enm_sc = [[] for i in range(len(ec_sc))]\n",
    "\n",
    "    curedge = 0\n",
    "    for i in range(len(mnodes_sn)):\n",
    "        curnodemu = mnodes_sn[i] \n",
    "        cursitemu = mpos_sn[i]\n",
    "        for j in range(curedge,len(ec_sc)):\n",
    "            if curnodemu == ec_sc[j]:\n",
    "\n",
    "                if er_sc[j] > cursitemu and el_sc[j] <= cursitemu:\n",
    "\n",
    "                    enm_sc[j].append(cursitemu)  \n",
    "\n",
    "                    curedge = j\n",
    "                    break\n",
    "                if el_sc[j] > cursitemu:\n",
    "                    curedge = j\n",
    "                    break\n",
    "\n",
    "            if ec_sc[j] > mnodes_sn[i] or j == len(ec_sc)-1:\n",
    "                #print(\"missing mutations\")\n",
    "                curedge = j\n",
    "                break\n",
    "\n",
    "\n",
    "\n",
    "\n",
    "    ###########################################################################\n",
    "    ###########################################################################\n",
    "    ##########################################################################\n",
    "\n",
    "    clocate = []\n",
    "    curc = -1\n",
    "    for i in range(len(ec_sc)):\n",
    "        while ec_sc[i] != curc:\n",
    "            curc=curc+1\n",
    "            clocate.append(i)\n",
    "    clocate.append(len(ec_sc))\n",
    "\n",
    "\n",
    "\n",
    "\n",
    "    abdlist = []\n",
    "\n",
    "    for i in range(0,2*sam_size-1):\n",
    "        for j in range(i+1,i+2):\n",
    "            canabd = []\n",
    "            curleft = 0\n",
    "            curright =seq_len\n",
    "            #start = 0\n",
    "            while curleft != seq_len:\n",
    "                curp1 = i\n",
    "                curp2 = j \n",
    "                curmed = []\n",
    "                while curp1 != curp2:\n",
    "                    if curp1 < curp2:\n",
    "                        begin1 = clocate[curp1]\n",
    "                        end = clocate[curp1+1]\n",
    "                        s_range = el_sc[begin1:end]\n",
    "                        begin2 = find_s_se(curleft,s_range)\n",
    "                        for k in range(begin1+begin2,end):\n",
    "                            if el_sc[k]<=curleft and er_sc[k] > curleft:\n",
    "                                curp1 = int(ep_sc[k])\n",
    "                                curoldr = curright\n",
    "                                curright = min(er_sc[k],curright)\n",
    "\n",
    "                                curmed.append(k)\n",
    "\n",
    "                                break\n",
    "\n",
    "                    else:\n",
    "                        begin1 = clocate[curp2]\n",
    "                        end = clocate[curp2+1]\n",
    "                        s_range = el_sc[begin1:end]\n",
    "                        begin2 = find_s_se(curleft,s_range)\n",
    "                        for k in range(begin1+begin2,end):\n",
    "                            if el_sc[k]<=curleft and er_sc[k] > curleft:\n",
    "                                curp2 = int(ep_sc[k])\n",
    "                                curoldr = curright\n",
    "                                curright = min(er_sc[k],curright) \n",
    "\n",
    "                                curmed.append(k)\n",
    "\n",
    "                                break\n",
    "\n",
    "                canmution = []\n",
    "                for k in range(len(curmed)):\n",
    "                    edgemu = enm_sc[curmed[k]]\n",
    "                    startt = find_s_s(curleft,edgemu)\n",
    "                    endd = find_s_s(curright,edgemu)                    \n",
    "                    canmution = canmution + edgemu[startt:endd] \n",
    "\n",
    "                canabd.append([i,j,curleft,curright,curp1,canmution])\n",
    "                curleft = curright\n",
    "                curright = seq_len\n",
    "\n",
    "\n",
    "\n",
    "\n",
    "\n",
    "            if len(canabd)==1:\n",
    "                abdlist = abdlist + canabd\n",
    "            else:\n",
    "                curabd = [canabd[0][0],canabd[0][1],canabd[0][2],canabd[0][3],canabd[0][4],canabd[0][5]]\n",
    "                for k in range(1,len(canabd)):\n",
    "                    if canabd[k][4] != canabd[k-1][4]:\n",
    "                        abdlist.append(curabd)\n",
    "                        curabd = [canabd[k][0],canabd[k][1],canabd[k][2],canabd[k][3],canabd[k][4],canabd[k][5]]\n",
    "                    else:\n",
    "                        curabd[3] = canabd[k][3]\n",
    "                        curabd[5] = curabd[5] + canabd[k][5]\n",
    "                    if k == len(canabd)-1:\n",
    "                        abdlist.append(curabd)\n",
    "\n",
    "\n",
    "\n",
    "#             print(\"abdlist sample:\",i)\n",
    "    print(\"numibd\",len(abdlist))\n",
    "    \n",
    "    abduse = abdlist\n",
    "\n",
    "#########################################################################\n",
    "\n",
    "    tolnummu = 0\n",
    "    for i in range(len(abduse)):\n",
    "        tolnummu = tolnummu+len(abduse[i][5])\n",
    "\n",
    "\n",
    "    muloclist = np.zeros(tolnummu)\n",
    "    indd = 0\n",
    "    for i in range(len(abduse)):\n",
    "        abdc = abduse[i]\n",
    "        lee = len(abdc[5])\n",
    "        muloclist[indd:(indd+lee)] = abdc[5]\n",
    "        indd = indd+lee\n",
    "\n",
    "    smulist = numpy.sort(muloclist)\n",
    "    count2 = 0\n",
    "    curloc = -1\n",
    "    curcount = 1\n",
    "    for i in range(len(smulist)):\n",
    "        if smulist[i] == curloc:\n",
    "            curcount = curcount+1\n",
    "        else:\n",
    "            if curcount ==2:\n",
    "                count2 = count2+1\n",
    "            curcount = 1\n",
    "            curloc = smulist[i]\n",
    "\n",
    "#         summary_sta1_sim = (len(smulist) - 2*count2)/len(abduse)        \n",
    "#         summary_sta2_sim = (2*count2) / len(abduse)\n",
    "\n",
    "    summary_sta1_inf = (len(smulist) - 2*count2)        \n",
    "    summary_sta2_inf = (2*count2)  \n",
    "\n",
    "\n",
    "\n",
    "\n",
    "########################################################################            \n",
    "\n",
    "\n",
    "\n",
    "    lenlist = numpy.zeros(len(abduse))\n",
    "    for i in range(len(abduse)):\n",
    "        lenlist[i] = abduse[i][3] - abduse[i][2]\n",
    "\n",
    "    summary_sta3_inf = statistics.mean(lenlist) \n",
    "    summary_sta4_inf = statistics.stdev(lenlist) \n",
    "\n",
    "#################################################################################################\n",
    "    stime = time.time()\n",
    "\n",
    "    for run in range(simtime):\n",
    "        \n",
    "        popsim = numpy.random.uniform(priorinipop[0],priorinipop[1])\n",
    "        ratesim = numpy.random.uniform(priorinirate[0],priorinirate[1])\n",
    "\n",
    "#         if run == 0:\n",
    "#             popsim = 109000\n",
    "#             ratesim = 0.0025\n",
    "#         if run == 1:\n",
    "#             popsim = 109000\n",
    "#             ratesim = 0.0028\n",
    "#         if run == 2:\n",
    "#             popsim = 4000\n",
    "#             ratesim = 0.000\n",
    "#         if run == 3:\n",
    "#             popsim = 4000\n",
    "#             ratesim = 0.000            \n",
    "#         if run == 4:\n",
    "#             popsim = 50000\n",
    "#             ratesim = 0.004          \n",
    "#         if run == 5:\n",
    "#             popsim = 50000\n",
    "#             ratesim = 0.004   \n",
    "        \n",
    "        \n",
    "        \n",
    "        inipopsimlist.append(popsim)\n",
    "        iniratesimlist.append(ratesim)\n",
    "        \n",
    "        \n",
    "#         demo_model = msprime.Demography.isolated_model([popsim], growth_rate=[ratesim])\n",
    "#         demo_model.add_population_parameters_change(800,  initial_size=None, growth_rate=0, population=None)\n",
    "\n",
    "\n",
    "        genpoint = [0*5/5.2,400*5/5.2,800*5/5.2,1200*5/5.2,1600*5/5.2,2000*5/5.2,2400*5/5.2,2800*5/5.2,\\\n",
    "                    3200*5/5.2,3600*5/5.2,4000*5/5.2,8000*5/5.2,12000*5/5.2,16000*5/5.2,20000*5/5.2]\n",
    "        inipopsize =[109000,35500,11500,1900,2300,2900,3500,4200,5800,7700,9600,25800,25800,21200,21200]\n",
    "        genuse = []\n",
    "        inipuse = []\n",
    "        gruse = []\n",
    "        for i in range(len(genpoint)-1):\n",
    "            addplist = []\n",
    "            for j in range(10):\n",
    "                addplist.append(genpoint[i] + (genpoint[i+1]-genpoint[i])/10*j)\n",
    "            genuse = genuse + addplist               \n",
    "        for i in range(len(inipopsize)-1):\n",
    "            addplist = []\n",
    "            for j in range(10):\n",
    "                addplist.append(inipopsize[i] + (inipopsize[i+1]-inipopsize[i])/10*j)\n",
    "            inipuse = inipuse + addplist\n",
    "        genuse.append(genpoint[len(genpoint)-1])\n",
    "        inipuse.append(inipopsize[len(inipopsize)-1])\n",
    "\n",
    "        \n",
    "        ind1000 = 0\n",
    "        for i in range(len(genuse)):\n",
    "            if genuse[i]<1000:\n",
    "                ind1000 = i\n",
    "        consta = inipuse[ind1000] - popsim*numpy.exp(-ratesim*1000)        \n",
    "        for i in range(len(genuse)):\n",
    "            if genuse[i]<1000:\n",
    "                inipuse[i] = consta + popsim*numpy.exp(-ratesim*genuse[i]) \n",
    "        for i in range(len(genuse)-1):\n",
    "            gruse.append( numpy.log( inipuse[i]/inipuse[i+1] )/(genuse[i+1] - genuse[i])  )\n",
    "        gruse.append(0)\n",
    "        \n",
    "        current_pop.append( consta + popsim)\n",
    "        if consta+popsim <1000:\n",
    "            demo_model = msprime.Demography.isolated_model([1000], growth_rate=[0.001])\n",
    "        else:\n",
    "            demo_model = msprime.Demography.isolated_model([inipuse[0]], growth_rate=[gruse[0]])\n",
    "            for i in range(1,len(genuse)):\n",
    "                demo_model.add_population_parameters_change(genuse[i],  initial_size=inipuse[i], growth_rate=gruse[i], population=None)\n",
    "\n",
    "                \n",
    "                \n",
    "\n",
    "#         for i in range(len(genuse)-1):\n",
    "#             gruse.append( numpy.log( inipuse[i]/inipuse[i+1] )/(genuse[i+1] - genuse[i])  )\n",
    "#         gruse.append(0)\n",
    "        \n",
    "\n",
    "#         demo_model = msprime.Demography.isolated_model([inipuse[0]], growth_rate=[gruse[0]])\n",
    "#         for i in range(1,len(genuse)):\n",
    "#             demo_model.add_population_parameters_change(genuse[i],  initial_size=inipuse[i], growth_rate=gruse[i], population=None)\n",
    "\n",
    "\n",
    "\n",
    "\n",
    "\n",
    "        ts = msprime.sim_ancestry(\n",
    "            samples=sam_size,\n",
    "            recombination_rate= r, \n",
    "            sequence_length= seq_len,\n",
    "            record_provenance=False,\n",
    "#             population_size = pop_size,\n",
    "#             gene_conversion_rate = gene_conver ,\n",
    "#             gene_conversion_tract_length = track_len,\n",
    "            #random_seed =seed,\n",
    "            #discrete_genome=False\n",
    "            demography = demo_model\n",
    "            )\n",
    "        # Visualise the simulated ancestral history.\n",
    "        #SVG(ts.draw_svg())\n",
    "\n",
    "        #ts.num_trees\n",
    "        \n",
    "        print(\"done gene\")\n",
    "\n",
    "        mts = msprime.sim_mutations(ts, rate = mu,\n",
    "                                    #discrete_genome=False,\n",
    "                                    #random_seed=seed\n",
    "                                  )\n",
    "\n",
    "        print(\"done mu\")\n",
    "\n",
    "        sample_data = tsinfer.SampleData.from_tree_sequence(mts, use_sites_time=None, use_individuals_time=None)\n",
    "\n",
    "    \n",
    "        sitefreq = numpy.sum(sample_data.sites_genotypes,1)\n",
    "        siteuse =  numpy.where( (sitefreq>freqconsider[0] ) * ( sitefreq<freqconsider[1] ) )[0]  \n",
    "        print(\"siteuse_sim\",len(siteuse))\n",
    "\n",
    "        datause = sample_data.subset(sites = siteuse)\n",
    "\n",
    "        inferred_ts = tsinfer.infer(datause,path_compression=False)\n",
    "\n",
    "\n",
    "\n",
    "        mts = inferred_ts\n",
    "\n",
    "        ###############################################################################\n",
    "        msites = mts.tables.mutations.site\n",
    "        sitepos = mts.tables.sites.position\n",
    "        mpos = []\n",
    "        for i in range(len(msites)):\n",
    "            cursite = msites[i]\n",
    "            mpos.append(sitepos[cursite])\n",
    "        mpos = numpy.array(mpos)\n",
    "        mnodes = mts.tables.mutations.node\n",
    "        ec = mts.tables.edges.child\n",
    "        ep = mts.tables.edges.parent\n",
    "        el = mts.tables.edges.left\n",
    "        er = mts.tables.edges.right\n",
    "\n",
    "\n",
    "        leftmost = min(el)\n",
    "        rightmost = max(er)\n",
    "        for i in range(len(el)):\n",
    "            if el[i] == leftmost:\n",
    "                el[i] = 0\n",
    "            if er[i] == rightmost:\n",
    "                er[i] = seq_len\n",
    "\n",
    "\n",
    "        if len(mpos) == 0:\n",
    "            mpos_sn = []\n",
    "            mnodes_sn = []\n",
    "        else:\n",
    "            mnp_sn = numpy.transpose(sorted(numpy.transpose(numpy.array([mnodes,mpos])).tolist()))\n",
    "            mnodes_sn = mnp_sn[0]\n",
    "            mpos_sn = mnp_sn[1]\n",
    "\n",
    "        eclrp_sc = numpy.transpose(sorted(numpy.transpose(numpy.array([ec,el,er,ep])).tolist()))\n",
    "        ec_sc = eclrp_sc[0]\n",
    "        el_sc = eclrp_sc[1]\n",
    "        er_sc = eclrp_sc[2]\n",
    "        ep_sc = eclrp_sc[3]\n",
    "        enm_sc = [[] for i in range(len(ec_sc))]\n",
    "\n",
    "        curedge = 0\n",
    "        for i in range(len(mnodes_sn)):\n",
    "            curnodemu = mnodes_sn[i] \n",
    "            cursitemu = mpos_sn[i]\n",
    "            for j in range(curedge,len(ec_sc)):\n",
    "                if curnodemu == ec_sc[j]:\n",
    "\n",
    "                    if er_sc[j] > cursitemu and el_sc[j] <= cursitemu:\n",
    "\n",
    "                        enm_sc[j].append(cursitemu)  \n",
    "\n",
    "                        curedge = j\n",
    "                        break\n",
    "                    if el_sc[j] > cursitemu:\n",
    "                        curedge = j\n",
    "                        break\n",
    "\n",
    "                if ec_sc[j] > mnodes_sn[i] or j == len(ec_sc)-1:\n",
    "                    #print(\"missing mutations\")\n",
    "                    curedge = j\n",
    "                    break\n",
    "\n",
    "\n",
    "\n",
    "\n",
    "        ###########################################################################\n",
    "        ###########################################################################\n",
    "        ##########################################################################\n",
    "\n",
    "        clocate = []\n",
    "        curc = -1\n",
    "        for i in range(len(ec_sc)):\n",
    "            while ec_sc[i] != curc:\n",
    "                curc=curc+1\n",
    "                clocate.append(i)\n",
    "        clocate.append(len(ec_sc))\n",
    "\n",
    "\n",
    "\n",
    "\n",
    "        abdlist = []\n",
    "\n",
    "        for i in range(0,2*sam_size-1):\n",
    "            for j in range(i+1,i+2):\n",
    "                canabd = []\n",
    "                curleft = 0\n",
    "                curright =seq_len\n",
    "                #start = 0\n",
    "                while curleft != seq_len:\n",
    "                    curp1 = i\n",
    "                    curp2 = j \n",
    "                    curmed = []\n",
    "                    while curp1 != curp2:\n",
    "                        if curp1 < curp2:\n",
    "                            begin1 = clocate[curp1]\n",
    "                            end = clocate[curp1+1]\n",
    "                            s_range = el_sc[begin1:end]\n",
    "                            begin2 = find_s_se(curleft,s_range)\n",
    "                            for k in range(begin1+begin2,end):\n",
    "                                if el_sc[k]<=curleft and er_sc[k] > curleft:\n",
    "                                    curp1 = int(ep_sc[k])\n",
    "                                    curoldr = curright\n",
    "                                    curright = min(er_sc[k],curright)\n",
    "\n",
    "                                    curmed.append(k)\n",
    "\n",
    "                                    break\n",
    "\n",
    "                        else:\n",
    "                            begin1 = clocate[curp2]\n",
    "                            end = clocate[curp2+1]\n",
    "                            s_range = el_sc[begin1:end]\n",
    "                            begin2 = find_s_se(curleft,s_range)\n",
    "                            for k in range(begin1+begin2,end):\n",
    "                                if el_sc[k]<=curleft and er_sc[k] > curleft:\n",
    "                                    curp2 = int(ep_sc[k])\n",
    "                                    curoldr = curright\n",
    "                                    curright = min(er_sc[k],curright) \n",
    "\n",
    "                                    curmed.append(k)\n",
    "\n",
    "                                    break\n",
    "\n",
    "                    canmution = []\n",
    "                    for k in range(len(curmed)):\n",
    "                        edgemu = enm_sc[curmed[k]]\n",
    "                        startt = find_s_s(curleft,edgemu)\n",
    "                        endd = find_s_s(curright,edgemu)                    \n",
    "                        canmution = canmution + edgemu[startt:endd] \n",
    "\n",
    "                    canabd.append([i,j,curleft,curright,curp1,canmution])\n",
    "                    curleft = curright\n",
    "                    curright = seq_len\n",
    "\n",
    "\n",
    "\n",
    "\n",
    "\n",
    "                if len(canabd)==1:\n",
    "                    abdlist = abdlist + canabd\n",
    "                else:\n",
    "                    curabd = [canabd[0][0],canabd[0][1],canabd[0][2],canabd[0][3],canabd[0][4],canabd[0][5]]\n",
    "                    for k in range(1,len(canabd)):\n",
    "                        if canabd[k][4] != canabd[k-1][4]:\n",
    "                            abdlist.append(curabd)\n",
    "                            curabd = [canabd[k][0],canabd[k][1],canabd[k][2],canabd[k][3],canabd[k][4],canabd[k][5]]\n",
    "                        else:\n",
    "                            curabd[3] = canabd[k][3]\n",
    "                            curabd[5] = curabd[5] + canabd[k][5]\n",
    "                        if k == len(canabd)-1:\n",
    "                            abdlist.append(curabd)\n",
    "\n",
    "\n",
    "    #             print(\"abdlist sample:\",i)\n",
    "        print(\"numibd\",len(abdlist))\n",
    "\n",
    "        abduse = abdlist\n",
    "\n",
    "\n",
    "        tolnummu = 0\n",
    "        for i in range(len(abduse)):\n",
    "            tolnummu = tolnummu+len(abduse[i][5])\n",
    "\n",
    "\n",
    "        muloclist = np.zeros(tolnummu)\n",
    "        indd = 0\n",
    "        for i in range(len(abduse)):\n",
    "            abdc = abduse[i]\n",
    "            lee = len(abdc[5])\n",
    "            muloclist[indd:(indd+lee)] = abdc[5]\n",
    "            indd = indd+lee\n",
    "            \n",
    "        smulist = numpy.sort(muloclist)\n",
    "        count2 = 0\n",
    "        curloc = -1\n",
    "        curcount = 1\n",
    "        for i in range(len(smulist)):\n",
    "            if smulist[i] == curloc:\n",
    "                curcount = curcount+1\n",
    "            else:\n",
    "                if curcount ==2:\n",
    "                    count2 = count2+1\n",
    "                curcount = 1\n",
    "                curloc = smulist[i]\n",
    "        \n",
    "#         summary_sta1_sim = (len(smulist) - 2*count2)/len(abduse)        \n",
    "#         summary_sta2_sim = (2*count2) / len(abduse)\n",
    "\n",
    "        summary_sta1_sim = (len(smulist) - 2*count2)        \n",
    "        summary_sta2_sim = (2*count2)  \n",
    "\n",
    "        summary_sta1_simlist.append(summary_sta1_sim)\n",
    "        summary_sta2_simlist.append(summary_sta2_sim)\n",
    "        \n",
    "        \n",
    "########################################################################            \n",
    "        \n",
    "        \n",
    "\n",
    "        lenlist = numpy.zeros(len(abduse))\n",
    "        for i in range(len(abduse)):\n",
    "            lenlist[i] = abduse[i][3] - abduse[i][2]\n",
    "\n",
    "        summary_sta3_simlist.append( statistics.mean(lenlist) )\n",
    "        summary_sta4_simlist.append( statistics.stdev(lenlist) )\n",
    "        \n",
    "        print(\"-----------------------------------\")\n",
    "        print(\"current_pop\",current_pop )\n",
    "#         print(inipopsimlist )\n",
    "#         print(iniratesimlist )\n",
    "        print(summary_sta1_simlist,summary_sta1_inf)\n",
    "        print(summary_sta2_simlist,summary_sta2_inf)\n",
    "        print(summary_sta3_simlist,summary_sta3_inf)\n",
    "        print(summary_sta4_simlist,summary_sta4_inf)\n",
    "        print(time.time()-stime, run)\n",
    "        print(\"-----------------------------------\")\n",
    "\n",
    "\n",
    "\n",
    "\n",
    "byrun = 1\n",
    "name0 = \"d_ne_realcurrentpop_\"+\"run=\"+str(byrun) +\"BEB_chr21_efibd.dat\"\n",
    "name1 = \"d_ne_realpopsimall_\"+\"run=\"+str(byrun) +\"BEB_chr21_efibd.dat\"\n",
    "name2 = \"d_ne_realratesimall_\"+\"run=\"+str(byrun) +\"BEB_chr21_efibd.dat\"\n",
    "name3 = \"d_ne_realsta1simall_\"+\"run=\"+str(byrun) +\"BEB_chr21_efibd.dat\"\n",
    "name4 = \"d_ne_realsta2simall_\"+\"run=\"+str(byrun) +\"BEB_chr21_efibd.dat\"\n",
    "name5 = \"d_ne_realsta1inf_\"+\"run=\"+str(byrun) +\"BEB_chr21_efibd.dat\"\n",
    "name6 = \"d_ne_realsta2inf_\"+\"run=\"+str(byrun) +\"BEB_chr21_efibd.dat\"\n",
    "name7 = \"d_ne_realsta3simall_\"+\"run=\"+str(byrun) +\"BEB_chr21_efibd.dat\"\n",
    "name8 = \"d_ne_realsta4simall_\"+\"run=\"+str(byrun) +\"BEB_chr21_efibd.dat\"\n",
    "name9 = \"d_ne_realsta3inf_\"+\"run=\"+str(byrun) +\"BEB_chr21_efibd.dat\"\n",
    "name10 = \"d_ne_realsta4inf_\"+\"run=\"+str(byrun) +\"BEB_chr21_efibd.dat\"\n",
    "\n",
    "file = open(name0,\"wb\") \n",
    "pickle.dump(current_pop,file)\n",
    "file.close()\n",
    "\n",
    "file = open(name1,\"wb\") \n",
    "pickle.dump(inipopsimlist,file)\n",
    "file.close()\n",
    "\n",
    "file = open(name2,\"wb\") \n",
    "pickle.dump(iniratesimlist,file)\n",
    "file.close()\n",
    "\n",
    "file = open(name3,\"wb\") \n",
    "pickle.dump(summary_sta1_simlist,file)\n",
    "file.close()\n",
    "\n",
    "file = open(name4,\"wb\") \n",
    "pickle.dump(summary_sta2_simlist,file)\n",
    "file.close()\n",
    "\n",
    "file = open(name5,\"wb\") \n",
    "pickle.dump(summary_sta1_inf,file)\n",
    "file.close()\n",
    "\n",
    "file = open(name6,\"wb\") \n",
    "pickle.dump(summary_sta2_inf,file)\n",
    "file.close()\n",
    "\n",
    "file = open(name7,\"wb\") \n",
    "pickle.dump(summary_sta3_simlist,file)\n",
    "file.close()\n",
    "\n",
    "file = open(name8,\"wb\") \n",
    "pickle.dump(summary_sta4_simlist,file)\n",
    "file.close()\n",
    "\n",
    "file = open(name9,\"wb\") \n",
    "pickle.dump(summary_sta3_inf,file)\n",
    "file.close()\n",
    "\n",
    "file = open(name10,\"wb\") \n",
    "pickle.dump(summary_sta4_inf,file)\n",
    "file.close()\n",
    "\n",
    "\n"
   ]
  },
  {
   "cell_type": "code",
   "execution_count": 13,
   "id": "abc61671",
   "metadata": {},
   "outputs": [
    {
     "data": {
      "text/plain": [
       "0"
      ]
     },
     "execution_count": 13,
     "metadata": {},
     "output_type": "execute_result"
    }
   ],
   "source": [
    "run"
   ]
  },
  {
   "cell_type": "code",
   "execution_count": 53,
   "id": "ef7479de",
   "metadata": {},
   "outputs": [
    {
     "data": {
      "text/plain": [
       "0.14753266960496006"
      ]
     },
     "execution_count": 53,
     "metadata": {},
     "output_type": "execute_result"
    }
   ],
   "source": [
    "80000*numpy.exp(-0.0033*1000)*0.00005"
   ]
  },
  {
   "cell_type": "code",
   "execution_count": null,
   "id": "71e9dbcc",
   "metadata": {},
   "outputs": [],
   "source": []
  },
  {
   "cell_type": "code",
   "execution_count": null,
   "id": "fd9759cf",
   "metadata": {},
   "outputs": [],
   "source": []
  },
  {
   "cell_type": "code",
   "execution_count": 273,
   "id": "d77650c2",
   "metadata": {},
   "outputs": [
    {
     "data": {
      "text/plain": [
       "0.0011417817431495782"
      ]
     },
     "execution_count": 273,
     "metadata": {},
     "output_type": "execute_result"
    }
   ],
   "source": [
    "numpy.log(17400/2800)/1600"
   ]
  },
  {
   "cell_type": "code",
   "execution_count": null,
   "id": "67b778be",
   "metadata": {},
   "outputs": [],
   "source": []
  },
  {
   "cell_type": "code",
   "execution_count": 4,
   "id": "eb62691e",
   "metadata": {},
   "outputs": [
    {
     "name": "stdout",
     "output_type": "stream",
     "text": [
      "[45356.446983893] 26146.165747782954\n"
     ]
    }
   ],
   "source": [
    "print(summary_sta1_simlist,summary_sta1_inf)"
   ]
  },
  {
   "cell_type": "code",
   "execution_count": 5,
   "id": "39ae8072",
   "metadata": {},
   "outputs": [
    {
     "name": "stdout",
     "output_type": "stream",
     "text": [
      "[112627.66199712963] 98726.89867695006\n"
     ]
    }
   ],
   "source": [
    "print(summary_sta2_simlist,summary_sta2_inf)"
   ]
  },
  {
   "cell_type": "code",
   "execution_count": null,
   "id": "cc0ad0ce",
   "metadata": {},
   "outputs": [],
   "source": []
  },
  {
   "cell_type": "code",
   "execution_count": null,
   "id": "3ab96b28",
   "metadata": {},
   "outputs": [],
   "source": [
    "0.011"
   ]
  },
  {
   "cell_type": "code",
   "execution_count": null,
   "id": "18be3c74",
   "metadata": {},
   "outputs": [],
   "source": []
  },
  {
   "cell_type": "code",
   "execution_count": null,
   "id": "f1c2dad8",
   "metadata": {},
   "outputs": [
    {
     "name": "stdout",
     "output_type": "stream",
     "text": [
      "done gene\n",
      "done mu\n",
      "siteuse_sim 68533\n",
      "numibd 61501\n",
      "212131.23451651193\n",
      "459052.34887333796\n",
      "done gene\n",
      "done mu\n",
      "siteuse_sim 67646\n",
      "numibd 60229\n",
      "216611.31770409603\n",
      "477934.3481747472\n",
      "done gene\n",
      "done mu\n",
      "siteuse_sim 170457\n",
      "numibd 137585\n",
      "94823.44044772323\n",
      "231272.51366540528\n",
      "done gene\n",
      "done mu\n",
      "siteuse_sim 168195\n"
     ]
    }
   ],
   "source": [
    "    stime = time.time()\n",
    "\n",
    "    for run in range(simtime):\n",
    "        \n",
    "        popsim = numpy.random.uniform(priorinipop[0],priorinipop[1])\n",
    "        ratesim = numpy.random.uniform(priorinirate[0],priorinirate[1])\n",
    "\n",
    "        if run == 0:\n",
    "            popsim = 8000\n",
    "            ratesim = 0.000\n",
    "        if run == 1:\n",
    "            popsim = 8000\n",
    "            ratesim = 0.000\n",
    "        if run == 2:\n",
    "            popsim = 15000\n",
    "            ratesim = 0.000\n",
    "        if run == 3:\n",
    "            popsim = 15000\n",
    "            ratesim = 0.000            \n",
    "        if run == 4:\n",
    "            popsim = 120000\n",
    "            ratesim = 0.002          \n",
    "        if run == 5:\n",
    "            popsim = 120000\n",
    "            ratesim = 0.002    \n",
    "        \n",
    "        \n",
    "        \n",
    "        inipopsimlist.append(popsim)\n",
    "        iniratesimlist.append(ratesim)\n",
    "        \n",
    "        \n",
    "        demo_model = msprime.Demography.isolated_model([popsim], growth_rate=[ratesim])\n",
    "        demo_model.add_population_parameters_change(1000,  initial_size=None, growth_rate=0, population=None)\n",
    "\n",
    "\n",
    "#         genpoint = [0*5/5.2,400*5/5.2,800*5/5.2,1200*5/5.2,1600*5/5.2,2000*5/5.2,2400*5/5.2,2800*5/5.2,\\\n",
    "#                     3200*5/5.2,3600*5/5.2,4000*5/5.2,8000*5/5.2,12000*5/5.2,16000*5/5.2,20000*5/5.2]\n",
    "#         inipopsize =[76232*5/5.2, 17400*5/5.2, 4000*5/5.2, 1400*5/5.2, 2200*5/5.2, 2800*5/5.2,3600*5/5.2,\\\n",
    "#                      4400*5/5.2,6000*5/5.2,8000*5/5.2,10000*5/5.2,26800*5/5.2,26800*5/5.2,22000*5/5.2,18000*5/5.2]\n",
    "#         genuse = []\n",
    "#         inipuse = []\n",
    "#         gruse = []\n",
    "#         for i in range(len(genpoint)-1):\n",
    "#             addplist = []\n",
    "#             for j in range(10):\n",
    "#                 addplist.append(genpoint[i] + (genpoint[i+1]-genpoint[i])/10*j)\n",
    "#             genuse = genuse + addplist\n",
    "#         for i in range(len(inipopsize)-1):\n",
    "#             addplist = []\n",
    "#             for j in range(10):\n",
    "#                 addplist.append(inipopsize[i] + (inipopsize[i+1]-inipopsize[i])/10*j)\n",
    "#             inipuse = inipuse + addplist\n",
    "#         genuse.append(genpoint[len(genpoint)-1])\n",
    "#         inipuse.append(inipopsize[len(inipopsize)-1])\n",
    "#         for i in range(len(genuse)-1):\n",
    "#             gruse.append( numpy.log( inipuse[i]/inipuse[i+1] )/(genuse[i+1] - genuse[i])  )\n",
    "#         gruse.append(0.000005)\n",
    "\n",
    "\n",
    "#         demo_model = msprime.Demography.isolated_model([inipuse[0]], growth_rate=[gruse[0]])\n",
    "#         for i in range(1,len(genuse)):\n",
    "#             demo_model.add_population_parameters_change(genuse[i],  initial_size=inipuse[i], growth_rate=gruse[i], population=None)\n",
    "\n",
    "\n",
    "\n",
    "\n",
    "        ts = msprime.sim_ancestry(\n",
    "            samples=sam_size,\n",
    "            recombination_rate= r, \n",
    "            sequence_length= seq_len,\n",
    "            record_provenance=False,\n",
    "#             population_size = pop_size,\n",
    "#             gene_conversion_rate = gene_conver ,\n",
    "#             gene_conversion_tract_length = track_len,\n",
    "            #random_seed =seed,\n",
    "            #discrete_genome=False\n",
    "            demography = demo_model\n",
    "            )\n",
    "        # Visualise the simulated ancestral history.\n",
    "        #SVG(ts.draw_svg())\n",
    "\n",
    "        #ts.num_trees\n",
    "        \n",
    "        print(\"done gene\")\n",
    "\n",
    "        mts = msprime.sim_mutations(ts, rate = mu,\n",
    "                                    #discrete_genome=False,\n",
    "                                    #random_seed=seed\n",
    "                                  )\n",
    "\n",
    "        print(\"done mu\")\n",
    "\n",
    "        sample_data = tsinfer.SampleData.from_tree_sequence(mts, use_sites_time=None, use_individuals_time=None)\n",
    "\n",
    "    \n",
    "        sitefreq = numpy.sum(sample_data.sites_genotypes,1)\n",
    "        siteuse =  numpy.where( (sitefreq>freqconsider[0] ) * ( sitefreq<freqconsider[1] ) )[0]  \n",
    "        print(\"siteuse_sim\",len(siteuse))\n",
    "\n",
    "        datause = sample_data.subset(sites = siteuse)\n",
    "\n",
    "        inferred_ts = tsinfer.infer(datause,path_compression=False)\n",
    "\n",
    "\n",
    "\n",
    "        mts = inferred_ts\n",
    "\n",
    "        ###############################################################################\n",
    "        msites = mts.tables.mutations.site\n",
    "        sitepos = mts.tables.sites.position\n",
    "        mpos = []\n",
    "        for i in range(len(msites)):\n",
    "            cursite = msites[i]\n",
    "            mpos.append(sitepos[cursite])\n",
    "        mpos = numpy.array(mpos)\n",
    "        mnodes = mts.tables.mutations.node\n",
    "        ec = mts.tables.edges.child\n",
    "        ep = mts.tables.edges.parent\n",
    "        el = mts.tables.edges.left\n",
    "        er = mts.tables.edges.right\n",
    "\n",
    "\n",
    "        leftmost = min(el)\n",
    "        rightmost = max(er)\n",
    "        for i in range(len(el)):\n",
    "            if el[i] == leftmost:\n",
    "                el[i] = 0\n",
    "            if er[i] == rightmost:\n",
    "                er[i] = seq_len\n",
    "\n",
    "\n",
    "        if len(mpos) == 0:\n",
    "            mpos_sn = []\n",
    "            mnodes_sn = []\n",
    "        else:\n",
    "            mnp_sn = numpy.transpose(sorted(numpy.transpose(numpy.array([mnodes,mpos])).tolist()))\n",
    "            mnodes_sn = mnp_sn[0]\n",
    "            mpos_sn = mnp_sn[1]\n",
    "\n",
    "        eclrp_sc = numpy.transpose(sorted(numpy.transpose(numpy.array([ec,el,er,ep])).tolist()))\n",
    "        ec_sc = eclrp_sc[0]\n",
    "        el_sc = eclrp_sc[1]\n",
    "        er_sc = eclrp_sc[2]\n",
    "        ep_sc = eclrp_sc[3]\n",
    "        enm_sc = [[] for i in range(len(ec_sc))]\n",
    "\n",
    "        curedge = 0\n",
    "        for i in range(len(mnodes_sn)):\n",
    "            curnodemu = mnodes_sn[i] \n",
    "            cursitemu = mpos_sn[i]\n",
    "            for j in range(curedge,len(ec_sc)):\n",
    "                if curnodemu == ec_sc[j]:\n",
    "\n",
    "                    if er_sc[j] > cursitemu and el_sc[j] <= cursitemu:\n",
    "\n",
    "                        enm_sc[j].append(cursitemu)  \n",
    "\n",
    "                        curedge = j\n",
    "                        break\n",
    "                    if el_sc[j] > cursitemu:\n",
    "                        curedge = j\n",
    "                        break\n",
    "\n",
    "                if ec_sc[j] > mnodes_sn[i] or j == len(ec_sc)-1:\n",
    "                    #print(\"missing mutations\")\n",
    "                    curedge = j\n",
    "                    break\n",
    "\n",
    "\n",
    "\n",
    "\n",
    "        ###########################################################################\n",
    "        ###########################################################################\n",
    "        ##########################################################################\n",
    "\n",
    "        clocate = []\n",
    "        curc = -1\n",
    "        for i in range(len(ec_sc)):\n",
    "            while ec_sc[i] != curc:\n",
    "                curc=curc+1\n",
    "                clocate.append(i)\n",
    "        clocate.append(len(ec_sc))\n",
    "\n",
    "\n",
    "\n",
    "\n",
    "        abdlist = []\n",
    "\n",
    "        for i in range(0,2*sam_size-1):\n",
    "            for j in range(i+1,i+2):\n",
    "                canabd = []\n",
    "                curleft = 0\n",
    "                curright =seq_len\n",
    "                #start = 0\n",
    "                while curleft != seq_len:\n",
    "                    curp1 = i\n",
    "                    curp2 = j \n",
    "                    curmed = []\n",
    "                    while curp1 != curp2:\n",
    "                        if curp1 < curp2:\n",
    "                            begin1 = clocate[curp1]\n",
    "                            end = clocate[curp1+1]\n",
    "                            s_range = el_sc[begin1:end]\n",
    "                            begin2 = find_s_se(curleft,s_range)\n",
    "                            for k in range(begin1+begin2,end):\n",
    "                                if el_sc[k]<=curleft and er_sc[k] > curleft:\n",
    "                                    curp1 = int(ep_sc[k])\n",
    "                                    curoldr = curright\n",
    "                                    curright = min(er_sc[k],curright)\n",
    "\n",
    "                                    curmed.append(k)\n",
    "\n",
    "                                    break\n",
    "\n",
    "                        else:\n",
    "                            begin1 = clocate[curp2]\n",
    "                            end = clocate[curp2+1]\n",
    "                            s_range = el_sc[begin1:end]\n",
    "                            begin2 = find_s_se(curleft,s_range)\n",
    "                            for k in range(begin1+begin2,end):\n",
    "                                if el_sc[k]<=curleft and er_sc[k] > curleft:\n",
    "                                    curp2 = int(ep_sc[k])\n",
    "                                    curoldr = curright\n",
    "                                    curright = min(er_sc[k],curright) \n",
    "\n",
    "                                    curmed.append(k)\n",
    "\n",
    "                                    break\n",
    "\n",
    "                    canmution = []\n",
    "                    for k in range(len(curmed)):\n",
    "                        edgemu = enm_sc[curmed[k]]\n",
    "                        startt = find_s_s(curleft,edgemu)\n",
    "                        endd = find_s_s(curright,edgemu)                    \n",
    "                        canmution = canmution + edgemu[startt:endd] \n",
    "\n",
    "                    canabd.append([i,j,curleft,curright,curp1,canmution])\n",
    "                    curleft = curright\n",
    "                    curright = seq_len\n",
    "\n",
    "\n",
    "\n",
    "\n",
    "\n",
    "                if len(canabd)==1:\n",
    "                    abdlist = abdlist + canabd\n",
    "                else:\n",
    "                    curabd = [canabd[0][0],canabd[0][1],canabd[0][2],canabd[0][3],canabd[0][4],canabd[0][5]]\n",
    "                    for k in range(1,len(canabd)):\n",
    "                        if canabd[k][4] != canabd[k-1][4]:\n",
    "                            abdlist.append(curabd)\n",
    "                            curabd = [canabd[k][0],canabd[k][1],canabd[k][2],canabd[k][3],canabd[k][4],canabd[k][5]]\n",
    "                        else:\n",
    "                            curabd[3] = canabd[k][3]\n",
    "                            curabd[5] = curabd[5] + canabd[k][5]\n",
    "                        if k == len(canabd)-1:\n",
    "                            abdlist.append(curabd)\n",
    "\n",
    "\n",
    "    #             print(\"abdlist sample:\",i)\n",
    "        print(\"numibd\",len(abdlist))\n",
    "\n",
    "        abduse = abdlist\n",
    "\n",
    "\n",
    "        lenlist = numpy.zeros(len(abduse))\n",
    "        for i in range(len(abduse)):\n",
    "            lenlist[i] = abduse[i][3] - abduse[i][2]\n",
    "\n",
    "\n",
    "        print(statistics.mean(lenlist))\n",
    "        print(statistics.stdev(lenlist))\n"
   ]
  },
  {
   "cell_type": "code",
   "execution_count": null,
   "id": "77b19372",
   "metadata": {},
   "outputs": [],
   "source": []
  },
  {
   "cell_type": "code",
   "execution_count": null,
   "id": "26def7b6",
   "metadata": {},
   "outputs": [],
   "source": []
  },
  {
   "cell_type": "code",
   "execution_count": null,
   "id": "836d4bfe",
   "metadata": {},
   "outputs": [],
   "source": []
  },
  {
   "cell_type": "code",
   "execution_count": null,
   "id": "4e9b9d92",
   "metadata": {},
   "outputs": [],
   "source": []
  },
  {
   "cell_type": "code",
   "execution_count": null,
   "id": "6ddf14d7",
   "metadata": {},
   "outputs": [],
   "source": []
  },
  {
   "cell_type": "code",
   "execution_count": null,
   "id": "f7c617b1",
   "metadata": {},
   "outputs": [],
   "source": []
  },
  {
   "cell_type": "code",
   "execution_count": null,
   "id": "dd5b8357",
   "metadata": {},
   "outputs": [],
   "source": []
  },
  {
   "cell_type": "code",
   "execution_count": 124,
   "id": "4063de0d",
   "metadata": {},
   "outputs": [
    {
     "data": {
      "text/plain": [
       "[76000, 76000, 30000, 30000, 120000, 120000]"
      ]
     },
     "execution_count": 124,
     "metadata": {},
     "output_type": "execute_result"
    }
   ],
   "source": [
    "inipopsimlist"
   ]
  },
  {
   "cell_type": "code",
   "execution_count": 125,
   "id": "63866c6f",
   "metadata": {},
   "outputs": [
    {
     "data": {
      "text/plain": [
       "[0.0033, 0.0033, 0.004, 0.004, 0.002, 0.002]"
      ]
     },
     "execution_count": 125,
     "metadata": {},
     "output_type": "execute_result"
    }
   ],
   "source": [
    "iniratesimlist"
   ]
  },
  {
   "cell_type": "code",
   "execution_count": null,
   "id": "e5ed3a32",
   "metadata": {},
   "outputs": [],
   "source": []
  },
  {
   "cell_type": "code",
   "execution_count": 129,
   "id": "7334afe9",
   "metadata": {},
   "outputs": [
    {
     "data": {
      "text/plain": [
       "10886.154394729501"
      ]
     },
     "execution_count": 129,
     "metadata": {},
     "output_type": "execute_result"
    }
   ],
   "source": [
    "120000*numpy.exp(-1200*0.002) "
   ]
  },
  {
   "cell_type": "code",
   "execution_count": 130,
   "id": "542cacd5",
   "metadata": {},
   "outputs": [
    {
     "data": {
      "text/plain": [
       "[2344345.562264151,\n",
       " 2378972.1105032824,\n",
       " 2438101.860213044,\n",
       " 2414636.8784008883,\n",
       " 1396668.7778610426,\n",
       " 1251081.9959723821]"
      ]
     },
     "execution_count": 130,
     "metadata": {},
     "output_type": "execute_result"
    }
   ],
   "source": [
    "summary_sta1_simlist"
   ]
  },
  {
   "cell_type": "code",
   "execution_count": 131,
   "id": "114449db",
   "metadata": {},
   "outputs": [
    {
     "data": {
      "text/plain": [
       "[4372968.630850762,\n",
       " 4517109.553498169,\n",
       " 4640203.3000262,\n",
       " 4673087.035534496,\n",
       " 2726643.539254386,\n",
       " 2469605.7512018387]"
      ]
     },
     "execution_count": 131,
     "metadata": {},
     "output_type": "execute_result"
    }
   ],
   "source": [
    "summary_sta2_simlist"
   ]
  },
  {
   "cell_type": "code",
   "execution_count": null,
   "id": "e52737cf",
   "metadata": {},
   "outputs": [],
   "source": []
  },
  {
   "cell_type": "code",
   "execution_count": null,
   "id": "e72b2d58",
   "metadata": {},
   "outputs": [],
   "source": []
  },
  {
   "cell_type": "code",
   "execution_count": 58,
   "id": "32655325",
   "metadata": {
    "scrolled": false
   },
   "outputs": [
    {
     "name": "stdout",
     "output_type": "stream",
     "text": [
      "path                  = None\n",
      "file_size             = -1 Byte\n",
      "format_name           = tsinfer-sample-data\n",
      "format_version        = (5, 0)\n",
      "finalised             = True\n",
      "uuid                  = b9ca7636-ecf7-46e1-8ee7-49341e38a07c\n",
      "num_provenances       = 2\n",
      "provenances/timestamp = shape=(2,); dtype=object;\n",
      "provenances/record    = shape=(2,); dtype=object;\n",
      "sequence_length       = 63025522.0\n",
      "metadata_schema       = {'additionalProperties': True, 'codec': 'json', 'properties': {}, 'required': [], 'type': 'object'}\n",
      "metadata              = {}\n",
      "num_populations       = 26\n",
      "num_individuals       = 104\n",
      "num_samples           = 208\n",
      "num_sites             = 1552394\n",
      "populations/metadata_schema = None\n",
      "populations/metadata  = shape=(26,); dtype=object;\n",
      "individuals/metadata_schema = None\n",
      "individuals/metadata  = shape=(104,); dtype=object;\n",
      "individuals/location  = shape=(104,); dtype=object;\n",
      "individuals/time      = shape=(104,); dtype=float64;uncompressed size=832 Bytes\n",
      "individuals/population = shape=(104,); dtype=int32;uncompressed size=416 Bytes\n",
      "individuals/flags     = shape=(104,); dtype=uint32;uncompressed size=416 Bytes\n",
      "samples/individual    = shape=(208,); dtype=int32;uncompressed size=832 Bytes\n",
      "sites/position        = shape=(1552394,); dtype=float64;uncompressed size=12.4 MB\n",
      "sites/time            = shape=(1552394,); dtype=float64;uncompressed size=12.4 MB\n",
      "sites/alleles         = shape=(1552394,); dtype=object;\n",
      "sites/genotypes       = shape=(1552394, 208); dtype=int8;uncompressed size=322.9 MB\n",
      "sites/metadata_schema = None\n",
      "sites/metadata        = shape=(1552394,); dtype=object;\n",
      "\n"
     ]
    }
   ],
   "source": [
    "print(newdata)"
   ]
  },
  {
   "cell_type": "code",
   "execution_count": 59,
   "id": "8746525f",
   "metadata": {},
   "outputs": [
    {
     "data": {
      "text/plain": [
       "208"
      ]
     },
     "execution_count": 59,
     "metadata": {},
     "output_type": "execute_result"
    }
   ],
   "source": [
    "max(numpy.sum(newdata.sites_genotypes,1) )"
   ]
  },
  {
   "cell_type": "code",
   "execution_count": 85,
   "id": "37c86a04",
   "metadata": {},
   "outputs": [],
   "source": [
    "aa = numpy.sum(newdata.sites_genotypes,1)<2\n",
    "sitepos = newdata.sites_position\n",
    "sitegen = newdata.sites_genotypes"
   ]
  },
  {
   "cell_type": "code",
   "execution_count": 86,
   "id": "60f5098e",
   "metadata": {},
   "outputs": [
    {
     "data": {
      "text/plain": [
       "1375936"
      ]
     },
     "execution_count": 86,
     "metadata": {},
     "output_type": "execute_result"
    }
   ],
   "source": [
    "sum(aa)"
   ]
  },
  {
   "cell_type": "code",
   "execution_count": 87,
   "id": "41007d4c",
   "metadata": {},
   "outputs": [
    {
     "data": {
      "text/plain": [
       "1552394"
      ]
     },
     "execution_count": 87,
     "metadata": {},
     "output_type": "execute_result"
    }
   ],
   "source": [
    "len(aa)"
   ]
  },
  {
   "cell_type": "code",
   "execution_count": 88,
   "id": "be7b3bdd",
   "metadata": {},
   "outputs": [
    {
     "data": {
      "text/plain": [
       "176000"
      ]
     },
     "execution_count": 88,
     "metadata": {},
     "output_type": "execute_result"
    }
   ],
   "source": [
    "1552000-1376000"
   ]
  },
  {
   "cell_type": "code",
   "execution_count": 65,
   "id": "f4d5d343",
   "metadata": {},
   "outputs": [
    {
     "data": {
      "text/plain": [
       "0.90507049112532"
      ]
     },
     "execution_count": 65,
     "metadata": {},
     "output_type": "execute_result"
    }
   ],
   "source": [
    "sum(aa)/len(aa)"
   ]
  },
  {
   "cell_type": "code",
   "execution_count": 47,
   "id": "a330caa5",
   "metadata": {},
   "outputs": [
    {
     "data": {
      "text/plain": [
       "array([nan, nan, nan])"
      ]
     },
     "execution_count": 47,
     "metadata": {},
     "output_type": "execute_result"
    }
   ],
   "source": [
    "newdata.sites_time[0:3]"
   ]
  },
  {
   "cell_type": "code",
   "execution_count": 19,
   "id": "3487a22c",
   "metadata": {},
   "outputs": [
    {
     "name": "stdout",
     "output_type": "stream",
     "text": [
      "1\n",
      "10001\n",
      "20001\n",
      "30001\n",
      "40001\n",
      "50001\n",
      "60001\n",
      "70001\n",
      "80001\n",
      "90001\n",
      "100001\n",
      "110001\n",
      "120001\n",
      "130001\n",
      "140001\n",
      "150001\n",
      "160001\n",
      "170001\n",
      "180001\n",
      "190001\n",
      "200001\n",
      "210001\n",
      "220001\n",
      "230001\n",
      "240001\n",
      "250001\n",
      "260001\n",
      "270001\n",
      "280001\n",
      "290001\n",
      "300001\n",
      "310001\n",
      "320001\n",
      "330001\n",
      "340001\n",
      "350001\n",
      "360001\n",
      "370001\n",
      "380001\n",
      "390001\n",
      "400001\n",
      "410001\n",
      "420001\n",
      "430001\n",
      "440001\n",
      "450001\n",
      "460001\n",
      "470001\n",
      "480001\n",
      "490001\n",
      "500001\n",
      "510001\n",
      "520001\n",
      "530001\n",
      "540001\n",
      "550001\n",
      "560001\n",
      "570001\n",
      "580001\n",
      "590001\n",
      "600001\n",
      "610001\n",
      "620001\n",
      "630001\n",
      "640001\n",
      "650001\n",
      "660001\n",
      "670001\n",
      "680001\n",
      "690001\n",
      "700001\n",
      "710001\n",
      "720001\n",
      "730001\n",
      "740001\n",
      "750001\n",
      "760001\n",
      "770001\n",
      "780001\n",
      "790001\n",
      "800001\n",
      "810001\n",
      "820001\n",
      "830001\n",
      "840001\n",
      "850001\n",
      "860001\n",
      "870001\n",
      "880001\n",
      "890001\n",
      "900001\n",
      "910001\n",
      "920001\n",
      "930001\n",
      "940001\n",
      "950001\n",
      "960001\n",
      "970001\n",
      "980001\n",
      "990001\n",
      "1000001\n",
      "1010001\n",
      "1020001\n",
      "1030001\n",
      "1040001\n",
      "1050001\n",
      "1060001\n",
      "1070001\n",
      "1080001\n",
      "1090001\n",
      "1100001\n",
      "1110001\n",
      "1120001\n",
      "1130001\n",
      "1140001\n",
      "1150001\n",
      "1160001\n",
      "1170001\n",
      "1180001\n",
      "1190001\n",
      "1200001\n",
      "1210001\n",
      "1220001\n",
      "1230001\n",
      "1240001\n",
      "1250001\n",
      "1260001\n",
      "1270001\n",
      "1280001\n",
      "1290001\n",
      "1300001\n",
      "1310001\n",
      "1320001\n",
      "1330001\n",
      "1340001\n",
      "1350001\n",
      "1360001\n",
      "1370001\n",
      "1380001\n",
      "1390001\n",
      "1400001\n",
      "1410001\n",
      "1420001\n",
      "1430001\n",
      "1440001\n",
      "1450001\n",
      "1460001\n",
      "1470001\n",
      "1480001\n",
      "1490001\n",
      "1500001\n",
      "1510001\n",
      "1520001\n",
      "1530001\n",
      "1540001\n",
      "1550001\n"
     ]
    }
   ],
   "source": [
    "bb = tsinfer.SampleData()\n",
    "for i in range(len(aa)):\n",
    "    if aa[i]:\n",
    "        bb.add_site(sitepos[i],sitegen[i])\n",
    "    if i % 10000 ==1:\n",
    "        print(i)\n",
    "        \n",
    "    \n"
   ]
  },
  {
   "cell_type": "code",
   "execution_count": 12,
   "id": "12538acb",
   "metadata": {},
   "outputs": [
    {
     "data": {
      "text/plain": [
       "array([ True,  True,  True, ...,  True, False,  True])"
      ]
     },
     "execution_count": 12,
     "metadata": {},
     "output_type": "execute_result"
    }
   ],
   "source": []
  },
  {
   "cell_type": "code",
   "execution_count": 16,
   "id": "b9caff8d",
   "metadata": {},
   "outputs": [
    {
     "data": {
      "text/plain": [
       "7"
      ]
     },
     "execution_count": 16,
     "metadata": {},
     "output_type": "execute_result"
    }
   ],
   "source": [
    "17%10"
   ]
  },
  {
   "cell_type": "code",
   "execution_count": null,
   "id": "c6aa5bc9",
   "metadata": {},
   "outputs": [],
   "source": []
  },
  {
   "cell_type": "code",
   "execution_count": null,
   "id": "b7d56d25",
   "metadata": {},
   "outputs": [],
   "source": []
  },
  {
   "cell_type": "code",
   "execution_count": null,
   "id": "fa05d345",
   "metadata": {},
   "outputs": [],
   "source": []
  },
  {
   "cell_type": "code",
   "execution_count": 3,
   "id": "e411d596",
   "metadata": {},
   "outputs": [
    {
     "data": {
      "text/plain": [
       "array([[1, 2, 3],\n",
       "       [4, 5, 6]])"
      ]
     },
     "execution_count": 3,
     "metadata": {},
     "output_type": "execute_result"
    }
   ],
   "source": [
    "aa = numpy.array( [ [1,2,3],[4,5,6]  ])\n",
    "aa"
   ]
  },
  {
   "cell_type": "code",
   "execution_count": 4,
   "id": "3973780c",
   "metadata": {},
   "outputs": [
    {
     "data": {
      "text/plain": [
       "array([ 6, 15])"
      ]
     },
     "execution_count": 4,
     "metadata": {},
     "output_type": "execute_result"
    }
   ],
   "source": [
    "numpy.sum(aa,1)"
   ]
  },
  {
   "cell_type": "code",
   "execution_count": 2,
   "id": "1165e92a",
   "metadata": {},
   "outputs": [
    {
     "name": "stderr",
     "output_type": "stream",
     "text": [
      "The provenance information for the resulting tree sequence is 2.78MB. This is nothing to worry about as provenance is a good thing to have, but if you want to save this memory/storage space you can disable provenance recording by setting record_provenance=False\n"
     ]
    }
   ],
   "source": [
    "genpoint = [0*5/5.2,400*5/5.2,800*5/5.2,1200*5/5.2,1600*5/5.2,2000*5/5.2,2400*5/5.2,2800*5/5.2,\\\n",
    "            3200*5/5.2,3600*5/5.2,4000*5/5.2,8000*5/5.2,12000*5/5.2,16000*5/5.2,20000*5/5.2]\n",
    "inipopsize =[76232*5/5.2, 17400*5/5.2, 4000*5/5.2, 1400*5/5.2, 2200*5/5.2, 2800*5/5.2,3600*5/5.2,\\\n",
    "             4400*5/5.2,6000*5/5.2,8000*5/5.2,10000*5/5.2,26800*5/5.2,26800*5/5.2,22000*5/5.2,18000*5/5.2]\n",
    "genuse = []\n",
    "inipuse = []\n",
    "gruse = []\n",
    "for i in range(len(genpoint)-1):\n",
    "    addplist = []\n",
    "    for j in range(10):\n",
    "        addplist.append(genpoint[i] + (genpoint[i+1]-genpoint[i])/10*j)\n",
    "    genuse = genuse + addplist\n",
    "for i in range(len(inipopsize)-1):\n",
    "    addplist = []\n",
    "    for j in range(10):\n",
    "        addplist.append(inipopsize[i] + (inipopsize[i+1]-inipopsize[i])/10*j)\n",
    "    inipuse = inipuse + addplist\n",
    "genuse.append(genpoint[len(genpoint)-1])\n",
    "inipuse.append(inipopsize[len(inipopsize)-1])\n",
    "for i in range(len(genuse)-1):\n",
    "    gruse.append( numpy.log( inipuse[i]/inipuse[i+1] )/(genuse[i+1] - genuse[i])  )\n",
    "gruse.append(0.000005)\n",
    "    \n",
    "\n",
    "demo_model = msprime.Demography.isolated_model([inipuse[0]], growth_rate=[gruse[0]])\n",
    "for i in range(1,len(genuse)):\n",
    "    demo_model.add_population_parameters_change(genuse[i],  initial_size=inipuse[i], growth_rate=gruse[i], population=None)\n",
    "\n",
    "\n",
    "\n",
    "ts = msprime.sim_ancestry(\n",
    "        samples=sam_size,\n",
    "        recombination_rate= r, \n",
    "        sequence_length= seq_len,\n",
    "#         population_size = pop_size,\n",
    "#         gene_conversion_rate = gene_conver ,\n",
    "#         gene_conversion_tract_length = track_len,\n",
    "        #random_seed =seed,\n",
    "        #discrete_genome=False\n",
    "        demography = demo_model\n",
    "        )\n",
    "    # Visualise the simulated ancestral history.\n",
    "    #SVG(ts.draw_svg())\n",
    "\n",
    "    #ts.num_trees\n",
    "\n",
    "mtsjjj = msprime.sim_mutations(ts, rate = mu,\n",
    "                            #discrete_genome=False,\n",
    "                            #random_seed=seed\n",
    "                          )"
   ]
  },
  {
   "cell_type": "code",
   "execution_count": 11,
   "id": "2df59384",
   "metadata": {},
   "outputs": [
    {
     "data": {
      "text/html": [
       "\n",
       "            <div>\n",
       "              <style>\n",
       "                .tskit-table thead tr th {text-align: left;padding: 0.5em 0.5em;}\n",
       "                .tskit-table tbody tr td {padding: 0.5em 0.5em;}\n",
       "                .tskit-table tbody tr td:first-of-type {text-align: left;}\n",
       "                .tskit-details-label {vertical-align: top; padding-right:5px;}\n",
       "                .tskit-table-set {display: inline-flex;flex-wrap: wrap;margin: -12px 0 0 -12px;width: calc(100% + 12px);}\n",
       "                .tskit-table-set-table {margin: 12px 0 0 12px;}\n",
       "                details {display: inline-block;}\n",
       "                summary {cursor: pointer; outline: 0; display: list-item;}\n",
       "              </style>\n",
       "              <div class=\"tskit-table-set\">\n",
       "                <div class=\"tskit-table-set-table\">\n",
       "                  <table class=\"tskit-table\">\n",
       "                    <thead>\n",
       "                      <tr>\n",
       "                        <th style=\"padding:0;line-height:21px;\">\n",
       "                          <img style=\"height: 32px;display: inline-block;padding: 3px 5px 3px 0;\" src=\"https://raw.githubusercontent.com/tskit-dev/administrative/main/tskit_logo.svg\"/>\n",
       "                          <a target=\"_blank\" href=\"https://tskit.dev/tskit/docs/latest/python-api.html#the-treesequence-class\"> Tree Sequence </a>\n",
       "                        </th>\n",
       "                      </tr>\n",
       "                    </thead>\n",
       "                    <tbody>\n",
       "                      <tr><td>Trees</td><td>236314</td></tr>\n",
       "                      <tr><td>Sequence Length</td><td>63025522.0</td></tr>\n",
       "                      <tr><td>Time Units</td><td>generations</td></tr>\n",
       "                      <tr><td>Sample Nodes</td><td>208</td></tr>\n",
       "                      <tr><td>Total Size</td><td>51.3 MiB</td></tr>\n",
       "                      <tr>\n",
       "                        <td>Metadata</td><td style=\"text-align: left;\">No Metadata</td></tr>\n",
       "                    </tbody>\n",
       "                  </table>\n",
       "                </div>\n",
       "                <div class=\"tskit-table-set-table\">\n",
       "                  <table class=\"tskit-table\">\n",
       "                    <thead>\n",
       "                      <tr>\n",
       "                        <th style=\"line-height:21px;\">Table</th>\n",
       "                        <th>Rows</th>\n",
       "                        <th>Size</th>\n",
       "                        <th>Has Metadata</th>\n",
       "                      </tr>\n",
       "                    </thead>\n",
       "                    <tbody>\n",
       "                    \n",
       "                  <tr>\n",
       "                    <td>Edges</td>\n",
       "                      <td>834134</td>\n",
       "                      <td>25.5 MiB</td>\n",
       "                      <td style=\"text-align: center;\">\n",
       "                        \n",
       "                      </td>\n",
       "                    </tr>\n",
       "                \n",
       "                  <tr>\n",
       "                    <td>Individuals</td>\n",
       "                      <td>104</td>\n",
       "                      <td>2.9 KiB</td>\n",
       "                      <td style=\"text-align: center;\">\n",
       "                        \n",
       "                      </td>\n",
       "                    </tr>\n",
       "                \n",
       "                  <tr>\n",
       "                    <td>Migrations</td>\n",
       "                      <td>0</td>\n",
       "                      <td>8 Bytes</td>\n",
       "                      <td style=\"text-align: center;\">\n",
       "                        \n",
       "                      </td>\n",
       "                    </tr>\n",
       "                \n",
       "                  <tr>\n",
       "                    <td>Mutations</td>\n",
       "                      <td>218195</td>\n",
       "                      <td>7.7 MiB</td>\n",
       "                      <td style=\"text-align: center;\">\n",
       "                        \n",
       "                      </td>\n",
       "                    </tr>\n",
       "                \n",
       "                  <tr>\n",
       "                    <td>Nodes</td>\n",
       "                      <td>142475</td>\n",
       "                      <td>3.8 MiB</td>\n",
       "                      <td style=\"text-align: center;\">\n",
       "                        \n",
       "                      </td>\n",
       "                    </tr>\n",
       "                \n",
       "                  <tr>\n",
       "                    <td>Populations</td>\n",
       "                      <td>1</td>\n",
       "                      <td>224 Bytes</td>\n",
       "                      <td style=\"text-align: center;\">\n",
       "                        ✅\n",
       "                      </td>\n",
       "                    </tr>\n",
       "                \n",
       "                  <tr>\n",
       "                    <td>Provenances</td>\n",
       "                      <td>2</td>\n",
       "                      <td>2.8 MiB</td>\n",
       "                      <td style=\"text-align: center;\">\n",
       "                        \n",
       "                      </td>\n",
       "                    </tr>\n",
       "                \n",
       "                  <tr>\n",
       "                    <td>Sites</td>\n",
       "                      <td>217738</td>\n",
       "                      <td>5.2 MiB</td>\n",
       "                      <td style=\"text-align: center;\">\n",
       "                        \n",
       "                      </td>\n",
       "                    </tr>\n",
       "                \n",
       "                    </tbody>\n",
       "                  </table>\n",
       "                </div>\n",
       "              </div>\n",
       "            </div>\n",
       "            "
      ],
      "text/plain": [
       "<tskit.trees.TreeSequence at 0x7f77e6c07550>"
      ]
     },
     "execution_count": 11,
     "metadata": {},
     "output_type": "execute_result"
    }
   ],
   "source": [
    "mtsjjj"
   ]
  },
  {
   "cell_type": "code",
   "execution_count": 3,
   "id": "cba5f434",
   "metadata": {},
   "outputs": [],
   "source": [
    "sample_datajjj = tsinfer.SampleData.from_tree_sequence(mtsjjj, use_sites_time=True, use_individuals_time=None)"
   ]
  },
  {
   "cell_type": "code",
   "execution_count": 43,
   "id": "a33a2270",
   "metadata": {},
   "outputs": [
    {
     "data": {
      "text/plain": [
       "109576"
      ]
     },
     "execution_count": 43,
     "metadata": {},
     "output_type": "execute_result"
    }
   ],
   "source": [
    "sum(sample_datajjj.sites_time[0:len(sample_datajjj.sites_time)]<1000)"
   ]
  },
  {
   "cell_type": "code",
   "execution_count": 42,
   "id": "d17c3d1e",
   "metadata": {},
   "outputs": [
    {
     "data": {
      "text/plain": [
       "154517"
      ]
     },
     "execution_count": 42,
     "metadata": {},
     "output_type": "execute_result"
    }
   ],
   "source": [
    "sum(sample_datajjj.sites_time[0:len(sample_datajjj.sites_time)]<2400)"
   ]
  },
  {
   "cell_type": "code",
   "execution_count": 10,
   "id": "5eebca0b",
   "metadata": {},
   "outputs": [
    {
     "data": {
      "text/plain": [
       "217738"
      ]
     },
     "execution_count": 10,
     "metadata": {},
     "output_type": "execute_result"
    }
   ],
   "source": [
    "len(sample_datajjj.sites_time)"
   ]
  },
  {
   "cell_type": "code",
   "execution_count": 4,
   "id": "3003fd9d",
   "metadata": {},
   "outputs": [],
   "source": [
    "genty = sample_datajjj.sites_genotypes\n",
    "sitetime = sample_datajjj.sites_time\n",
    "\n",
    "sitefreq = numpy.sum(genty,1)\n"
   ]
  },
  {
   "cell_type": "code",
   "execution_count": 5,
   "id": "56eaca8e",
   "metadata": {},
   "outputs": [],
   "source": [
    "genty1 = newdata.sites_genotypes\n",
    "sitetime1 = newdata.sites_time\n",
    "\n",
    "sitefreq1 = numpy.sum(genty1,1)\n"
   ]
  },
  {
   "cell_type": "code",
   "execution_count": 8,
   "id": "912b10fb",
   "metadata": {},
   "outputs": [
    {
     "data": {
      "text/plain": [
       "79421"
      ]
     },
     "execution_count": 8,
     "metadata": {},
     "output_type": "execute_result"
    }
   ],
   "source": [
    "sum( (sitefreq1>1)*(sitefreq1<40) )"
   ]
  },
  {
   "cell_type": "code",
   "execution_count": 9,
   "id": "5f366312",
   "metadata": {},
   "outputs": [
    {
     "data": {
      "text/plain": [
       "74609"
      ]
     },
     "execution_count": 9,
     "metadata": {},
     "output_type": "execute_result"
    }
   ],
   "source": [
    "sum( (sitefreq>1)*(sitefreq<40) )"
   ]
  },
  {
   "cell_type": "code",
   "execution_count": null,
   "id": "080fd885",
   "metadata": {},
   "outputs": [],
   "source": []
  },
  {
   "cell_type": "code",
   "execution_count": null,
   "id": "92a3e1ee",
   "metadata": {},
   "outputs": [],
   "source": []
  },
  {
   "cell_type": "code",
   "execution_count": 29,
   "id": "f9f9f071",
   "metadata": {},
   "outputs": [
    {
     "data": {
      "text/plain": [
       "0.8385979089293918"
      ]
     },
     "execution_count": 29,
     "metadata": {},
     "output_type": "execute_result"
    }
   ],
   "source": [
    "sum( (sitefreq < 100)*(sitetime[:]<2400) )/ sum((sitefreq < 100))"
   ]
  },
  {
   "cell_type": "code",
   "execution_count": 12,
   "id": "147e18b0",
   "metadata": {},
   "outputs": [
    {
     "data": {
      "text/plain": [
       "0.4522909655707999"
      ]
     },
     "execution_count": 12,
     "metadata": {},
     "output_type": "execute_result"
    }
   ],
   "source": [
    "sum( (sitefreq >6)*(sitefreq < 40)*(sitetime[:]<1000) )/ sum((sitefreq < 40)*(sitefreq >6))"
   ]
  },
  {
   "cell_type": "code",
   "execution_count": 175,
   "id": "e51edd8c",
   "metadata": {},
   "outputs": [
    {
     "data": {
      "text/plain": [
       "30663"
      ]
     },
     "execution_count": 175,
     "metadata": {},
     "output_type": "execute_result"
    }
   ],
   "source": [
    " sum((sitefreq < 6)*(sitefreq >1))"
   ]
  },
  {
   "cell_type": "code",
   "execution_count": null,
   "id": "815cde20",
   "metadata": {},
   "outputs": [],
   "source": []
  },
  {
   "cell_type": "code",
   "execution_count": 145,
   "id": "2cb6ca37",
   "metadata": {},
   "outputs": [],
   "source": [
    "sitefreq1 = numpy.sum(newdata.sites_genotypes,1)"
   ]
  },
  {
   "cell_type": "code",
   "execution_count": 172,
   "id": "cf1224cc",
   "metadata": {},
   "outputs": [
    {
     "data": {
      "text/plain": [
       "33408"
      ]
     },
     "execution_count": 172,
     "metadata": {},
     "output_type": "execute_result"
    }
   ],
   "source": [
    " sum((sitefreq1 < 6)*(sitefreq1 >1))"
   ]
  },
  {
   "cell_type": "code",
   "execution_count": null,
   "id": "04d49b23",
   "metadata": {},
   "outputs": [],
   "source": []
  },
  {
   "cell_type": "code",
   "execution_count": 240,
   "id": "4248b357",
   "metadata": {},
   "outputs": [
    {
     "data": {
      "text/plain": [
       "209618"
      ]
     },
     "execution_count": 240,
     "metadata": {},
     "output_type": "execute_result"
    }
   ],
   "source": [
    "len(sample_data.sites_time)"
   ]
  },
  {
   "cell_type": "code",
   "execution_count": null,
   "id": "96ebf9fd",
   "metadata": {},
   "outputs": [],
   "source": []
  },
  {
   "cell_type": "code",
   "execution_count": null,
   "id": "a7e0fb03",
   "metadata": {},
   "outputs": [],
   "source": []
  },
  {
   "cell_type": "code",
   "execution_count": null,
   "id": "c2c14cce",
   "metadata": {},
   "outputs": [],
   "source": []
  },
  {
   "cell_type": "code",
   "execution_count": null,
   "id": "8523ebc3",
   "metadata": {},
   "outputs": [],
   "source": []
  },
  {
   "cell_type": "code",
   "execution_count": null,
   "id": "f6b7b487",
   "metadata": {},
   "outputs": [],
   "source": []
  },
  {
   "cell_type": "code",
   "execution_count": 81,
   "id": "16d09ea0",
   "metadata": {},
   "outputs": [
    {
     "data": {
      "text/plain": [
       "0.30985387785687524"
      ]
     },
     "execution_count": 81,
     "metadata": {},
     "output_type": "execute_result"
    }
   ],
   "source": [
    "sum( (sitefreq < 2) )/len(sitefreq)"
   ]
  },
  {
   "cell_type": "code",
   "execution_count": 89,
   "id": "3ba9ef22",
   "metadata": {},
   "outputs": [
    {
     "data": {
      "text/plain": [
       "202844"
      ]
     },
     "execution_count": 89,
     "metadata": {},
     "output_type": "execute_result"
    }
   ],
   "source": [
    "len(sitefreq)"
   ]
  },
  {
   "cell_type": "code",
   "execution_count": 90,
   "id": "030505bc",
   "metadata": {},
   "outputs": [
    {
     "data": {
      "text/plain": [
       "141990.8"
      ]
     },
     "execution_count": 90,
     "metadata": {},
     "output_type": "execute_result"
    }
   ],
   "source": [
    "202844*0.7"
   ]
  },
  {
   "cell_type": "code",
   "execution_count": 55,
   "id": "03d25233",
   "metadata": {},
   "outputs": [],
   "source": [
    "aa = [True, False, True, True, False]"
   ]
  },
  {
   "cell_type": "code",
   "execution_count": 56,
   "id": "c6d4305e",
   "metadata": {},
   "outputs": [
    {
     "data": {
      "text/plain": [
       "array([0, 2, 3])"
      ]
     },
     "execution_count": 56,
     "metadata": {},
     "output_type": "execute_result"
    }
   ],
   "source": [
    "numpy.where(aa)[0]"
   ]
  },
  {
   "cell_type": "code",
   "execution_count": null,
   "id": "f38436ee",
   "metadata": {},
   "outputs": [],
   "source": []
  },
  {
   "cell_type": "code",
   "execution_count": null,
   "id": "c9131442",
   "metadata": {},
   "outputs": [],
   "source": []
  },
  {
   "cell_type": "code",
   "execution_count": null,
   "id": "2a8bf4e7",
   "metadata": {},
   "outputs": [],
   "source": []
  },
  {
   "cell_type": "code",
   "execution_count": null,
   "id": "aedc4905",
   "metadata": {},
   "outputs": [],
   "source": []
  },
  {
   "cell_type": "code",
   "execution_count": null,
   "id": "7ee9b36b",
   "metadata": {},
   "outputs": [],
   "source": []
  },
  {
   "cell_type": "code",
   "execution_count": 179,
   "id": "cbd1ec8a",
   "metadata": {},
   "outputs": [
    {
     "name": "stdout",
     "output_type": "stream",
     "text": [
      "done gene\n"
     ]
    }
   ],
   "source": [
    "        \n",
    "        demo_model = msprime.Demography.isolated_model([76000], growth_rate=[0.0033])\n",
    "        demo_model.add_population_parameters_change(4000,  initial_size=sam_size+1, growth_rate=0, population=None)\n",
    "\n",
    "        ts = msprime.sim_ancestry(\n",
    "            samples=sam_size,\n",
    "            recombination_rate= r, \n",
    "            sequence_length= seq_len,\n",
    "            record_provenance=False,\n",
    "#             population_size = pop_size,\n",
    "#             gene_conversion_rate = gene_conver ,\n",
    "#             gene_conversion_tract_length = track_len,\n",
    "            #random_seed =seed,\n",
    "            #discrete_genome=False\n",
    "            demography = demo_model\n",
    "            )\n",
    "        # Visualise the simulated ancestral history.\n",
    "        #SVG(ts.draw_svg())\n",
    "\n",
    "        #ts.num_trees\n",
    "        \n",
    "        print(\"done gene\")\n",
    "\n",
    "        mts = msprime.sim_mutations(ts, rate = mu,\n",
    "                                    #discrete_genome=False,\n",
    "                                    #random_seed=seed\n",
    "                                  )\n"
   ]
  },
  {
   "cell_type": "code",
   "execution_count": 232,
   "id": "d21432d2",
   "metadata": {},
   "outputs": [],
   "source": [
    "sample_data = tsinfer.SampleData.from_tree_sequence(mts, use_sites_time=True, use_individuals_time=None)"
   ]
  },
  {
   "cell_type": "code",
   "execution_count": 233,
   "id": "87b81056",
   "metadata": {},
   "outputs": [
    {
     "data": {
      "text/plain": [
       "110997"
      ]
     },
     "execution_count": 233,
     "metadata": {},
     "output_type": "execute_result"
    }
   ],
   "source": [
    "len(sample_data.sites_time)"
   ]
  },
  {
   "cell_type": "code",
   "execution_count": 202,
   "id": "f0c56242",
   "metadata": {},
   "outputs": [],
   "source": [
    "sitefreq2 = numpy.sum(sample_data.sites_genotypes,1)"
   ]
  },
  {
   "cell_type": "code",
   "execution_count": 209,
   "id": "e6bc9634",
   "metadata": {},
   "outputs": [
    {
     "data": {
      "text/plain": [
       "23786"
      ]
     },
     "execution_count": 209,
     "metadata": {},
     "output_type": "execute_result"
    }
   ],
   "source": [
    "sum((sitefreq2 < 4)*(sitefreq2 >1))"
   ]
  },
  {
   "cell_type": "code",
   "execution_count": 211,
   "id": "80a7be62",
   "metadata": {},
   "outputs": [
    {
     "data": {
      "text/plain": [
       "0.9987745098039216"
      ]
     },
     "execution_count": 211,
     "metadata": {},
     "output_type": "execute_result"
    }
   ],
   "source": [
    "sitetime2 = sample_data.sites_time\n",
    "\n",
    "sum( (sitefreq2 < 200)*(sitefreq2 >1)*(sitetime2[:]<1200) )/ sum((sitefreq2 < 200)*(sitefreq2 >1))"
   ]
  },
  {
   "cell_type": "code",
   "execution_count": 216,
   "id": "93c43eaf",
   "metadata": {},
   "outputs": [
    {
     "data": {
      "text/plain": [
       "110026"
      ]
     },
     "execution_count": 216,
     "metadata": {},
     "output_type": "execute_result"
    }
   ],
   "source": [
    "sum(sitetime2[:]<1200)"
   ]
  },
  {
   "cell_type": "code",
   "execution_count": 224,
   "id": "684884ac",
   "metadata": {},
   "outputs": [
    {
     "data": {
      "text/plain": [
       "110161"
      ]
     },
     "execution_count": 224,
     "metadata": {},
     "output_type": "execute_result"
    }
   ],
   "source": [
    "len(sitetime2)"
   ]
  },
  {
   "cell_type": "code",
   "execution_count": 191,
   "id": "a13b79c0",
   "metadata": {},
   "outputs": [],
   "source": [
    "sitefreq1 = numpy.sum(newdata.sites_genotypes,1)"
   ]
  },
  {
   "cell_type": "code",
   "execution_count": 196,
   "id": "8b2ec3bb",
   "metadata": {},
   "outputs": [
    {
     "data": {
      "text/plain": [
       "23701"
      ]
     },
     "execution_count": 196,
     "metadata": {},
     "output_type": "execute_result"
    }
   ],
   "source": [
    "sum((sitefreq1 < 4)*(sitefreq1 >1))"
   ]
  },
  {
   "cell_type": "code",
   "execution_count": null,
   "id": "6202bb7a",
   "metadata": {},
   "outputs": [],
   "source": []
  },
  {
   "cell_type": "code",
   "execution_count": 174,
   "id": "b2dee660",
   "metadata": {},
   "outputs": [
    {
     "data": {
      "text/plain": [
       "0.0031499974619990877"
      ]
     },
     "execution_count": 174,
     "metadata": {},
     "output_type": "execute_result"
    }
   ],
   "source": [
    "numpy.log(17400/1400)/800"
   ]
  },
  {
   "cell_type": "code",
   "execution_count": 185,
   "id": "ec269948",
   "metadata": {},
   "outputs": [
    {
     "data": {
      "text/plain": [
       "1.3300000000000002e-08"
      ]
     },
     "execution_count": 185,
     "metadata": {},
     "output_type": "execute_result"
    }
   ],
   "source": [
    "mu"
   ]
  },
  {
   "cell_type": "code",
   "execution_count": 188,
   "id": "1d134560",
   "metadata": {},
   "outputs": [
    {
     "data": {
      "text/plain": [
       "63025522"
      ]
     },
     "execution_count": 188,
     "metadata": {},
     "output_type": "execute_result"
    }
   ],
   "source": [
    "seq_len"
   ]
  },
  {
   "cell_type": "code",
   "execution_count": null,
   "id": "43fe4bb3",
   "metadata": {},
   "outputs": [],
   "source": []
  },
  {
   "cell_type": "code",
   "execution_count": null,
   "id": "06efae8c",
   "metadata": {},
   "outputs": [],
   "source": []
  },
  {
   "cell_type": "code",
   "execution_count": 50,
   "id": "7bbd3467",
   "metadata": {},
   "outputs": [
    {
     "data": {
      "text/plain": [
       "82223.23385548528"
      ]
     },
     "execution_count": 50,
     "metadata": {},
     "output_type": "execute_result"
    }
   ],
   "source": [
    "5000*numpy.exp(0.0035*800)"
   ]
  },
  {
   "cell_type": "code",
   "execution_count": null,
   "id": "715ac45e",
   "metadata": {},
   "outputs": [],
   "source": []
  },
  {
   "cell_type": "code",
   "execution_count": null,
   "id": "44077e38",
   "metadata": {},
   "outputs": [],
   "source": []
  },
  {
   "cell_type": "code",
   "execution_count": null,
   "id": "46c47f8b",
   "metadata": {},
   "outputs": [],
   "source": []
  },
  {
   "cell_type": "code",
   "execution_count": null,
   "id": "031c0faf",
   "metadata": {},
   "outputs": [],
   "source": []
  },
  {
   "cell_type": "code",
   "execution_count": null,
   "id": "7afe71fd",
   "metadata": {},
   "outputs": [],
   "source": []
  },
  {
   "cell_type": "code",
   "execution_count": null,
   "id": "70028889",
   "metadata": {},
   "outputs": [],
   "source": []
  },
  {
   "cell_type": "code",
   "execution_count": 14,
   "id": "59bb7ce7",
   "metadata": {},
   "outputs": [
    {
     "name": "stdout",
     "output_type": "stream",
     "text": [
      "siteuse_rea 42551\n",
      "numibd 43552\n",
      "done gene\n",
      "done mu\n",
      "siteuse_sim 42743\n",
      "numibd 65075\n",
      "-----------------------------------\n",
      "[76000]\n",
      "[0.003]\n",
      "[200480.72307337687] 299556.46248163114\n",
      "[425001.500884505] 661772.0335526005\n",
      "86.95659637451172 0\n",
      "-----------------------------------\n",
      "done gene\n",
      "done mu\n",
      "siteuse_sim 48281\n",
      "numibd 69352\n",
      "-----------------------------------\n",
      "[76000, 86000]\n",
      "[0.003, 0.003]\n",
      "[200480.72307337687, 188116.89719114086] 299556.46248163114\n",
      "[425001.500884505, 405668.67336692533] 661772.0335526005\n",
      "187.2819790840149 1\n",
      "-----------------------------------\n"
     ]
    }
   ],
   "source": [
    "import argparse\n",
    "import os\n",
    "import re\n",
    "import numpy as np\n",
    "\n",
    "import statistics\n",
    "import msprime\n",
    "from IPython.display import SVG, display\n",
    "import tsinfer\n",
    "import scipy\n",
    "import math\n",
    "import numpy\n",
    "import tskit\n",
    "import io\n",
    "import builtins\n",
    "import sys\n",
    "from tqdm.notebook import tqdm\n",
    "from tskit import MISSING_DATA\n",
    "import pickle\n",
    "import random\n",
    "import matplotlib.pyplot as plt\n",
    "import cvxopt as opt\n",
    "from cvxopt import matrix, spmatrix, sparse\n",
    "from cvxopt.solvers import qp, options\n",
    "from cvxopt import blas\n",
    "from cvxopt import spdiag\n",
    "import statsmodels\n",
    "from statsmodels.nonparametric.kernel_regression import KernelReg\n",
    "from scipy.signal import savgol_filter\n",
    "import time\n",
    "import bisect\n",
    "\n",
    "\n",
    "def find_s(elem, sorted_list):\n",
    "    'Locate the leftmost value exactly equal to x'\n",
    "    i = bisect.bisect_left(sorted_list, elem)\n",
    "    if i != len(sorted_list) and sorted_list[i] == elem:\n",
    "        return i\n",
    "\n",
    "\n",
    "def find_s_se(elem, sorted_list):\n",
    "    'Locate the leftmost value smaller or equal to x'\n",
    "    i = bisect.bisect_right(sorted_list, elem)\n",
    "    if i != 0:\n",
    "        return i-1\n",
    "    else:\n",
    "        print(\"error\")\n",
    "\n",
    "\n",
    "def find_s_s(elem, sorted_list):\n",
    "    'Locate the leftmost value smaller or equal to x'\n",
    "    i = bisect.bisect_left(sorted_list, elem)\n",
    "    if i != 0:\n",
    "        return i\n",
    "    else:\n",
    "        return 0\n",
    "\n",
    "    \n",
    "file = open(\"recombination_map.dat\",\"rb\")\n",
    "rmap = pickle.load(file)\n",
    "file.close\n",
    "\n",
    "sam=tsinfer.load(\"tgp_chr20.samples\")\n",
    "\n",
    "JPTlist = []\n",
    "for i in range(len(sam.individuals_population)):\n",
    "    if sam.individuals_population[i]==1:\n",
    "        JPTlist.append(i)\n",
    "newdata = sam.subset(individuals=JPTlist)\n",
    "\n",
    "        \n",
    "seq_len = 63025522\n",
    "sam_size = 104\n",
    "r = rmap\n",
    "mu = 1.375*10**(-8)\n",
    "# gene_conver = 10**(-8)\n",
    "# track_len = 100\n",
    "# epsilon = 0.0001\n",
    "totaliter=1\n",
    "\n",
    "simtime = 2\n",
    "# priormu = [1.0*10**(-8), 2.0*10**(-8)]\n",
    "# prioreps = [0, 0.0002]\n",
    "# accept_threshold = [1000,400]\n",
    "freqconsider = [6,40]\n",
    "priorinipop = [120000, 5000]\n",
    "priorinirate = [-0.001 , 0.004]\n",
    "\n",
    "\n",
    "\n",
    "\n",
    "\n",
    "inipopsimlist = []\n",
    "iniratesimlist = []\n",
    "summary_sta1_simlist = []\n",
    "summary_sta2_simlist = []\n",
    "\n",
    "current_pop = []\n",
    "for iter in range(totaliter):\n",
    "\n",
    "    sitefreq = numpy.sum(newdata.sites_genotypes,1)\n",
    "    siteuse =  numpy.where( (sitefreq>freqconsider[0] ) * ( sitefreq<freqconsider[1] ) )[0]  \n",
    "    print(\"siteuse_rea\",len(siteuse))\n",
    "    datause = newdata.subset(sites = siteuse)\n",
    "    inferred_ts = tsinfer.infer(datause,path_compression=False)\n",
    "\n",
    "#     inferred_ts = tsinfer.infer(newdata,path_compression=False)\n",
    "\n",
    "\n",
    "    mts = inferred_ts\n",
    "\n",
    "    ###############################################################################\n",
    "    msites = mts.tables.mutations.site\n",
    "    sitepos = mts.tables.sites.position\n",
    "    mpos = []\n",
    "    for i in range(len(msites)):\n",
    "        cursite = msites[i]\n",
    "        mpos.append(sitepos[cursite])\n",
    "    mpos = numpy.array(mpos)\n",
    "    mnodes = mts.tables.mutations.node\n",
    "    ec = mts.tables.edges.child\n",
    "    ep = mts.tables.edges.parent\n",
    "    el = mts.tables.edges.left\n",
    "    er = mts.tables.edges.right\n",
    "\n",
    "\n",
    "    leftmost = min(el)\n",
    "    rightmost = max(er)\n",
    "    for i in range(len(el)):\n",
    "        if el[i] == leftmost:\n",
    "            el[i] = 0\n",
    "        if er[i] == rightmost:\n",
    "            er[i] = seq_len\n",
    "\n",
    "\n",
    "    if len(mpos) == 0:\n",
    "        mpos_sn = []\n",
    "        mnodes_sn = []\n",
    "    else:\n",
    "        mnp_sn = numpy.transpose(sorted(numpy.transpose(numpy.array([mnodes,mpos])).tolist()))\n",
    "        mnodes_sn = mnp_sn[0]\n",
    "        mpos_sn = mnp_sn[1]\n",
    "\n",
    "    eclrp_sc = numpy.transpose(sorted(numpy.transpose(numpy.array([ec,el,er,ep])).tolist()))\n",
    "    ec_sc = eclrp_sc[0]\n",
    "    el_sc = eclrp_sc[1]\n",
    "    er_sc = eclrp_sc[2]\n",
    "    ep_sc = eclrp_sc[3]\n",
    "    enm_sc = [[] for i in range(len(ec_sc))]\n",
    "\n",
    "    curedge = 0\n",
    "    for i in range(len(mnodes_sn)):\n",
    "        curnodemu = mnodes_sn[i] \n",
    "        cursitemu = mpos_sn[i]\n",
    "        for j in range(curedge,len(ec_sc)):\n",
    "            if curnodemu == ec_sc[j]:\n",
    "\n",
    "                if er_sc[j] > cursitemu and el_sc[j] <= cursitemu:\n",
    "\n",
    "                    enm_sc[j].append(cursitemu)  \n",
    "\n",
    "                    curedge = j\n",
    "                    break\n",
    "                if el_sc[j] > cursitemu:\n",
    "                    curedge = j\n",
    "                    break\n",
    "\n",
    "            if ec_sc[j] > mnodes_sn[i] or j == len(ec_sc)-1:\n",
    "                #print(\"missing mutations\")\n",
    "                curedge = j\n",
    "                break\n",
    "\n",
    "\n",
    "\n",
    "\n",
    "    ###########################################################################\n",
    "    ###########################################################################\n",
    "    ##########################################################################\n",
    "\n",
    "    clocate = []\n",
    "    curc = -1\n",
    "    for i in range(len(ec_sc)):\n",
    "        while ec_sc[i] != curc:\n",
    "            curc=curc+1\n",
    "            clocate.append(i)\n",
    "    clocate.append(len(ec_sc))\n",
    "\n",
    "\n",
    "\n",
    "\n",
    "    abdlist = []\n",
    "\n",
    "    for i in range(0,2*sam_size-1):\n",
    "        for j in range(i+1,i+2):\n",
    "            canabd = []\n",
    "            curleft = 0\n",
    "            curright =seq_len\n",
    "            #start = 0\n",
    "            while curleft != seq_len:\n",
    "                curp1 = i\n",
    "                curp2 = j \n",
    "                curmed = []\n",
    "                while curp1 != curp2:\n",
    "                    if curp1 < curp2:\n",
    "                        begin1 = clocate[curp1]\n",
    "                        end = clocate[curp1+1]\n",
    "                        s_range = el_sc[begin1:end]\n",
    "                        begin2 = find_s_se(curleft,s_range)\n",
    "                        for k in range(begin1+begin2,end):\n",
    "                            if el_sc[k]<=curleft and er_sc[k] > curleft:\n",
    "                                curp1 = int(ep_sc[k])\n",
    "                                curoldr = curright\n",
    "                                curright = min(er_sc[k],curright)\n",
    "\n",
    "                                curmed.append(k)\n",
    "\n",
    "                                break\n",
    "\n",
    "                    else:\n",
    "                        begin1 = clocate[curp2]\n",
    "                        end = clocate[curp2+1]\n",
    "                        s_range = el_sc[begin1:end]\n",
    "                        begin2 = find_s_se(curleft,s_range)\n",
    "                        for k in range(begin1+begin2,end):\n",
    "                            if el_sc[k]<=curleft and er_sc[k] > curleft:\n",
    "                                curp2 = int(ep_sc[k])\n",
    "                                curoldr = curright\n",
    "                                curright = min(er_sc[k],curright) \n",
    "\n",
    "                                curmed.append(k)\n",
    "\n",
    "                                break\n",
    "\n",
    "                canmution = []\n",
    "                for k in range(len(curmed)):\n",
    "                    edgemu = enm_sc[curmed[k]]\n",
    "                    startt = find_s_s(curleft,edgemu)\n",
    "                    endd = find_s_s(curright,edgemu)                    \n",
    "                    canmution = canmution + edgemu[startt:endd] \n",
    "\n",
    "                canabd.append([i,j,curleft,curright,curp1,canmution])\n",
    "                curleft = curright\n",
    "                curright = seq_len\n",
    "\n",
    "\n",
    "\n",
    "\n",
    "\n",
    "            if len(canabd)==1:\n",
    "                abdlist = abdlist + canabd\n",
    "            else:\n",
    "                curabd = [canabd[0][0],canabd[0][1],canabd[0][2],canabd[0][3],canabd[0][4],canabd[0][5]]\n",
    "                for k in range(1,len(canabd)):\n",
    "                    if canabd[k][4] != canabd[k-1][4]:\n",
    "                        abdlist.append(curabd)\n",
    "                        curabd = [canabd[k][0],canabd[k][1],canabd[k][2],canabd[k][3],canabd[k][4],canabd[k][5]]\n",
    "                    else:\n",
    "                        curabd[3] = canabd[k][3]\n",
    "                        curabd[5] = curabd[5] + canabd[k][5]\n",
    "                    if k == len(canabd)-1:\n",
    "                        abdlist.append(curabd)\n",
    "\n",
    "\n",
    "\n",
    "#             print(\"abdlist sample:\",i)\n",
    "    print(\"numibd\",len(abdlist))\n",
    "    \n",
    "    abduse = abdlist\n",
    "\n",
    "\n",
    "    lenlist = numpy.zeros(len(abduse))\n",
    "    for i in range(len(abduse)):\n",
    "        lenlist[i] = abduse[i][3] - abduse[i][2]\n",
    "\n",
    "    summary_sta1_inf = statistics.mean(lenlist)\n",
    "    summary_sta2_inf = statistics.stdev(lenlist)\n",
    "\n",
    "#################################################################################################\n",
    "    stime = time.time()\n",
    "\n",
    "    for run in range(simtime):\n",
    "        \n",
    "        popsim = numpy.random.uniform(priorinipop[0],priorinipop[1])\n",
    "        ratesim = numpy.random.uniform(priorinirate[0],priorinirate[1])\n",
    "\n",
    "        if run == 0:\n",
    "            popsim = 76000\n",
    "            ratesim = 0.003\n",
    "        if run == 1:\n",
    "            popsim = 86000\n",
    "            ratesim = 0.003\n",
    "#         if run == 2:\n",
    "#             popsim = 4000\n",
    "#             ratesim = 0.000\n",
    "#         if run == 3:\n",
    "#             popsim = 4000\n",
    "#             ratesim = 0.000            \n",
    "#         if run == 4:\n",
    "#             popsim = 100000\n",
    "#             ratesim = 0.003          \n",
    "#         if run == 5:\n",
    "#             popsim = 100000\n",
    "#             ratesim = 0.003   \n",
    "        \n",
    "        \n",
    "###      model  pop = const_a + inip * exp(inir * x)   when x<1000, when x =1000, pop = known pop, 2 parameters          \n",
    "        \n",
    "        inipopsimlist.append(popsim)\n",
    "        iniratesimlist.append(ratesim)\n",
    "        \n",
    "        \n",
    "        demo_model = msprime.Demography.isolated_model([popsim], growth_rate=[ratesim])\n",
    "        demo_model.add_population_parameters_change(800,  initial_size=None, growth_rate=0, population=None)\n",
    "        if ratesim < 0.0001:\n",
    "            demo_model.add_population_parameters_change(10000,  initial_size=None, growth_rate=0.0001, population=None)\n",
    "\n",
    "\n",
    "\n",
    "#         genpoint = [0*5/5.2,400*5/5.2,800*5/5.2,1200*5/5.2,1600*5/5.2,2000*5/5.2,2400*5/5.2,2800*5/5.2,\\\n",
    "#                     3200*5/5.2,3600*5/5.2,4000*5/5.2,8000*5/5.2,12000*5/5.2,16000*5/5.2,20000*5/5.2]\n",
    "#         inipopsize =[76232*5/5.2, 17400*5/5.2, 4000*5/5.2, 1400*5/5.2, 2200*5/5.2, 2800*5/5.2,3600*5/5.2,\\\n",
    "#                      4400*5/5.2,6000*5/5.2,8000*5/5.2,10000*5/5.2,26800*5/5.2,26800*5/5.2,22000*5/5.2,18000*5/5.2]\n",
    "#         genuse = []\n",
    "#         inipuse = []\n",
    "#         gruse = []\n",
    "#         for i in range(len(genpoint)-1):\n",
    "#             addplist = []\n",
    "#             for j in range(10):\n",
    "#                 addplist.append(genpoint[i] + (genpoint[i+1]-genpoint[i])/10*j)\n",
    "#             genuse = genuse + addplist               \n",
    "#         for i in range(len(inipopsize)-1):\n",
    "#             addplist = []\n",
    "#             for j in range(10):\n",
    "#                 addplist.append(inipopsize[i] + (inipopsize[i+1]-inipopsize[i])/10*j)\n",
    "#             inipuse = inipuse + addplist\n",
    "#         genuse.append(genpoint[len(genpoint)-1])\n",
    "#         inipuse.append(inipopsize[len(inipopsize)-1])\n",
    "\n",
    "        \n",
    "# #         ind1000 = 0\n",
    "# #         for i in range(len(genuse)):\n",
    "# #             if genuse[i]<1000:\n",
    "# #                 ind1000 = i\n",
    "# #         consta = inipuse[ind1000] - popsim*numpy.exp(-ratesim*1000)          \n",
    "        \n",
    "# #         for i in range(len(genuse)):\n",
    "# #             if genuse[i]<1000:\n",
    "# #                 inipuse[i] = consta + popsim*numpy.exp(-ratesim*genuse[i]) \n",
    "# #         for i in range(len(genuse)-1):\n",
    "# #             gruse.append( numpy.log( inipuse[i]/inipuse[i+1] )/(genuse[i+1] - genuse[i])  )\n",
    "# #         gruse.append(0)\n",
    "        \n",
    "# #         current_pop.append( consta + popsim)\n",
    "# #         if consta+popsim <1000:\n",
    "# #             demo_model = msprime.Demography.isolated_model([1000], growth_rate=[0.001])\n",
    "# #         else:\n",
    "# #             demo_model = msprime.Demography.isolated_model([inipuse[0]], growth_rate=[gruse[0]])\n",
    "# #             for i in range(1,len(genuse)):\n",
    "# #                 demo_model.add_population_parameters_change(genuse[i],  initial_size=inipuse[i], growth_rate=gruse[i], population=None)\n",
    "\n",
    "#         for i in range(len(genuse)-1):\n",
    "#             gruse.append( numpy.log( inipuse[i]/inipuse[i+1] )/(genuse[i+1] - genuse[i])  )\n",
    "#         gruse.append(0)\n",
    "        \n",
    "#         demo_model = msprime.Demography.isolated_model([inipuse[0]], growth_rate=[gruse[0]])\n",
    "#         for i in range(1,len(genuse)):\n",
    "#             demo_model.add_population_parameters_change(genuse[i],  initial_size=inipuse[i], growth_rate=gruse[i], population=None)\n",
    "\n",
    "\n",
    "\n",
    "\n",
    "\n",
    "############################################################\n",
    "\n",
    "        ts = msprime.sim_ancestry(\n",
    "            samples=sam_size,\n",
    "            recombination_rate= r, \n",
    "            sequence_length= seq_len,\n",
    "            record_provenance=False,\n",
    "#             population_size = pop_size,\n",
    "#             gene_conversion_rate = gene_conver ,\n",
    "#             gene_conversion_tract_length = track_len,\n",
    "            #random_seed =seed,\n",
    "            #discrete_genome=False\n",
    "            demography = demo_model\n",
    "            )\n",
    "        # Visualise the simulated ancestral history.\n",
    "        #SVG(ts.draw_svg())\n",
    "\n",
    "        #ts.num_trees\n",
    "        \n",
    "        print(\"done gene\")\n",
    "\n",
    "        mts = msprime.sim_mutations(ts, rate = mu,\n",
    "                                    #discrete_genome=False,\n",
    "                                    #random_seed=seed\n",
    "                                  )\n",
    "\n",
    "        print(\"done mu\")\n",
    "\n",
    "        sample_data = tsinfer.SampleData.from_tree_sequence(mts, use_sites_time=None, use_individuals_time=None)\n",
    "\n",
    "    \n",
    "        sitefreq = numpy.sum(sample_data.sites_genotypes,1)\n",
    "        siteuse =  numpy.where( (sitefreq>freqconsider[0] ) * ( sitefreq<freqconsider[1] ) )[0]  \n",
    "        print(\"siteuse_sim\",len(siteuse))\n",
    "        datause = sample_data.subset(sites = siteuse)\n",
    "        inferred_ts = tsinfer.infer(datause,path_compression=False)\n",
    "\n",
    "#         inferred_ts = tsinfer.infer(sample_data,path_compression=False)\n",
    "\n",
    "\n",
    "\n",
    "\n",
    "        mts = inferred_ts\n",
    "\n",
    "        ###############################################################################\n",
    "        msites = mts.tables.mutations.site\n",
    "        sitepos = mts.tables.sites.position\n",
    "        mpos = []\n",
    "        for i in range(len(msites)):\n",
    "            cursite = msites[i]\n",
    "            mpos.append(sitepos[cursite])\n",
    "        mpos = numpy.array(mpos)\n",
    "        mnodes = mts.tables.mutations.node\n",
    "        ec = mts.tables.edges.child\n",
    "        ep = mts.tables.edges.parent\n",
    "        el = mts.tables.edges.left\n",
    "        er = mts.tables.edges.right\n",
    "\n",
    "\n",
    "        leftmost = min(el)\n",
    "        rightmost = max(er)\n",
    "        for i in range(len(el)):\n",
    "            if el[i] == leftmost:\n",
    "                el[i] = 0\n",
    "            if er[i] == rightmost:\n",
    "                er[i] = seq_len\n",
    "\n",
    "\n",
    "        if len(mpos) == 0:\n",
    "            mpos_sn = []\n",
    "            mnodes_sn = []\n",
    "        else:\n",
    "            mnp_sn = numpy.transpose(sorted(numpy.transpose(numpy.array([mnodes,mpos])).tolist()))\n",
    "            mnodes_sn = mnp_sn[0]\n",
    "            mpos_sn = mnp_sn[1]\n",
    "\n",
    "        eclrp_sc = numpy.transpose(sorted(numpy.transpose(numpy.array([ec,el,er,ep])).tolist()))\n",
    "        ec_sc = eclrp_sc[0]\n",
    "        el_sc = eclrp_sc[1]\n",
    "        er_sc = eclrp_sc[2]\n",
    "        ep_sc = eclrp_sc[3]\n",
    "        enm_sc = [[] for i in range(len(ec_sc))]\n",
    "\n",
    "        curedge = 0\n",
    "        for i in range(len(mnodes_sn)):\n",
    "            curnodemu = mnodes_sn[i] \n",
    "            cursitemu = mpos_sn[i]\n",
    "            for j in range(curedge,len(ec_sc)):\n",
    "                if curnodemu == ec_sc[j]:\n",
    "\n",
    "                    if er_sc[j] > cursitemu and el_sc[j] <= cursitemu:\n",
    "\n",
    "                        enm_sc[j].append(cursitemu)  \n",
    "\n",
    "                        curedge = j\n",
    "                        break\n",
    "                    if el_sc[j] > cursitemu:\n",
    "                        curedge = j\n",
    "                        break\n",
    "\n",
    "                if ec_sc[j] > mnodes_sn[i] or j == len(ec_sc)-1:\n",
    "                    #print(\"missing mutations\")\n",
    "                    curedge = j\n",
    "                    break\n",
    "\n",
    "\n",
    "\n",
    "\n",
    "        ###########################################################################\n",
    "        ###########################################################################\n",
    "        ##########################################################################\n",
    "\n",
    "        clocate = []\n",
    "        curc = -1\n",
    "        for i in range(len(ec_sc)):\n",
    "            while ec_sc[i] != curc:\n",
    "                curc=curc+1\n",
    "                clocate.append(i)\n",
    "        clocate.append(len(ec_sc))\n",
    "\n",
    "\n",
    "\n",
    "\n",
    "        abdlist = []\n",
    "\n",
    "        for i in range(0,2*sam_size-1):\n",
    "            for j in range(i+1,i+2):\n",
    "                canabd = []\n",
    "                curleft = 0\n",
    "                curright =seq_len\n",
    "                #start = 0\n",
    "                while curleft != seq_len:\n",
    "                    curp1 = i\n",
    "                    curp2 = j \n",
    "                    curmed = []\n",
    "                    while curp1 != curp2:\n",
    "                        if curp1 < curp2:\n",
    "                            begin1 = clocate[curp1]\n",
    "                            end = clocate[curp1+1]\n",
    "                            s_range = el_sc[begin1:end]\n",
    "                            begin2 = find_s_se(curleft,s_range)\n",
    "                            for k in range(begin1+begin2,end):\n",
    "                                if el_sc[k]<=curleft and er_sc[k] > curleft:\n",
    "                                    curp1 = int(ep_sc[k])\n",
    "                                    curoldr = curright\n",
    "                                    curright = min(er_sc[k],curright)\n",
    "\n",
    "                                    curmed.append(k)\n",
    "\n",
    "                                    break\n",
    "\n",
    "                        else:\n",
    "                            begin1 = clocate[curp2]\n",
    "                            end = clocate[curp2+1]\n",
    "                            s_range = el_sc[begin1:end]\n",
    "                            begin2 = find_s_se(curleft,s_range)\n",
    "                            for k in range(begin1+begin2,end):\n",
    "                                if el_sc[k]<=curleft and er_sc[k] > curleft:\n",
    "                                    curp2 = int(ep_sc[k])\n",
    "                                    curoldr = curright\n",
    "                                    curright = min(er_sc[k],curright) \n",
    "\n",
    "                                    curmed.append(k)\n",
    "\n",
    "                                    break\n",
    "\n",
    "                    canmution = []\n",
    "                    for k in range(len(curmed)):\n",
    "                        edgemu = enm_sc[curmed[k]]\n",
    "                        startt = find_s_s(curleft,edgemu)\n",
    "                        endd = find_s_s(curright,edgemu)                    \n",
    "                        canmution = canmution + edgemu[startt:endd] \n",
    "\n",
    "                    canabd.append([i,j,curleft,curright,curp1,canmution])\n",
    "                    curleft = curright\n",
    "                    curright = seq_len\n",
    "\n",
    "\n",
    "\n",
    "\n",
    "\n",
    "                if len(canabd)==1:\n",
    "                    abdlist = abdlist + canabd\n",
    "                else:\n",
    "                    curabd = [canabd[0][0],canabd[0][1],canabd[0][2],canabd[0][3],canabd[0][4],canabd[0][5]]\n",
    "                    for k in range(1,len(canabd)):\n",
    "                        if canabd[k][4] != canabd[k-1][4]:\n",
    "                            abdlist.append(curabd)\n",
    "                            curabd = [canabd[k][0],canabd[k][1],canabd[k][2],canabd[k][3],canabd[k][4],canabd[k][5]]\n",
    "                        else:\n",
    "                            curabd[3] = canabd[k][3]\n",
    "                            curabd[5] = curabd[5] + canabd[k][5]\n",
    "                        if k == len(canabd)-1:\n",
    "                            abdlist.append(curabd)\n",
    "\n",
    "\n",
    "    #             print(\"abdlist sample:\",i)\n",
    "        print(\"numibd\",len(abdlist))\n",
    "\n",
    "        abduse = abdlist\n",
    "\n",
    "\n",
    "        lenlist = numpy.zeros(len(abduse))\n",
    "        for i in range(len(abduse)):\n",
    "            lenlist[i] = abduse[i][3] - abduse[i][2]\n",
    "\n",
    "        summary_sta1_simlist.append( statistics.mean(lenlist) )\n",
    "        summary_sta2_simlist.append( statistics.stdev(lenlist) )\n",
    "        \n",
    "        print(\"-----------------------------------\")\n",
    "#         print(current_pop )\n",
    "        print(inipopsimlist)\n",
    "        print(iniratesimlist)\n",
    "        print(summary_sta1_simlist,summary_sta1_inf)\n",
    "        print(summary_sta2_simlist,summary_sta2_inf)\n",
    "        print(time.time()-stime, run)\n",
    "        print(\"-----------------------------------\")\n",
    "\n",
    "\n",
    "\n",
    "# byrun = 1\n",
    "# name1 = \"b_ne_realpopsimall_\"+\"run=\"+str(byrun) +\"JPT_efibd.dat\"\n",
    "# name2 = \"b_ne_realratesimall_\"+\"run=\"+str(byrun) +\"JPT_efibd.dat\"\n",
    "# name3 = \"b_ne_realsta1simall_\"+\"run=\"+str(byrun) +\"JPT_efibd.dat\"\n",
    "# name4 = \"b_ne_realsta2simall_\"+\"run=\"+str(byrun) +\"JPT_efibd.dat\"\n",
    "# name5 = \"b_ne_realsta1inf_\"+\"run=\"+str(byrun) +\"JPT_efibd.dat\"\n",
    "# name6 = \"b_ne_realsta2inf_\"+\"run=\"+str(byrun) +\"JPT_efibd.dat\"\n",
    "\n",
    "# file = open(name1,\"wb\") \n",
    "# pickle.dump(inipopsimlist,file)\n",
    "# file.close()\n",
    "\n",
    "# file = open(name2,\"wb\") \n",
    "# pickle.dump(iniratesimlist,file)\n",
    "# file.close()\n",
    "\n",
    "# file = open(name3,\"wb\") \n",
    "# pickle.dump(summary_sta1_simlist,file)\n",
    "# file.close()\n",
    "\n",
    "# file = open(name4,\"wb\") \n",
    "# pickle.dump(summary_sta2_simlist,file)\n",
    "# file.close()\n",
    "\n",
    "# file = open(name5,\"wb\") \n",
    "# pickle.dump(summary_sta1_inf,file)\n",
    "# file.close()\n",
    "\n",
    "# file = open(name6,\"wb\") \n",
    "# pickle.dump(summary_sta2_inf,file)\n",
    "# file.close()\n"
   ]
  },
  {
   "cell_type": "code",
   "execution_count": 5,
   "id": "67b8128b",
   "metadata": {},
   "outputs": [
    {
     "data": {
      "text/plain": [
       "44091.58084728074"
      ]
     },
     "execution_count": 5,
     "metadata": {},
     "output_type": "execute_result"
    }
   ],
   "source": [
    "popsim"
   ]
  },
  {
   "cell_type": "code",
   "execution_count": 24,
   "id": "b0082f4a",
   "metadata": {},
   "outputs": [
    {
     "data": {
      "text/plain": [
       "36143.18208230274"
      ]
     },
     "execution_count": 24,
     "metadata": {},
     "output_type": "execute_result"
    }
   ],
   "source": [
    "267064*numpy.exp(-0.0001*20000)"
   ]
  },
  {
   "cell_type": "code",
   "execution_count": 6,
   "id": "18132dc1",
   "metadata": {},
   "outputs": [
    {
     "data": {
      "text/plain": [
       "-0.0005321602431124441"
      ]
     },
     "execution_count": 6,
     "metadata": {},
     "output_type": "execute_result"
    }
   ],
   "source": [
    "ratesim"
   ]
  },
  {
   "cell_type": "code",
   "execution_count": 8,
   "id": "ac11f493",
   "metadata": {},
   "outputs": [
    {
     "data": {
      "text/plain": [
       "71907.62441930051"
      ]
     },
     "execution_count": 8,
     "metadata": {},
     "output_type": "execute_result"
    }
   ],
   "source": [
    "44091*numpy.exp(0.00053*1000) -3000"
   ]
  },
  {
   "cell_type": "code",
   "execution_count": 3,
   "id": "c67cdbfe",
   "metadata": {},
   "outputs": [
    {
     "data": {
      "text/plain": [
       "0.8125"
      ]
     },
     "execution_count": 3,
     "metadata": {},
     "output_type": "execute_result"
    }
   ],
   "source": [
    "39/48"
   ]
  },
  {
   "cell_type": "code",
   "execution_count": 11,
   "id": "c7585001",
   "metadata": {},
   "outputs": [
    {
     "data": {
      "text/plain": [
       "[0.0,\n",
       " 38.46153846153846,\n",
       " 76.92307692307692,\n",
       " 115.38461538461539,\n",
       " 153.84615384615384,\n",
       " 192.3076923076923,\n",
       " 230.76923076923077,\n",
       " 269.2307692307692,\n",
       " 307.6923076923077,\n",
       " 346.15384615384613,\n",
       " 384.6153846153846,\n",
       " 423.07692307692304,\n",
       " 461.5384615384615,\n",
       " 500.0,\n",
       " 538.4615384615385,\n",
       " 576.9230769230769,\n",
       " 615.3846153846154,\n",
       " 653.8461538461538,\n",
       " 692.3076923076923,\n",
       " 730.7692307692307,\n",
       " 769.2307692307692,\n",
       " 807.6923076923076,\n",
       " 846.1538461538461,\n",
       " 884.6153846153845,\n",
       " 923.0769230769231,\n",
       " 961.5384615384614,\n",
       " 1000.0,\n",
       " 1038.4615384615386,\n",
       " 1076.923076923077,\n",
       " 1115.3846153846152,\n",
       " 1153.8461538461538,\n",
       " 1192.3076923076924,\n",
       " 1230.7692307692307,\n",
       " 1269.230769230769,\n",
       " 1307.6923076923076,\n",
       " 1346.1538461538462,\n",
       " 1384.6153846153845,\n",
       " 1423.0769230769229,\n",
       " 1461.5384615384614,\n",
       " 1500.0,\n",
       " 1538.4615384615383,\n",
       " 1576.923076923077,\n",
       " 1615.3846153846152,\n",
       " 1653.8461538461538,\n",
       " 1692.3076923076922,\n",
       " 1730.7692307692307,\n",
       " 1769.230769230769,\n",
       " 1807.6923076923076,\n",
       " 1846.1538461538462,\n",
       " 1884.6153846153845,\n",
       " 1923.076923076923,\n",
       " 1961.5384615384614,\n",
       " 2000.0,\n",
       " 2038.4615384615386,\n",
       " 2076.923076923077,\n",
       " 2115.3846153846152,\n",
       " 2153.846153846154,\n",
       " 2192.3076923076924,\n",
       " 2230.7692307692305,\n",
       " 2269.230769230769,\n",
       " 2307.6923076923076,\n",
       " 2346.153846153846,\n",
       " 2384.6153846153848,\n",
       " 2423.076923076923,\n",
       " 2461.5384615384614,\n",
       " 2500.0,\n",
       " 2538.4615384615386,\n",
       " 2576.923076923077,\n",
       " 2615.3846153846152,\n",
       " 2653.846153846154,\n",
       " 2692.3076923076924,\n",
       " 2730.769230769231,\n",
       " 2769.230769230769,\n",
       " 2807.6923076923076,\n",
       " 2846.153846153846,\n",
       " 2884.6153846153848,\n",
       " 2923.076923076923,\n",
       " 2961.5384615384614,\n",
       " 3000.0,\n",
       " 3038.461538461538,\n",
       " 3076.9230769230767,\n",
       " 3115.3846153846152,\n",
       " 3153.846153846154,\n",
       " 3192.307692307692,\n",
       " 3230.7692307692305,\n",
       " 3269.230769230769,\n",
       " 3307.6923076923076,\n",
       " 3346.153846153846,\n",
       " 3384.6153846153843,\n",
       " 3423.076923076923,\n",
       " 3461.5384615384614,\n",
       " 3500.0,\n",
       " 3538.4615384615386,\n",
       " 3576.9230769230767,\n",
       " 3615.3846153846152,\n",
       " 3653.846153846154,\n",
       " 3692.3076923076924,\n",
       " 3730.769230769231,\n",
       " 3769.230769230769,\n",
       " 3807.6923076923076,\n",
       " 3846.153846153846,\n",
       " 4230.7692307692305,\n",
       " 4615.384615384615,\n",
       " 5000.0,\n",
       " 5384.615384615385,\n",
       " 5769.2307692307695,\n",
       " 6153.846153846154,\n",
       " 6538.461538461539,\n",
       " 6923.076923076924,\n",
       " 7307.6923076923085,\n",
       " 7692.307692307692,\n",
       " 8076.923076923077,\n",
       " 8461.538461538461,\n",
       " 8846.153846153846,\n",
       " 9230.76923076923,\n",
       " 9615.384615384615,\n",
       " 10000.0,\n",
       " 10384.615384615383,\n",
       " 10769.230769230768,\n",
       " 11153.846153846152,\n",
       " 11538.461538461537,\n",
       " 11923.076923076922,\n",
       " 12307.692307692307,\n",
       " 12692.307692307691,\n",
       " 13076.923076923076,\n",
       " 13461.538461538461,\n",
       " 13846.153846153846,\n",
       " 14230.76923076923,\n",
       " 14615.384615384615,\n",
       " 15000.0,\n",
       " 15384.615384615385,\n",
       " 15769.23076923077,\n",
       " 16153.846153846154,\n",
       " 16538.46153846154,\n",
       " 16923.076923076922,\n",
       " 17307.69230769231,\n",
       " 17692.30769230769,\n",
       " 18076.923076923078,\n",
       " 18461.53846153846,\n",
       " 18846.153846153848,\n",
       " 19230.76923076923]"
      ]
     },
     "execution_count": 11,
     "metadata": {},
     "output_type": "execute_result"
    }
   ],
   "source": [
    "genuse"
   ]
  },
  {
   "cell_type": "code",
   "execution_count": null,
   "id": "97237ff8",
   "metadata": {},
   "outputs": [],
   "source": []
  }
 ],
 "metadata": {
  "kernelspec": {
   "display_name": "Python 3 (ipykernel)",
   "language": "python",
   "name": "python3"
  },
  "language_info": {
   "codemirror_mode": {
    "name": "ipython",
    "version": 3
   },
   "file_extension": ".py",
   "mimetype": "text/x-python",
   "name": "python",
   "nbconvert_exporter": "python",
   "pygments_lexer": "ipython3",
   "version": "3.9.12"
  }
 },
 "nbformat": 4,
 "nbformat_minor": 5
}
